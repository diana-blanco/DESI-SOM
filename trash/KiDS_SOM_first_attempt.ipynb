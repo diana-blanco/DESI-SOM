{
 "cells": [
  {
   "cell_type": "markdown",
   "id": "f1683669-d018-4ccb-91b6-1f2d514e2bb9",
   "metadata": {},
   "source": [
    "# KiDS-1000 SOM (first attempt, succeeded by `KiDS_SOM.ipynb`)\n",
    "In the following, the KiDS-1000 SOM is recreated. "
   ]
  },
  {
   "cell_type": "code",
   "execution_count": 41,
   "id": "516c1e15-2f89-4266-a013-66dc896c06a0",
   "metadata": {},
   "outputs": [],
   "source": [
    "# import functions\n",
    "from astropy.table import Table\n",
    "import numpy as np"
   ]
  },
  {
   "cell_type": "code",
   "execution_count": null,
   "id": "d5cf8aff-c022-4417-bdd6-327dcf4fb78a",
   "metadata": {},
   "outputs": [],
   "source": []
  },
  {
   "cell_type": "code",
   "execution_count": 27,
   "id": "d2b81814-4a01-4a0c-8e6e-62d43aa28a21",
   "metadata": {},
   "outputs": [
    {
     "name": "stderr",
     "output_type": "stream",
     "text": [
      "/var/folders/0z/gcq4csmx09v81bqd_hmdz6700000gn/T/ipykernel_72824/2451206336.py:7: DeprecationWarning: `np.object` is a deprecated alias for the builtin `object`. To silence this warning, use `object` by itself. Doing this will not modify any behavior and is safe. \n",
      "Deprecated in NumPy 1.20; for more details and guidance: https://numpy.org/devdocs/release/1.20.0-notes.html#deprecations\n",
      "  som = som.astype(np.object);\n"
     ]
    }
   ],
   "source": [
    "# create an empty array (map) with dimensions matching KiDS-1000 SOM\n",
    "\n",
    "# Wright et al. 2020\n",
    "x = 101\n",
    "y = 101\n",
    "som = np.zeros((x,y))\n",
    "som = som.astype(np.object);"
   ]
  },
  {
   "cell_type": "code",
   "execution_count": 28,
   "id": "43ae4847-b64d-4fb2-bf3e-2d6c58d990c6",
   "metadata": {},
   "outputs": [],
   "source": [
    "# read in the code vectors\n",
    "# data path \n",
    "path = '/Users/diana/Research/DESI-SOM/data/KiDS'\n",
    "\n",
    "# import data\n",
    "KiDS1000_cv_table = Table.read(f'{path}/K1000_Spec_Train_Adapt_SOM_codebook.csv')"
   ]
  },
  {
   "cell_type": "code",
   "execution_count": 29,
   "id": "9de66d27-92c9-4b08-9aee-4e33dce78309",
   "metadata": {},
   "outputs": [],
   "source": [
    "# populate each cell in the array with the corresponding vector\n",
    "ii = 0\n",
    "for iy, ix in np.ndindex(som.shape): \n",
    "    som[iy, ix] = np.array(KiDS1000_cv_table[ii])\n",
    "    ii+=1"
   ]
  },
  {
   "cell_type": "code",
   "execution_count": 33,
   "id": "2955ea4a-b05e-4271-90ae-0c7760316056",
   "metadata": {},
   "outputs": [],
   "source": [
    "# open up KiDS-1000 catalog\n",
    "# data path \n",
    "path = '/Users/diana/Research/DESI-SOM/data/KiDS'\n",
    "# import data\n",
    "kids_wide_table = Table.read(f'{path}/KiDS_DR4.1_ugriZYJHKs_SOM_gold_WL_cat_basicinfo.fits', format = 'fits')"
   ]
  },
  {
   "cell_type": "code",
   "execution_count": 36,
   "id": "680aecb3-9d10-4a0a-84e0-4924a95f813b",
   "metadata": {},
   "outputs": [
    {
     "name": "stdout",
     "output_type": "stream",
     "text": [
      "SeqNr    SLID    SID  ... FLUX_GAAP_Ks FLUXERR_GAAP_Ks FLAG_GAAP_Ks\n",
      "                      ...      ct             ct                   \n",
      "------ -------- ----- ... ------------ --------------- ------------\n",
      "     1 55071011  7667 ...       924.59           943.0            0\n",
      "     4 55071011  8473 ...      27658.0          1100.0            0\n",
      "     5 55071011  8828 ...       5169.6          1030.0            0\n",
      "     7 55071011  9411 ...       856.37           971.0            0\n",
      "    10 55071011 97551 ...     9032.558         702.219            0\n",
      "    11 55071011 97642 ...    1937.3966       689.23914            0\n",
      "    13 55071011 97880 ...      6173.27       704.21655            0\n",
      "   ...      ...   ... ...          ...             ...          ...\n",
      "193389 55059381 53703 ...    1391.9576        517.3397            0\n",
      "193392 55059381 53932 ...    15474.708       521.16534            0\n",
      "193395 55059381 54466 ...    4994.4717       509.45398            0\n",
      "193396 55059381 54482 ...    1682.2101        517.3397            0\n",
      "193398 55059381 54505 ...    6554.8984       542.34186            0\n",
      "193400 55059381 54565 ...    2303.4014         527.446            0\n",
      "193401 55059381 54588 ...    2642.6387       569.76624            0\n",
      "Length = 122412 rows\n"
     ]
    }
   ],
   "source": [
    "# take a subsample of the KiDS-1000 catalog, maybe 12 * however many cells we have\n",
    "n_sample = x * y * 12\n",
    "kids_wide_sample_table = kids_wide_table[0:n_sample]"
   ]
  },
  {
   "cell_type": "code",
   "execution_count": 42,
   "id": "d456c032-9d2a-4703-aa73-c4d21c6fbe1c",
   "metadata": {},
   "outputs": [],
   "source": [
    "# obtain colors for each of these, based on KiDS-1000 SOM \n",
    "# (there is probably a better way to code this...) (re-work)\n",
    "# add columns with colors\n",
    "kids_wide_sample_table['MAG_GAAP_u-MAG_GAAP_g'] = kids_wide_sample_table['MAG_GAAP_u'] - kids_wide_sample_table['MAG_GAAP_g']\n",
    "kids_wide_sample_table['MAG_GAAP_u-MAG_GAAP_r'] = kids_wide_sample_table['MAG_GAAP_u'] - kids_wide_sample_table['MAG_GAAP_r']\n",
    "kids_wide_sample_table['MAG_GAAP_g-MAG_GAAP_r'] = kids_wide_sample_table['MAG_GAAP_g'] - kids_wide_sample_table['MAG_GAAP_r']\n",
    "kids_wide_sample_table['MAG_GAAP_u-MAG_GAAP_i'] = kids_wide_sample_table['MAG_GAAP_u'] - kids_wide_sample_table['MAG_GAAP_i']\n",
    "kids_wide_sample_table['MAG_GAAP_g-MAG_GAAP_i'] = kids_wide_sample_table['MAG_GAAP_g'] - kids_wide_sample_table['MAG_GAAP_i']\n",
    "kids_wide_sample_table['MAG_GAAP_r-MAG_GAAP_i'] = kids_wide_sample_table['MAG_GAAP_r'] - kids_wide_sample_table['MAG_GAAP_i']\n",
    "kids_wide_sample_table['MAG_GAAP_u-MAG_GAAP_Z'] = kids_wide_sample_table['MAG_GAAP_u'] - kids_wide_sample_table['MAG_GAAP_Z']\n",
    "kids_wide_sample_table['MAG_GAAP_g-MAG_GAAP_Z'] = kids_wide_sample_table['MAG_GAAP_g'] - kids_wide_sample_table['MAG_GAAP_Z']\n",
    "kids_wide_sample_table['MAG_GAAP_r-MAG_GAAP_Z'] = kids_wide_sample_table['MAG_GAAP_r'] - kids_wide_sample_table['MAG_GAAP_Z']\n",
    "kids_wide_sample_table['MAG_GAAP_i-MAG_GAAP_Z'] = kids_wide_sample_table['MAG_GAAP_i'] - kids_wide_sample_table['MAG_GAAP_Z']\n",
    "kids_wide_sample_table['MAG_GAAP_u-MAG_GAAP_Y'] = kids_wide_sample_table['MAG_GAAP_u'] - kids_wide_sample_table['MAG_GAAP_Y']\n",
    "kids_wide_sample_table['MAG_GAAP_g-MAG_GAAP_Y'] = kids_wide_sample_table['MAG_GAAP_g'] - kids_wide_sample_table['MAG_GAAP_Y']\n",
    "kids_wide_sample_table['MAG_GAAP_r-MAG_GAAP_Y'] = kids_wide_sample_table['MAG_GAAP_r'] - kids_wide_sample_table['MAG_GAAP_Y']\n",
    "kids_wide_sample_table['MAG_GAAP_i-MAG_GAAP_Y'] = kids_wide_sample_table['MAG_GAAP_i'] - kids_wide_sample_table['MAG_GAAP_Y']\n",
    "kids_wide_sample_table['MAG_GAAP_Z-MAG_GAAP_Y'] = kids_wide_sample_table['MAG_GAAP_Z'] - kids_wide_sample_table['MAG_GAAP_Y']\n",
    "kids_wide_sample_table['MAG_GAAP_u-MAG_GAAP_J'] = kids_wide_sample_table['MAG_GAAP_u'] - kids_wide_sample_table['MAG_GAAP_J']\n",
    "kids_wide_sample_table['MAG_GAAP_g-MAG_GAAP_J'] = kids_wide_sample_table['MAG_GAAP_g'] - kids_wide_sample_table['MAG_GAAP_J']\n",
    "kids_wide_sample_table['MAG_GAAP_r-MAG_GAAP_J'] = kids_wide_sample_table['MAG_GAAP_r'] - kids_wide_sample_table['MAG_GAAP_J']\n",
    "kids_wide_sample_table['MAG_GAAP_i-MAG_GAAP_J'] = kids_wide_sample_table['MAG_GAAP_i'] - kids_wide_sample_table['MAG_GAAP_J']\n",
    "kids_wide_sample_table['MAG_GAAP_Z-MAG_GAAP_J'] = kids_wide_sample_table['MAG_GAAP_Z'] - kids_wide_sample_table['MAG_GAAP_J']\n",
    "kids_wide_sample_table['MAG_GAAP_Y-MAG_GAAP_J'] = kids_wide_sample_table['MAG_GAAP_Y'] - kids_wide_sample_table['MAG_GAAP_J']\n",
    "kids_wide_sample_table['MAG_GAAP_u-MAG_GAAP_H'] = kids_wide_sample_table['MAG_GAAP_u'] - kids_wide_sample_table['MAG_GAAP_H']\n",
    "kids_wide_sample_table['MAG_GAAP_g-MAG_GAAP_H'] = kids_wide_sample_table['MAG_GAAP_g'] - kids_wide_sample_table['MAG_GAAP_H']\n",
    "kids_wide_sample_table['MAG_GAAP_r-MAG_GAAP_H'] = kids_wide_sample_table['MAG_GAAP_r'] - kids_wide_sample_table['MAG_GAAP_H']\n",
    "kids_wide_sample_table['MAG_GAAP_i-MAG_GAAP_H'] = kids_wide_sample_table['MAG_GAAP_i'] - kids_wide_sample_table['MAG_GAAP_H']\n",
    "kids_wide_sample_table['MAG_GAAP_Z-MAG_GAAP_H'] = kids_wide_sample_table['MAG_GAAP_Z'] - kids_wide_sample_table['MAG_GAAP_H']\n",
    "kids_wide_sample_table['MAG_GAAP_Y-MAG_GAAP_H'] = kids_wide_sample_table['MAG_GAAP_Y'] - kids_wide_sample_table['MAG_GAAP_H']\n",
    "kids_wide_sample_table['MAG_GAAP_J-MAG_GAAP_H'] = kids_wide_sample_table['MAG_GAAP_J'] - kids_wide_sample_table['MAG_GAAP_H']\n",
    "kids_wide_sample_table['MAG_GAAP_u-MAG_GAAP_Ks'] = kids_wide_sample_table['MAG_GAAP_u'] - kids_wide_sample_table['MAG_GAAP_Ks']\n",
    "kids_wide_sample_table['MAG_GAAP_g-MAG_GAAP_Ks'] = kids_wide_sample_table['MAG_GAAP_g'] - kids_wide_sample_table['MAG_GAAP_Ks']\n",
    "kids_wide_sample_table['MAG_GAAP_r-MAG_GAAP_Ks'] = kids_wide_sample_table['MAG_GAAP_r'] - kids_wide_sample_table['MAG_GAAP_Ks']\n",
    "kids_wide_sample_table['MAG_GAAP_i-MAG_GAAP_Ks'] = kids_wide_sample_table['MAG_GAAP_i'] - kids_wide_sample_table['MAG_GAAP_Ks']\n",
    "kids_wide_sample_table['MAG_GAAP_Z-MAG_GAAP_Ks'] = kids_wide_sample_table['MAG_GAAP_Z'] - kids_wide_sample_table['MAG_GAAP_Ks']\n",
    "kids_wide_sample_table['MAG_GAAP_Y-MAG_GAAP_Ks'] = kids_wide_sample_table['MAG_GAAP_Y'] -kids_wide_sample_table['MAG_GAAP_Ks']\n",
    "kids_wide_sample_table['MAG_GAAP_J-MAG_GAAP_Ks'] = kids_wide_sample_table['MAG_GAAP_J'] - kids_wide_sample_table['MAG_GAAP_Ks']\n",
    "kids_wide_sample_table['MAG_GAAP_H-MAG_GAAP_Ks'] = kids_wide_sample_table['MAG_GAAP_H'] - kids_wide_sample_table['MAG_GAAP_Ks']"
   ]
  },
  {
   "cell_type": "code",
   "execution_count": 45,
   "id": "39625fb4-96ce-43bc-b644-ba3c2be4a3ec",
   "metadata": {},
   "outputs": [
    {
     "data": {
      "text/html": [
       "<div><i>Table length=37</i>\n",
       "<table id=\"table4533725168\" class=\"table-striped table-bordered table-condensed\">\n",
       "<thead><tr><th>Factor</th><th>Median</th><th>nMAD</th></tr></thead>\n",
       "<thead><tr><th>str22</th><th>float64</th><th>float64</th></tr></thead>\n",
       "<tr><td>MAG_GAAP_u-MAG_GAAP_g</td><td>0.480890000000002</td><td>0.543758376000004</td></tr>\n",
       "<tr><td>MAG_GAAP_u-MAG_GAAP_r</td><td>1.1602155</td><td>0.791523816299998</td></tr>\n",
       "<tr><td>MAG_GAAP_g-MAG_GAAP_r</td><td>0.720766000000001</td><td>0.452766766200005</td></tr>\n",
       "<tr><td>MAG_GAAP_u-MAG_GAAP_i</td><td>1.61013</td><td>0.856019140199998</td></tr>\n",
       "<tr><td>MAG_GAAP_g-MAG_GAAP_i</td><td>1.181369</td><td>0.626316215700001</td></tr>\n",
       "<tr><td>MAG_GAAP_r-MAG_GAAP_i</td><td>0.486989999999999</td><td>0.331303278599995</td></tr>\n",
       "<tr><td>MAG_GAAP_u-MAG_GAAP_Z</td><td>1.94139127368164</td><td>0.910835190914211</td></tr>\n",
       "<tr><td>...</td><td>...</td><td>...</td></tr>\n",
       "<tr><td>MAG_GAAP_r-MAG_GAAP_Ks</td><td>1.75162703924561</td><td>0.996360578848463</td></tr>\n",
       "<tr><td>MAG_GAAP_i-MAG_GAAP_Ks</td><td>1.29524617419434</td><td>0.761792655377783</td></tr>\n",
       "<tr><td>MAG_GAAP_Z-MAG_GAAP_Ks</td><td>0.933600425720215</td><td>0.609883434104919</td></tr>\n",
       "<tr><td>MAG_GAAP_Y-MAG_GAAP_Ks</td><td>0.742292404174805</td><td>0.50839384689331</td></tr>\n",
       "<tr><td>MAG_GAAP_J-MAG_GAAP_Ks</td><td>0.497648239135742</td><td>0.384919255828857</td></tr>\n",
       "<tr><td>MAG_GAAP_H-MAG_GAAP_Ks</td><td>0.267787933349609</td><td>0.280514170646667</td></tr>\n",
       "<tr><td>MAG_AUTO</td><td>22.900007</td><td>1.4701046472</td></tr>\n",
       "</table></div>"
      ],
      "text/plain": [
       "<Table length=37>\n",
       "        Factor               Median             nMAD      \n",
       "        str22               float64           float64     \n",
       "---------------------- ----------------- -----------------\n",
       " MAG_GAAP_u-MAG_GAAP_g 0.480890000000002 0.543758376000004\n",
       " MAG_GAAP_u-MAG_GAAP_r         1.1602155 0.791523816299998\n",
       " MAG_GAAP_g-MAG_GAAP_r 0.720766000000001 0.452766766200005\n",
       " MAG_GAAP_u-MAG_GAAP_i           1.61013 0.856019140199998\n",
       " MAG_GAAP_g-MAG_GAAP_i          1.181369 0.626316215700001\n",
       " MAG_GAAP_r-MAG_GAAP_i 0.486989999999999 0.331303278599995\n",
       " MAG_GAAP_u-MAG_GAAP_Z  1.94139127368164 0.910835190914211\n",
       "                   ...               ...               ...\n",
       "MAG_GAAP_r-MAG_GAAP_Ks  1.75162703924561 0.996360578848463\n",
       "MAG_GAAP_i-MAG_GAAP_Ks  1.29524617419434 0.761792655377783\n",
       "MAG_GAAP_Z-MAG_GAAP_Ks 0.933600425720215 0.609883434104919\n",
       "MAG_GAAP_Y-MAG_GAAP_Ks 0.742292404174805  0.50839384689331\n",
       "MAG_GAAP_J-MAG_GAAP_Ks 0.497648239135742 0.384919255828857\n",
       "MAG_GAAP_H-MAG_GAAP_Ks 0.267787933349609 0.280514170646667\n",
       "              MAG_AUTO         22.900007      1.4701046472"
      ]
     },
     "execution_count": 45,
     "metadata": {},
     "output_type": "execute_result"
    }
   ],
   "source": [
    "# open up whitening parameters... \n",
    "kids_wide_white_table = Table.read(f'{path}/K1000_Spec_Train_Adapt_SOM_whitenparam.csv', format = 'csv')\n",
    "kids_wide_white_table"
   ]
  },
  {
   "cell_type": "code",
   "execution_count": null,
   "id": "e84d2379-5bad-41d4-88ad-44564aca54e6",
   "metadata": {},
   "outputs": [],
   "source": [
    "# reweigh colors according to whitening procedure via brute force (rework more elegantly) \n",
    "kids_wide_sample_table['MAG_GAAP_u-MAG_GAAP_g (whitened)'] = kids_wide_sample_table['MAG_GAAP_u-MAG_GAAP_g'] # unwhiten...\n",
    "kids_wide_sample_table['MAG_GAAP_u-MAG_GAAP_r (whitened)'] = \n",
    "kids_wide_sample_table['MAG_GAAP_g-MAG_GAAP_r (whitened)'] = \n",
    "kids_wide_sample_table['MAG_GAAP_u-MAG_GAAP_i (whitened)'] = \n",
    "kids_wide_sample_table['MAG_GAAP_g-MAG_GAAP_i (whitened)'] = \n",
    "kids_wide_sample_table['MAG_GAAP_r-MAG_GAAP_i (whitened)'] = \n",
    "kids_wide_sample_table['MAG_GAAP_u-MAG_GAAP_Z (whitened)'] = \n",
    "kids_wide_sample_table['MAG_GAAP_g-MAG_GAAP_Z (whitened)'] = \n",
    "kids_wide_sample_table['MAG_GAAP_r-MAG_GAAP_Z (whitened)'] = \n",
    "kids_wide_sample_table['MAG_GAAP_i-MAG_GAAP_Z (whitened)'] = \n",
    "kids_wide_sample_table['MAG_GAAP_u-MAG_GAAP_Y (whitened)'] = \n",
    "kids_wide_sample_table['MAG_GAAP_g-MAG_GAAP_Y (whitened)'] = \n",
    "kids_wide_sample_table['MAG_GAAP_r-MAG_GAAP_Y (whitened)'] = \n",
    "kids_wide_sample_table['MAG_GAAP_i-MAG_GAAP_Y (whitened)'] = \n",
    "kids_wide_sample_table['MAG_GAAP_Z-MAG_GAAP_Y (whitened)'] = \n",
    "kids_wide_sample_table['MAG_GAAP_u-MAG_GAAP_J (whitened)'] = \n",
    "kids_wide_sample_table['MAG_GAAP_g-MAG_GAAP_J (whitened)'] = \n",
    "kids_wide_sample_table['MAG_GAAP_r-MAG_GAAP_J (whitened)'] = \n",
    "kids_wide_sample_table['MAG_GAAP_i-MAG_GAAP_J (whitened)'] = \n",
    "kids_wide_sample_table['MAG_GAAP_Z-MAG_GAAP_J (whitened)'] = \n",
    "kids_wide_sample_table['MAG_GAAP_Y-MAG_GAAP_J (whitened)'] = \n",
    "kids_wide_sample_table['MAG_GAAP_u-MAG_GAAP_H (whitened)'] = \n",
    "kids_wide_sample_table['MAG_GAAP_g-MAG_GAAP_H (whitened)'] = \n",
    "kids_wide_sample_table['MAG_GAAP_r-MAG_GAAP_H (whitened)'] = \n",
    "kids_wide_sample_table['MAG_GAAP_i-MAG_GAAP_H (whitened)'] = \n",
    "kids_wide_sample_table['MAG_GAAP_Z-MAG_GAAP_H (whitened)'] = \n",
    "kids_wide_sample_table['MAG_GAAP_Y-MAG_GAAP_H (whitened)'] = \n",
    "kids_wide_sample_table['MAG_GAAP_J-MAG_GAAP_H (whitened)'] = \n",
    "kids_wide_sample_table['MAG_GAAP_u-MAG_GAAP_Ks (whitened)'] = \n",
    "kids_wide_sample_table['MAG_GAAP_g-MAG_GAAP_Ks (whitened)'] = \n",
    "kids_wide_sample_table['MAG_GAAP_r-MAG_GAAP_Ks (whitened)'] = \n",
    "kids_wide_sample_table['MAG_GAAP_i-MAG_GAAP_Ks (whitened)'] = \n",
    "kids_wide_sample_table['MAG_GAAP_Z-MAG_GAAP_Ks (whitened)'] = \n",
    "kids_wide_sample_table['MAG_GAAP_Y-MAG_GAAP_Ks (whitened)'] = \n",
    "kids_wide_sample_table['MAG_GAAP_J-MAG_GAAP_Ks (whitened)'] = \n",
    "kids_wide_sample_table['MAG_GAAP_H-MAG_GAAP_Ks (whitened)'] = "
   ]
  },
  {
   "cell_type": "code",
   "execution_count": null,
   "id": "ef7099d9-b52f-420b-96d9-95000ab46219",
   "metadata": {},
   "outputs": [],
   "source": []
  },
  {
   "cell_type": "code",
   "execution_count": 5,
   "id": "1e73f61f-f363-4650-ad0e-8377a0390edd",
   "metadata": {},
   "outputs": [],
   "source": [
    "# reweigh colors according to whitenning procedure (is this necessary here)? "
   ]
  },
  {
   "cell_type": "code",
   "execution_count": null,
   "id": "5ce94d9d-4d1a-4bf8-a35b-de8a87b1f987",
   "metadata": {},
   "outputs": [],
   "source": [
    "# create a loop that checks the distance of each data to the cells.. "
   ]
  }
 ],
 "metadata": {
  "kernelspec": {
   "display_name": "Python 3 (ipykernel)",
   "language": "python",
   "name": "python3"
  },
  "language_info": {
   "codemirror_mode": {
    "name": "ipython",
    "version": 3
   },
   "file_extension": ".py",
   "mimetype": "text/x-python",
   "name": "python",
   "nbconvert_exporter": "python",
   "pygments_lexer": "ipython3",
   "version": "3.8.9"
  }
 },
 "nbformat": 4,
 "nbformat_minor": 5
}
