{
 "cells": [
  {
   "cell_type": "markdown",
   "id": "8f48d051-9d39-40e1-8664-ebbcda4c3944",
   "metadata": {},
   "source": [
    "# The Official Scratchpad\n",
    "Where Diana tests things. Including very silly things."
   ]
  },
  {
   "cell_type": "code",
   "execution_count": 1,
   "id": "5adb851c-f2a8-4602-ae7e-4c4937ab5e22",
   "metadata": {},
   "outputs": [
    {
     "name": "stdout",
     "output_type": "stream",
     "text": [
      "3\n"
     ]
    }
   ],
   "source": [
    "n_plots = sum([True,True,True])\n",
    "print(n_plots)"
   ]
  },
  {
   "cell_type": "code",
   "execution_count": 2,
   "id": "caccc888-274b-4297-930e-89d21a1261b7",
   "metadata": {},
   "outputs": [],
   "source": [
    "n_cols = 2\n",
    "n_rows = n_plots // n_cols"
   ]
  },
  {
   "cell_type": "code",
   "execution_count": 3,
   "id": "90db992a-64af-420e-aff2-1379182f27a0",
   "metadata": {},
   "outputs": [],
   "source": [
    "n_rows += n_plots % n_cols"
   ]
  },
  {
   "cell_type": "code",
   "execution_count": 4,
   "id": "84b93338-d300-43df-9975-889e974da6c1",
   "metadata": {},
   "outputs": [
    {
     "data": {
      "text/plain": [
       "2"
      ]
     },
     "execution_count": 4,
     "metadata": {},
     "output_type": "execute_result"
    }
   ],
   "source": [
    "n_rows"
   ]
  },
  {
   "cell_type": "code",
   "execution_count": 5,
   "id": "233531bd-a6fb-4e4d-b42d-b5e8fb13b20c",
   "metadata": {},
   "outputs": [
    {
     "data": {
      "text/plain": [
       "1"
      ]
     },
     "execution_count": 5,
     "metadata": {},
     "output_type": "execute_result"
    }
   ],
   "source": [
    "n_plots % n_cols"
   ]
  },
  {
   "cell_type": "code",
   "execution_count": 6,
   "id": "9b9edd1f-59e7-4e33-a56d-26ff267c149b",
   "metadata": {},
   "outputs": [],
   "source": [
    "test_list = []\n",
    "\n",
    "x = 0 \n",
    "if x == 0: \n",
    "    test_list.append('mew')\n",
    "y = 1\n",
    "if y == 1: \n",
    "    test_list.append('bark')\n",
    "z = 2\n",
    "if z == 2: \n",
    "    test_list.append('moo')"
   ]
  },
  {
   "cell_type": "code",
   "execution_count": 7,
   "id": "74c4ead7-7352-433f-8c33-4b12488c4443",
   "metadata": {},
   "outputs": [
    {
     "data": {
      "text/plain": [
       "['mew', 'bark', 'moo']"
      ]
     },
     "execution_count": 7,
     "metadata": {},
     "output_type": "execute_result"
    }
   ],
   "source": [
    "test_list"
   ]
  },
  {
   "cell_type": "code",
   "execution_count": null,
   "id": "f5d5dc69-3c81-4616-9892-51faf6cb219d",
   "metadata": {},
   "outputs": [],
   "source": []
  },
  {
   "cell_type": "code",
   "execution_count": null,
   "id": "0e854bd6-37f7-4036-854f-3d818d5dc1c9",
   "metadata": {},
   "outputs": [],
   "source": []
  }
 ],
 "metadata": {
  "kernelspec": {
   "display_name": "Python 3 (ipykernel)",
   "language": "python",
   "name": "python3"
  },
  "language_info": {
   "codemirror_mode": {
    "name": "ipython",
    "version": 3
   },
   "file_extension": ".py",
   "mimetype": "text/x-python",
   "name": "python",
   "nbconvert_exporter": "python",
   "pygments_lexer": "ipython3",
   "version": "3.8.9"
  }
 },
 "nbformat": 4,
 "nbformat_minor": 5
}
