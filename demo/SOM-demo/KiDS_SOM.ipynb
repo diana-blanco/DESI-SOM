{
 "cells": [
  {
   "cell_type": "markdown",
   "id": "daa962e2-3ad0-4d5b-88b4-4bb9659b028f",
   "metadata": {},
   "source": [
    "# KiDS SOM\n",
    "In the following, the KiDS-1000 SOM is recreated. "
   ]
  },
  {
   "cell_type": "code",
   "execution_count": 60,
   "id": "ca2f5757-c7dd-490c-840b-4b752cd940ab",
   "metadata": {},
   "outputs": [],
   "source": [
    "# import functions\n",
    "from astropy.table import Table\n",
    "\n",
    "from collections import defaultdict\n",
    "\n",
    "import numpy as np\n",
    "from numpy import unravel_index\n",
    "\n",
    "import sys\n",
    "sys.path.append('/opt/anaconda3/lib/python3.8/site-packages') #minisom location\n",
    "sys.path.append('/Users/diana/Research/DESI-SOM/') #som codes location\n",
    "\n",
    "from som.utils import stack_vertically\n",
    "from som.utils import generate_colors\n",
    "from som.utils import normalize_data\n",
    "from som.soms import generate_som\n",
    "from som.soms import plot_som\n",
    "from som.soms import plot_recreate_som"
   ]
  },
  {
   "cell_type": "code",
   "execution_count": 61,
   "id": "7bc3e774-38f2-4989-ab8c-134d7fb560bc",
   "metadata": {},
   "outputs": [],
   "source": [
    "# create an empty array (som map) with dimensions matching KiDS-1000 SOM\n",
    "\n",
    "# from Wright et al. 2020\n",
    "a = 101\n",
    "b = 101\n",
    "c = 36 # colors"
   ]
  },
  {
   "cell_type": "code",
   "execution_count": 133,
   "id": "64ad5ec2-60f9-4b08-b2dd-3ef58c4c4973",
   "metadata": {},
   "outputs": [],
   "source": [
    "som = np.zeros((a,b));\n",
    "#som = np.zeros((x*y));\n",
    "som = som.astype(object);"
   ]
  },
  {
   "cell_type": "code",
   "execution_count": 134,
   "id": "13dca92c-c8c5-4c5e-9067-2288ac34ce76",
   "metadata": {},
   "outputs": [],
   "source": [
    "# read in the code vectors\n",
    "# data path \n",
    "path = '/Users/diana/Research/DESI-SOM/data/KiDS'\n",
    "\n",
    "# import data\n",
    "KiDS1000_vectors_table = Table.read(f'{path}/K1000_Spec_Train_Adapt_SOM_codebook.csv')"
   ]
  },
  {
   "cell_type": "code",
   "execution_count": 135,
   "id": "e48e39c9-6f78-4642-8f59-b2c45baf7eca",
   "metadata": {},
   "outputs": [
    {
     "data": {
      "text/html": [
       "<i>Row index=0</i>\n",
       "<table id=\"table4553956272\">\n",
       "<thead><tr><th>MAG_GAAP_u-MAG_GAAP_g</th><th>MAG_GAAP_u-MAG_GAAP_r</th><th>MAG_GAAP_g-MAG_GAAP_r</th><th>MAG_GAAP_u-MAG_GAAP_i</th><th>MAG_GAAP_g-MAG_GAAP_i</th><th>MAG_GAAP_r-MAG_GAAP_i</th><th>MAG_GAAP_u-MAG_GAAP_Z</th><th>MAG_GAAP_g-MAG_GAAP_Z</th><th>MAG_GAAP_r-MAG_GAAP_Z</th><th>MAG_GAAP_i-MAG_GAAP_Z</th><th>MAG_GAAP_u-MAG_GAAP_Y</th><th>MAG_GAAP_g-MAG_GAAP_Y</th><th>MAG_GAAP_r-MAG_GAAP_Y</th><th>MAG_GAAP_i-MAG_GAAP_Y</th><th>MAG_GAAP_Z-MAG_GAAP_Y</th><th>MAG_GAAP_u-MAG_GAAP_J</th><th>MAG_GAAP_g-MAG_GAAP_J</th><th>MAG_GAAP_r-MAG_GAAP_J</th><th>MAG_GAAP_i-MAG_GAAP_J</th><th>MAG_GAAP_Z-MAG_GAAP_J</th><th>MAG_GAAP_Y-MAG_GAAP_J</th><th>MAG_GAAP_u-MAG_GAAP_H</th><th>MAG_GAAP_g-MAG_GAAP_H</th><th>MAG_GAAP_r-MAG_GAAP_H</th><th>MAG_GAAP_i-MAG_GAAP_H</th><th>MAG_GAAP_Z-MAG_GAAP_H</th><th>MAG_GAAP_Y-MAG_GAAP_H</th><th>MAG_GAAP_J-MAG_GAAP_H</th><th>MAG_GAAP_u-MAG_GAAP_Ks</th><th>MAG_GAAP_g-MAG_GAAP_Ks</th><th>MAG_GAAP_r-MAG_GAAP_Ks</th><th>MAG_GAAP_i-MAG_GAAP_Ks</th><th>MAG_GAAP_Z-MAG_GAAP_Ks</th><th>MAG_GAAP_Y-MAG_GAAP_Ks</th><th>MAG_GAAP_J-MAG_GAAP_Ks</th><th>MAG_GAAP_H-MAG_GAAP_Ks</th><th>MAG_AUTO</th></tr></thead>\n",
       "<thead><tr><th>float64</th><th>float64</th><th>float64</th><th>float64</th><th>float64</th><th>float64</th><th>float64</th><th>float64</th><th>float64</th><th>float64</th><th>float64</th><th>float64</th><th>float64</th><th>float64</th><th>float64</th><th>float64</th><th>float64</th><th>float64</th><th>float64</th><th>float64</th><th>float64</th><th>float64</th><th>float64</th><th>float64</th><th>float64</th><th>float64</th><th>float64</th><th>float64</th><th>float64</th><th>float64</th><th>float64</th><th>float64</th><th>float64</th><th>float64</th><th>float64</th><th>float64</th><th>float64</th></tr></thead>\n",
       "<tr><td>1.04826952280975</td><td>0.393924343878265</td><td>-0.661809469471903</td><td>0.0868232143921108</td><td>-0.874657219896084</td><td>-0.828707967596517</td><td>-0.0999324652481516</td><td>-0.982991966415917</td><td>-0.980134804844496</td><td>-0.871827214408345</td><td>-0.279642085435292</td><td>-1.07191922931487</td><td>-1.09679723962894</td><td>-1.08935783064595</td><td>-0.915589671515611</td><td>-0.362259179475572</td><td>-1.08085822590041</td><td>-1.10507204815259</td><td>-1.11315618769579</td><td>-1.03929923086552</td><td>-0.607920623476787</td><td>-0.505155953226494</td><td>-1.1265082571906</td><td>-1.2168917869841</td><td>-1.26824003628594</td><td>-1.26574644536768</td><td>-1.12667054799896</td><td>-1.10093291013963</td><td>-0.655896627141717</td><td>-1.23569493891369</td><td>-1.34785615927764</td><td>-1.44265792481209</td><td>-1.48106563753684</td><td>-1.40067264311506</td><td>-1.51956233533845</td><td>-1.10878105624472</td><td>-1.47177073694784</td></tr>\n",
       "</table>"
      ],
      "text/plain": [
       "<Row index=0>\n",
       "MAG_GAAP_u-MAG_GAAP_g MAG_GAAP_u-MAG_GAAP_r MAG_GAAP_g-MAG_GAAP_r MAG_GAAP_u-MAG_GAAP_i MAG_GAAP_g-MAG_GAAP_i MAG_GAAP_r-MAG_GAAP_i MAG_GAAP_u-MAG_GAAP_Z MAG_GAAP_g-MAG_GAAP_Z MAG_GAAP_r-MAG_GAAP_Z MAG_GAAP_i-MAG_GAAP_Z MAG_GAAP_u-MAG_GAAP_Y MAG_GAAP_g-MAG_GAAP_Y MAG_GAAP_r-MAG_GAAP_Y MAG_GAAP_i-MAG_GAAP_Y MAG_GAAP_Z-MAG_GAAP_Y MAG_GAAP_u-MAG_GAAP_J MAG_GAAP_g-MAG_GAAP_J MAG_GAAP_r-MAG_GAAP_J MAG_GAAP_i-MAG_GAAP_J MAG_GAAP_Z-MAG_GAAP_J MAG_GAAP_Y-MAG_GAAP_J MAG_GAAP_u-MAG_GAAP_H MAG_GAAP_g-MAG_GAAP_H MAG_GAAP_r-MAG_GAAP_H MAG_GAAP_i-MAG_GAAP_H MAG_GAAP_Z-MAG_GAAP_H MAG_GAAP_Y-MAG_GAAP_H MAG_GAAP_J-MAG_GAAP_H MAG_GAAP_u-MAG_GAAP_Ks MAG_GAAP_g-MAG_GAAP_Ks MAG_GAAP_r-MAG_GAAP_Ks MAG_GAAP_i-MAG_GAAP_Ks MAG_GAAP_Z-MAG_GAAP_Ks MAG_GAAP_Y-MAG_GAAP_Ks MAG_GAAP_J-MAG_GAAP_Ks MAG_GAAP_H-MAG_GAAP_Ks      MAG_AUTO    \n",
       "       float64               float64               float64               float64               float64               float64               float64               float64               float64               float64               float64               float64               float64               float64               float64               float64               float64               float64               float64               float64               float64               float64               float64               float64               float64               float64               float64               float64               float64                float64                float64                float64                float64                float64                float64                float64              float64     \n",
       "--------------------- --------------------- --------------------- --------------------- --------------------- --------------------- --------------------- --------------------- --------------------- --------------------- --------------------- --------------------- --------------------- --------------------- --------------------- --------------------- --------------------- --------------------- --------------------- --------------------- --------------------- --------------------- --------------------- --------------------- --------------------- --------------------- --------------------- --------------------- ---------------------- ---------------------- ---------------------- ---------------------- ---------------------- ---------------------- ---------------------- ---------------------- -----------------\n",
       "     1.04826952280975     0.393924343878265    -0.661809469471903    0.0868232143921108    -0.874657219896084    -0.828707967596517   -0.0999324652481516    -0.982991966415917    -0.980134804844496    -0.871827214408345    -0.279642085435292     -1.07191922931487     -1.09679723962894     -1.08935783064595    -0.915589671515611    -0.362259179475572     -1.08085822590041     -1.10507204815259     -1.11315618769579     -1.03929923086552    -0.607920623476787    -0.505155953226494      -1.1265082571906      -1.2168917869841     -1.26824003628594     -1.26574644536768     -1.12667054799896     -1.10093291013963     -0.655896627141717      -1.23569493891369      -1.34785615927764      -1.44265792481209      -1.48106563753684      -1.40067264311506      -1.51956233533845      -1.10878105624472 -1.47177073694784"
      ]
     },
     "execution_count": 135,
     "metadata": {},
     "output_type": "execute_result"
    }
   ],
   "source": [
    "# visualize one of the code vectors\n",
    "KiDS1000_vectors_table[0]     # for every cell, contains the every combination of ugriZYJHKs color"
   ]
  },
  {
   "cell_type": "code",
   "execution_count": 145,
   "id": "d2e399ad-e797-4f05-8d10-ff4923d06fcb",
   "metadata": {},
   "outputs": [],
   "source": [
    "# populate each cell in the map with the corresponding vector\n",
    "ii = 0\n",
    "\n",
    "for iy, ix in (np.ndindex(som.shape)): \n",
    "    if ii == int(a*b): # total number of cells \n",
    "        break\n",
    "    som[iy, ix] = np.asarray(KiDS1000_vectors_table[ii])\n",
    "    ii+=1"
   ]
  },
  {
   "cell_type": "code",
   "execution_count": 146,
   "id": "462c1a0e-43f4-469b-aa1f-1c72ab0a94c8",
   "metadata": {},
   "outputs": [],
   "source": [
    "#som = np.lib.recfunctions.structured_to_unstructured(som.as_array())"
   ]
  },
  {
   "cell_type": "code",
   "execution_count": 147,
   "id": "f036bc2b-a7b5-4355-a825-f4acaae8ad6e",
   "metadata": {},
   "outputs": [
    {
     "data": {
      "text/plain": [
       "array((1.04826952, 0.39392434, -0.66180947, 0.08682321, -0.87465722, -0.82870797, -0.09993247, -0.98299197, -0.9801348, -0.87182721, -0.27964209, -1.07191923, -1.09679724, -1.08935783, -0.91558967, -0.36225918, -1.08085823, -1.10507205, -1.11315619, -1.03929923, -0.60792062, -0.50515595, -1.12650826, -1.21689179, -1.26824004, -1.26574645, -1.12667055, -1.10093291, -0.65589663, -1.23569494, -1.34785616, -1.44265792, -1.48106564, -1.40067264, -1.51956234, -1.10878106, -1.47177074),\n",
       "      dtype=[('MAG_GAAP_u-MAG_GAAP_g', '<f8'), ('MAG_GAAP_u-MAG_GAAP_r', '<f8'), ('MAG_GAAP_g-MAG_GAAP_r', '<f8'), ('MAG_GAAP_u-MAG_GAAP_i', '<f8'), ('MAG_GAAP_g-MAG_GAAP_i', '<f8'), ('MAG_GAAP_r-MAG_GAAP_i', '<f8'), ('MAG_GAAP_u-MAG_GAAP_Z', '<f8'), ('MAG_GAAP_g-MAG_GAAP_Z', '<f8'), ('MAG_GAAP_r-MAG_GAAP_Z', '<f8'), ('MAG_GAAP_i-MAG_GAAP_Z', '<f8'), ('MAG_GAAP_u-MAG_GAAP_Y', '<f8'), ('MAG_GAAP_g-MAG_GAAP_Y', '<f8'), ('MAG_GAAP_r-MAG_GAAP_Y', '<f8'), ('MAG_GAAP_i-MAG_GAAP_Y', '<f8'), ('MAG_GAAP_Z-MAG_GAAP_Y', '<f8'), ('MAG_GAAP_u-MAG_GAAP_J', '<f8'), ('MAG_GAAP_g-MAG_GAAP_J', '<f8'), ('MAG_GAAP_r-MAG_GAAP_J', '<f8'), ('MAG_GAAP_i-MAG_GAAP_J', '<f8'), ('MAG_GAAP_Z-MAG_GAAP_J', '<f8'), ('MAG_GAAP_Y-MAG_GAAP_J', '<f8'), ('MAG_GAAP_u-MAG_GAAP_H', '<f8'), ('MAG_GAAP_g-MAG_GAAP_H', '<f8'), ('MAG_GAAP_r-MAG_GAAP_H', '<f8'), ('MAG_GAAP_i-MAG_GAAP_H', '<f8'), ('MAG_GAAP_Z-MAG_GAAP_H', '<f8'), ('MAG_GAAP_Y-MAG_GAAP_H', '<f8'), ('MAG_GAAP_J-MAG_GAAP_H', '<f8'), ('MAG_GAAP_u-MAG_GAAP_Ks', '<f8'), ('MAG_GAAP_g-MAG_GAAP_Ks', '<f8'), ('MAG_GAAP_r-MAG_GAAP_Ks', '<f8'), ('MAG_GAAP_i-MAG_GAAP_Ks', '<f8'), ('MAG_GAAP_Z-MAG_GAAP_Ks', '<f8'), ('MAG_GAAP_Y-MAG_GAAP_Ks', '<f8'), ('MAG_GAAP_J-MAG_GAAP_Ks', '<f8'), ('MAG_GAAP_H-MAG_GAAP_Ks', '<f8'), ('MAG_AUTO', '<f8')])"
      ]
     },
     "execution_count": 147,
     "metadata": {},
     "output_type": "execute_result"
    }
   ],
   "source": [
    "# visualize one of the cells of the populated som map\n",
    "som[0][0]     # for every cell, now contains every combination of ugriZYJHKs color\n",
    "              # this is a tuple though, need to convert to array! "
   ]
  },
  {
   "cell_type": "code",
   "execution_count": 99,
   "id": "bd244b24-c40e-4b96-9edc-1e590a940e8e",
   "metadata": {},
   "outputs": [],
   "source": [
    "# open up KiDS-1000 catalog\n",
    "\n",
    "# data path \n",
    "path = '/Users/diana/Research/DESI-SOM/data/KiDS'\n",
    "\n",
    "# import data\n",
    "kids_wide_table = Table.read(f'{path}/KiDS_DR4.1_ugriZYJHKs_SOM_gold_WL_cat_basicinfo.fits', format = 'fits')"
   ]
  },
  {
   "cell_type": "code",
   "execution_count": 100,
   "id": "eb5ca236-5549-44aa-841b-2be47d66a7b7",
   "metadata": {},
   "outputs": [
    {
     "data": {
      "text/plain": [
       "100"
      ]
     },
     "execution_count": 100,
     "metadata": {},
     "output_type": "execute_result"
    }
   ],
   "source": [
    "# take a subsample of the KiDS-1000 catalog\n",
    "n_sample = 100 # number in sample\n",
    "kids_wide_sample_table = kids_wide_table[0:n_sample]\n",
    "\n",
    "# how large is our subsample?\n",
    "len(kids_wide_sample_table)"
   ]
  },
  {
   "cell_type": "code",
   "execution_count": 101,
   "id": "c0b6e09b-b875-4746-9286-7ea91d8bf4da",
   "metadata": {},
   "outputs": [
    {
     "data": {
      "text/html": [
       "<i>Row index=0</i>\n",
       "<table id=\"table4600801696\">\n",
       "<thead><tr><th>SeqNr</th><th>SLID</th><th>SID</th><th>ID</th><th>MAG_AUTO</th><th>MAGERR_AUTO</th><th>RAJ2000</th><th>DECJ2000</th><th>ALPHA_J2000</th><th>DELTA_J2000</th><th>MAG_GAAP_u</th><th>MAGERR_GAAP_u</th><th>FLUX_GAAP_u</th><th>FLUXERR_GAAP_u</th><th>FLAG_GAAP_u</th><th>MAG_GAAP_g</th><th>MAGERR_GAAP_g</th><th>FLUX_GAAP_g</th><th>FLUXERR_GAAP_g</th><th>FLAG_GAAP_g</th><th>MAG_GAAP_r</th><th>MAGERR_GAAP_r</th><th>FLUX_GAAP_r</th><th>FLUXERR_GAAP_r</th><th>FLAG_GAAP_r</th><th>MAG_GAAP_i</th><th>MAGERR_GAAP_i</th><th>FLUX_GAAP_i</th><th>FLUXERR_GAAP_i</th><th>FLAG_GAAP_i</th><th>MAG_GAAP_Z</th><th>MAGERR_GAAP_Z</th><th>FLUX_GAAP_Z</th><th>FLUXERR_GAAP_Z</th><th>FLAG_GAAP_Z</th><th>MAG_GAAP_Y</th><th>MAGERR_GAAP_Y</th><th>FLUX_GAAP_Y</th><th>FLUXERR_GAAP_Y</th><th>FLAG_GAAP_Y</th><th>MAG_GAAP_J</th><th>MAGERR_GAAP_J</th><th>FLUX_GAAP_J</th><th>FLUXERR_GAAP_J</th><th>FLAG_GAAP_J</th><th>MAG_GAAP_H</th><th>MAGERR_GAAP_H</th><th>FLUX_GAAP_H</th><th>FLUXERR_GAAP_H</th><th>FLAG_GAAP_H</th><th>MAG_GAAP_Ks</th><th>MAGERR_GAAP_Ks</th><th>FLUX_GAAP_Ks</th><th>FLUXERR_GAAP_Ks</th><th>FLAG_GAAP_Ks</th></tr></thead>\n",
       "<thead><tr><th></th><th></th><th></th><th></th><th>mag</th><th>mag</th><th>deg</th><th>deg</th><th>deg</th><th>deg</th><th>mag</th><th>mag</th><th>ct</th><th>ct</th><th></th><th>mag</th><th>mag</th><th>ct</th><th>ct</th><th></th><th>mag</th><th>mag</th><th>ct</th><th>ct</th><th></th><th>mag</th><th>mag</th><th>ct</th><th>ct</th><th></th><th>mag</th><th>mag</th><th>ct</th><th>ct</th><th></th><th>mag</th><th>mag</th><th>ct</th><th>ct</th><th></th><th>mag</th><th>mag</th><th>ct</th><th>ct</th><th></th><th>mag</th><th>mag</th><th>ct</th><th>ct</th><th></th><th>mag</th><th>mag</th><th>ct</th><th>ct</th><th></th></tr></thead>\n",
       "<thead><tr><th>int32</th><th>int32</th><th>int32</th><th>bytes25</th><th>float32</th><th>float32</th><th>float64</th><th>float64</th><th>float64</th><th>float64</th><th>float32</th><th>float32</th><th>float32</th><th>float32</th><th>int16</th><th>float32</th><th>float32</th><th>float32</th><th>float32</th><th>int16</th><th>float32</th><th>float32</th><th>float32</th><th>float32</th><th>int16</th><th>float32</th><th>float32</th><th>float32</th><th>float32</th><th>int16</th><th>float32</th><th>float32</th><th>float32</th><th>float32</th><th>int16</th><th>float32</th><th>float32</th><th>float32</th><th>float32</th><th>int16</th><th>float32</th><th>float32</th><th>float32</th><th>float32</th><th>int16</th><th>float32</th><th>float32</th><th>float32</th><th>float32</th><th>int16</th><th>float32</th><th>float32</th><th>float32</th><th>float32</th><th>int16</th></tr></thead>\n",
       "<tr><td>1</td><td>55071011</td><td>7667</td><td>KIDS_J083427.36-015753.4</td><td>24.96544</td><td>0.2316225</td><td>128.613994</td><td>-1.964857</td><td>128.613994</td><td>-1.964857</td><td>99.0</td><td>6.722888</td><td>1.0562e-11</td><td>6.54e-11</td><td>0</td><td>24.549961</td><td>0.21909648</td><td>1.3925e-10</td><td>2.81e-11</td><td>0</td><td>24.421225</td><td>0.20971318</td><td>1.6153e-10</td><td>3.12e-11</td><td>0</td><td>23.927616</td><td>0.30297685</td><td>2.616e-10</td><td>7.3e-11</td><td>0</td><td>23.71167</td><td>0.553141</td><td>316.02</td><td>161.0</td><td>0</td><td>23.100142</td><td>0.741575</td><td>557.82</td><td>381.0</td><td>0</td><td>24.112928</td><td>2.07892</td><td>221.8589</td><td>424.8053</td><td>0</td><td>22.594416</td><td>1.23558</td><td>905.09</td><td>1030.0</td><td>0</td><td>22.575802</td><td>1.10735</td><td>924.59</td><td>943.0</td><td>0</td></tr>\n",
       "</table>"
      ],
      "text/plain": [
       "<Row index=0>\n",
       "SeqNr   SLID    SID             ID            MAG_AUTO MAGERR_AUTO  RAJ2000    DECJ2000 ALPHA_J2000 DELTA_J2000 MAG_GAAP_u MAGERR_GAAP_u FLUX_GAAP_u FLUXERR_GAAP_u FLAG_GAAP_u MAG_GAAP_g MAGERR_GAAP_g FLUX_GAAP_g FLUXERR_GAAP_g FLAG_GAAP_g MAG_GAAP_r MAGERR_GAAP_r FLUX_GAAP_r FLUXERR_GAAP_r FLAG_GAAP_r MAG_GAAP_i MAGERR_GAAP_i FLUX_GAAP_i FLUXERR_GAAP_i FLAG_GAAP_i MAG_GAAP_Z MAGERR_GAAP_Z FLUX_GAAP_Z FLUXERR_GAAP_Z FLAG_GAAP_Z MAG_GAAP_Y MAGERR_GAAP_Y FLUX_GAAP_Y FLUXERR_GAAP_Y FLAG_GAAP_Y MAG_GAAP_J MAGERR_GAAP_J FLUX_GAAP_J FLUXERR_GAAP_J FLAG_GAAP_J MAG_GAAP_H MAGERR_GAAP_H FLUX_GAAP_H FLUXERR_GAAP_H FLAG_GAAP_H MAG_GAAP_Ks MAGERR_GAAP_Ks FLUX_GAAP_Ks FLUXERR_GAAP_Ks FLAG_GAAP_Ks\n",
       "                                                mag        mag        deg        deg        deg         deg        mag          mag           ct           ct                      mag          mag           ct           ct                      mag          mag           ct           ct                      mag          mag           ct           ct                      mag          mag           ct           ct                      mag          mag           ct           ct                      mag          mag           ct           ct                      mag          mag           ct           ct                       mag          mag            ct             ct                   \n",
       "int32  int32   int32         bytes25          float32    float32    float64    float64    float64     float64    float32      float32      float32      float32        int16     float32      float32      float32      float32        int16     float32      float32      float32      float32        int16     float32      float32      float32      float32        int16     float32      float32      float32      float32        int16     float32      float32      float32      float32        int16     float32      float32      float32      float32        int16     float32      float32      float32      float32        int16      float32      float32       float32        float32        int16    \n",
       "----- -------- ----- ------------------------ -------- ----------- ---------- --------- ----------- ----------- ---------- ------------- ----------- -------------- ----------- ---------- ------------- ----------- -------------- ----------- ---------- ------------- ----------- -------------- ----------- ---------- ------------- ----------- -------------- ----------- ---------- ------------- ----------- -------------- ----------- ---------- ------------- ----------- -------------- ----------- ---------- ------------- ----------- -------------- ----------- ---------- ------------- ----------- -------------- ----------- ----------- -------------- ------------ --------------- ------------\n",
       "    1 55071011  7667 KIDS_J083427.36-015753.4 24.96544   0.2316225 128.613994 -1.964857  128.613994   -1.964857       99.0      6.722888  1.0562e-11       6.54e-11           0  24.549961    0.21909648  1.3925e-10       2.81e-11           0  24.421225    0.20971318  1.6153e-10       3.12e-11           0  23.927616    0.30297685   2.616e-10        7.3e-11           0   23.71167      0.553141      316.02          161.0           0  23.100142      0.741575      557.82          381.0           0  24.112928       2.07892    221.8589       424.8053           0  22.594416       1.23558      905.09         1030.0           0   22.575802        1.10735       924.59           943.0            0"
      ]
     },
     "execution_count": 101,
     "metadata": {},
     "output_type": "execute_result"
    }
   ],
   "source": [
    "# visualize one of the galaxy data\n",
    "kids_wide_sample_table[0]"
   ]
  },
  {
   "cell_type": "code",
   "execution_count": 102,
   "id": "34607d19-827e-40ef-9335-3748febf554a",
   "metadata": {},
   "outputs": [],
   "source": [
    "# obtain colors for each of these, based on KiDS-1000 SOM \n",
    "# (there is probably a better way to code this...) (re-work) (this is the brute force way... RIP)\n",
    "# add columns with colors\n",
    "kids_wide_sample_table['MAG_GAAP_u-MAG_GAAP_g'] = kids_wide_sample_table['MAG_GAAP_u'] - kids_wide_sample_table['MAG_GAAP_g']\n",
    "kids_wide_sample_table['MAG_GAAP_u-MAG_GAAP_r'] = kids_wide_sample_table['MAG_GAAP_u'] - kids_wide_sample_table['MAG_GAAP_r']\n",
    "kids_wide_sample_table['MAG_GAAP_g-MAG_GAAP_r'] = kids_wide_sample_table['MAG_GAAP_g'] - kids_wide_sample_table['MAG_GAAP_r']\n",
    "kids_wide_sample_table['MAG_GAAP_u-MAG_GAAP_i'] = kids_wide_sample_table['MAG_GAAP_u'] - kids_wide_sample_table['MAG_GAAP_i']\n",
    "kids_wide_sample_table['MAG_GAAP_g-MAG_GAAP_i'] = kids_wide_sample_table['MAG_GAAP_g'] - kids_wide_sample_table['MAG_GAAP_i']\n",
    "kids_wide_sample_table['MAG_GAAP_r-MAG_GAAP_i'] = kids_wide_sample_table['MAG_GAAP_r'] - kids_wide_sample_table['MAG_GAAP_i']\n",
    "kids_wide_sample_table['MAG_GAAP_u-MAG_GAAP_Z'] = kids_wide_sample_table['MAG_GAAP_u'] - kids_wide_sample_table['MAG_GAAP_Z']\n",
    "kids_wide_sample_table['MAG_GAAP_g-MAG_GAAP_Z'] = kids_wide_sample_table['MAG_GAAP_g'] - kids_wide_sample_table['MAG_GAAP_Z']\n",
    "kids_wide_sample_table['MAG_GAAP_r-MAG_GAAP_Z'] = kids_wide_sample_table['MAG_GAAP_r'] - kids_wide_sample_table['MAG_GAAP_Z']\n",
    "kids_wide_sample_table['MAG_GAAP_i-MAG_GAAP_Z'] = kids_wide_sample_table['MAG_GAAP_i'] - kids_wide_sample_table['MAG_GAAP_Z']\n",
    "kids_wide_sample_table['MAG_GAAP_u-MAG_GAAP_Y'] = kids_wide_sample_table['MAG_GAAP_u'] - kids_wide_sample_table['MAG_GAAP_Y']\n",
    "kids_wide_sample_table['MAG_GAAP_g-MAG_GAAP_Y'] = kids_wide_sample_table['MAG_GAAP_g'] - kids_wide_sample_table['MAG_GAAP_Y']\n",
    "kids_wide_sample_table['MAG_GAAP_r-MAG_GAAP_Y'] = kids_wide_sample_table['MAG_GAAP_r'] - kids_wide_sample_table['MAG_GAAP_Y']\n",
    "kids_wide_sample_table['MAG_GAAP_i-MAG_GAAP_Y'] = kids_wide_sample_table['MAG_GAAP_i'] - kids_wide_sample_table['MAG_GAAP_Y']\n",
    "kids_wide_sample_table['MAG_GAAP_Z-MAG_GAAP_Y'] = kids_wide_sample_table['MAG_GAAP_Z'] - kids_wide_sample_table['MAG_GAAP_Y']\n",
    "kids_wide_sample_table['MAG_GAAP_u-MAG_GAAP_J'] = kids_wide_sample_table['MAG_GAAP_u'] - kids_wide_sample_table['MAG_GAAP_J']\n",
    "kids_wide_sample_table['MAG_GAAP_g-MAG_GAAP_J'] = kids_wide_sample_table['MAG_GAAP_g'] - kids_wide_sample_table['MAG_GAAP_J']\n",
    "kids_wide_sample_table['MAG_GAAP_r-MAG_GAAP_J'] = kids_wide_sample_table['MAG_GAAP_r'] - kids_wide_sample_table['MAG_GAAP_J']\n",
    "kids_wide_sample_table['MAG_GAAP_i-MAG_GAAP_J'] = kids_wide_sample_table['MAG_GAAP_i'] - kids_wide_sample_table['MAG_GAAP_J']\n",
    "kids_wide_sample_table['MAG_GAAP_Z-MAG_GAAP_J'] = kids_wide_sample_table['MAG_GAAP_Z'] - kids_wide_sample_table['MAG_GAAP_J']\n",
    "kids_wide_sample_table['MAG_GAAP_Y-MAG_GAAP_J'] = kids_wide_sample_table['MAG_GAAP_Y'] - kids_wide_sample_table['MAG_GAAP_J']\n",
    "kids_wide_sample_table['MAG_GAAP_u-MAG_GAAP_H'] = kids_wide_sample_table['MAG_GAAP_u'] - kids_wide_sample_table['MAG_GAAP_H']\n",
    "kids_wide_sample_table['MAG_GAAP_g-MAG_GAAP_H'] = kids_wide_sample_table['MAG_GAAP_g'] - kids_wide_sample_table['MAG_GAAP_H']\n",
    "kids_wide_sample_table['MAG_GAAP_r-MAG_GAAP_H'] = kids_wide_sample_table['MAG_GAAP_r'] - kids_wide_sample_table['MAG_GAAP_H']\n",
    "kids_wide_sample_table['MAG_GAAP_i-MAG_GAAP_H'] = kids_wide_sample_table['MAG_GAAP_i'] - kids_wide_sample_table['MAG_GAAP_H']\n",
    "kids_wide_sample_table['MAG_GAAP_Z-MAG_GAAP_H'] = kids_wide_sample_table['MAG_GAAP_Z'] - kids_wide_sample_table['MAG_GAAP_H']\n",
    "kids_wide_sample_table['MAG_GAAP_Y-MAG_GAAP_H'] = kids_wide_sample_table['MAG_GAAP_Y'] - kids_wide_sample_table['MAG_GAAP_H']\n",
    "kids_wide_sample_table['MAG_GAAP_J-MAG_GAAP_H'] = kids_wide_sample_table['MAG_GAAP_J'] - kids_wide_sample_table['MAG_GAAP_H']\n",
    "kids_wide_sample_table['MAG_GAAP_u-MAG_GAAP_Ks'] = kids_wide_sample_table['MAG_GAAP_u'] - kids_wide_sample_table['MAG_GAAP_Ks']\n",
    "kids_wide_sample_table['MAG_GAAP_g-MAG_GAAP_Ks'] = kids_wide_sample_table['MAG_GAAP_g'] - kids_wide_sample_table['MAG_GAAP_Ks']\n",
    "kids_wide_sample_table['MAG_GAAP_r-MAG_GAAP_Ks'] = kids_wide_sample_table['MAG_GAAP_r'] - kids_wide_sample_table['MAG_GAAP_Ks']\n",
    "kids_wide_sample_table['MAG_GAAP_i-MAG_GAAP_Ks'] = kids_wide_sample_table['MAG_GAAP_i'] - kids_wide_sample_table['MAG_GAAP_Ks']\n",
    "kids_wide_sample_table['MAG_GAAP_Z-MAG_GAAP_Ks'] = kids_wide_sample_table['MAG_GAAP_Z'] - kids_wide_sample_table['MAG_GAAP_Ks']\n",
    "kids_wide_sample_table['MAG_GAAP_Y-MAG_GAAP_Ks'] = kids_wide_sample_table['MAG_GAAP_Y'] - kids_wide_sample_table['MAG_GAAP_Ks']\n",
    "kids_wide_sample_table['MAG_GAAP_J-MAG_GAAP_Ks'] = kids_wide_sample_table['MAG_GAAP_J'] - kids_wide_sample_table['MAG_GAAP_Ks']\n",
    "kids_wide_sample_table['MAG_GAAP_H-MAG_GAAP_Ks'] = kids_wide_sample_table['MAG_GAAP_H'] - kids_wide_sample_table['MAG_GAAP_Ks']"
   ]
  },
  {
   "cell_type": "code",
   "execution_count": 103,
   "id": "9542f406-d82a-4ab1-ae09-4a57ed4f315b",
   "metadata": {},
   "outputs": [
    {
     "data": {
      "text/html": [
       "<i>Row index=0</i>\n",
       "<table id=\"table4600801696\">\n",
       "<thead><tr><th>SeqNr</th><th>SLID</th><th>SID</th><th>ID</th><th>MAG_AUTO</th><th>MAGERR_AUTO</th><th>RAJ2000</th><th>DECJ2000</th><th>ALPHA_J2000</th><th>DELTA_J2000</th><th>MAG_GAAP_u</th><th>MAGERR_GAAP_u</th><th>FLUX_GAAP_u</th><th>FLUXERR_GAAP_u</th><th>FLAG_GAAP_u</th><th>MAG_GAAP_g</th><th>MAGERR_GAAP_g</th><th>FLUX_GAAP_g</th><th>FLUXERR_GAAP_g</th><th>FLAG_GAAP_g</th><th>MAG_GAAP_r</th><th>MAGERR_GAAP_r</th><th>FLUX_GAAP_r</th><th>FLUXERR_GAAP_r</th><th>FLAG_GAAP_r</th><th>MAG_GAAP_i</th><th>MAGERR_GAAP_i</th><th>FLUX_GAAP_i</th><th>FLUXERR_GAAP_i</th><th>FLAG_GAAP_i</th><th>MAG_GAAP_Z</th><th>MAGERR_GAAP_Z</th><th>FLUX_GAAP_Z</th><th>FLUXERR_GAAP_Z</th><th>FLAG_GAAP_Z</th><th>MAG_GAAP_Y</th><th>MAGERR_GAAP_Y</th><th>FLUX_GAAP_Y</th><th>FLUXERR_GAAP_Y</th><th>FLAG_GAAP_Y</th><th>MAG_GAAP_J</th><th>MAGERR_GAAP_J</th><th>FLUX_GAAP_J</th><th>FLUXERR_GAAP_J</th><th>FLAG_GAAP_J</th><th>MAG_GAAP_H</th><th>MAGERR_GAAP_H</th><th>FLUX_GAAP_H</th><th>FLUXERR_GAAP_H</th><th>FLAG_GAAP_H</th><th>MAG_GAAP_Ks</th><th>MAGERR_GAAP_Ks</th><th>FLUX_GAAP_Ks</th><th>FLUXERR_GAAP_Ks</th><th>FLAG_GAAP_Ks</th><th>MAG_GAAP_u-MAG_GAAP_g</th><th>MAG_GAAP_u-MAG_GAAP_r</th><th>MAG_GAAP_g-MAG_GAAP_r</th><th>MAG_GAAP_u-MAG_GAAP_i</th><th>MAG_GAAP_g-MAG_GAAP_i</th><th>MAG_GAAP_r-MAG_GAAP_i</th><th>MAG_GAAP_u-MAG_GAAP_Z</th><th>MAG_GAAP_g-MAG_GAAP_Z</th><th>MAG_GAAP_r-MAG_GAAP_Z</th><th>MAG_GAAP_i-MAG_GAAP_Z</th><th>MAG_GAAP_u-MAG_GAAP_Y</th><th>MAG_GAAP_g-MAG_GAAP_Y</th><th>MAG_GAAP_r-MAG_GAAP_Y</th><th>MAG_GAAP_i-MAG_GAAP_Y</th><th>MAG_GAAP_Z-MAG_GAAP_Y</th><th>MAG_GAAP_u-MAG_GAAP_J</th><th>MAG_GAAP_g-MAG_GAAP_J</th><th>MAG_GAAP_r-MAG_GAAP_J</th><th>MAG_GAAP_i-MAG_GAAP_J</th><th>MAG_GAAP_Z-MAG_GAAP_J</th><th>MAG_GAAP_Y-MAG_GAAP_J</th><th>MAG_GAAP_u-MAG_GAAP_H</th><th>MAG_GAAP_g-MAG_GAAP_H</th><th>MAG_GAAP_r-MAG_GAAP_H</th><th>MAG_GAAP_i-MAG_GAAP_H</th><th>MAG_GAAP_Z-MAG_GAAP_H</th><th>MAG_GAAP_Y-MAG_GAAP_H</th><th>MAG_GAAP_J-MAG_GAAP_H</th><th>MAG_GAAP_u-MAG_GAAP_Ks</th><th>MAG_GAAP_g-MAG_GAAP_Ks</th><th>MAG_GAAP_r-MAG_GAAP_Ks</th><th>MAG_GAAP_i-MAG_GAAP_Ks</th><th>MAG_GAAP_Z-MAG_GAAP_Ks</th><th>MAG_GAAP_Y-MAG_GAAP_Ks</th><th>MAG_GAAP_J-MAG_GAAP_Ks</th><th>MAG_GAAP_H-MAG_GAAP_Ks</th></tr></thead>\n",
       "<thead><tr><th></th><th></th><th></th><th></th><th>mag</th><th>mag</th><th>deg</th><th>deg</th><th>deg</th><th>deg</th><th>mag</th><th>mag</th><th>ct</th><th>ct</th><th></th><th>mag</th><th>mag</th><th>ct</th><th>ct</th><th></th><th>mag</th><th>mag</th><th>ct</th><th>ct</th><th></th><th>mag</th><th>mag</th><th>ct</th><th>ct</th><th></th><th>mag</th><th>mag</th><th>ct</th><th>ct</th><th></th><th>mag</th><th>mag</th><th>ct</th><th>ct</th><th></th><th>mag</th><th>mag</th><th>ct</th><th>ct</th><th></th><th>mag</th><th>mag</th><th>ct</th><th>ct</th><th></th><th>mag</th><th>mag</th><th>ct</th><th>ct</th><th></th><th>mag</th><th>mag</th><th>mag</th><th>mag</th><th>mag</th><th>mag</th><th>mag</th><th>mag</th><th>mag</th><th>mag</th><th>mag</th><th>mag</th><th>mag</th><th>mag</th><th>mag</th><th>mag</th><th>mag</th><th>mag</th><th>mag</th><th>mag</th><th>mag</th><th>mag</th><th>mag</th><th>mag</th><th>mag</th><th>mag</th><th>mag</th><th>mag</th><th>mag</th><th>mag</th><th>mag</th><th>mag</th><th>mag</th><th>mag</th><th>mag</th><th>mag</th></tr></thead>\n",
       "<thead><tr><th>int32</th><th>int32</th><th>int32</th><th>bytes25</th><th>float32</th><th>float32</th><th>float64</th><th>float64</th><th>float64</th><th>float64</th><th>float32</th><th>float32</th><th>float32</th><th>float32</th><th>int16</th><th>float32</th><th>float32</th><th>float32</th><th>float32</th><th>int16</th><th>float32</th><th>float32</th><th>float32</th><th>float32</th><th>int16</th><th>float32</th><th>float32</th><th>float32</th><th>float32</th><th>int16</th><th>float32</th><th>float32</th><th>float32</th><th>float32</th><th>int16</th><th>float32</th><th>float32</th><th>float32</th><th>float32</th><th>int16</th><th>float32</th><th>float32</th><th>float32</th><th>float32</th><th>int16</th><th>float32</th><th>float32</th><th>float32</th><th>float32</th><th>int16</th><th>float32</th><th>float32</th><th>float32</th><th>float32</th><th>int16</th><th>float32</th><th>float32</th><th>float32</th><th>float32</th><th>float32</th><th>float32</th><th>float32</th><th>float32</th><th>float32</th><th>float32</th><th>float32</th><th>float32</th><th>float32</th><th>float32</th><th>float32</th><th>float32</th><th>float32</th><th>float32</th><th>float32</th><th>float32</th><th>float32</th><th>float32</th><th>float32</th><th>float32</th><th>float32</th><th>float32</th><th>float32</th><th>float32</th><th>float32</th><th>float32</th><th>float32</th><th>float32</th><th>float32</th><th>float32</th><th>float32</th><th>float32</th></tr></thead>\n",
       "<tr><td>1</td><td>55071011</td><td>7667</td><td>KIDS_J083427.36-015753.4</td><td>24.96544</td><td>0.2316225</td><td>128.613994</td><td>-1.964857</td><td>128.613994</td><td>-1.964857</td><td>99.0</td><td>6.722888</td><td>1.0562e-11</td><td>6.54e-11</td><td>0</td><td>24.549961</td><td>0.21909648</td><td>1.3925e-10</td><td>2.81e-11</td><td>0</td><td>24.421225</td><td>0.20971318</td><td>1.6153e-10</td><td>3.12e-11</td><td>0</td><td>23.927616</td><td>0.30297685</td><td>2.616e-10</td><td>7.3e-11</td><td>0</td><td>23.71167</td><td>0.553141</td><td>316.02</td><td>161.0</td><td>0</td><td>23.100142</td><td>0.741575</td><td>557.82</td><td>381.0</td><td>0</td><td>24.112928</td><td>2.07892</td><td>221.8589</td><td>424.8053</td><td>0</td><td>22.594416</td><td>1.23558</td><td>905.09</td><td>1030.0</td><td>0</td><td>22.575802</td><td>1.10735</td><td>924.59</td><td>943.0</td><td>0</td><td>74.45004</td><td>74.57877</td><td>0.1287365</td><td>75.07239</td><td>0.622345</td><td>0.49360847</td><td>75.28833</td><td>0.83829117</td><td>0.7095547</td><td>0.2159462</td><td>75.89986</td><td>1.4498196</td><td>1.3210831</td><td>0.8274746</td><td>0.6115284</td><td>74.88707</td><td>0.4370327</td><td>0.3082962</td><td>-0.18531227</td><td>-0.40125847</td><td>-1.0127869</td><td>76.40559</td><td>1.9555454</td><td>1.8268089</td><td>1.3332005</td><td>1.1172543</td><td>0.50572586</td><td>1.5185127</td><td>76.424194</td><td>1.9741592</td><td>1.8454227</td><td>1.3518143</td><td>1.1358681</td><td>0.5243397</td><td>1.5371265</td><td>0.018613815</td></tr>\n",
       "</table>"
      ],
      "text/plain": [
       "<Row index=0>\n",
       "SeqNr   SLID    SID             ID            MAG_AUTO MAGERR_AUTO  RAJ2000    DECJ2000 ALPHA_J2000 DELTA_J2000 MAG_GAAP_u MAGERR_GAAP_u FLUX_GAAP_u FLUXERR_GAAP_u FLAG_GAAP_u MAG_GAAP_g MAGERR_GAAP_g FLUX_GAAP_g FLUXERR_GAAP_g FLAG_GAAP_g MAG_GAAP_r MAGERR_GAAP_r FLUX_GAAP_r FLUXERR_GAAP_r FLAG_GAAP_r MAG_GAAP_i MAGERR_GAAP_i FLUX_GAAP_i FLUXERR_GAAP_i FLAG_GAAP_i MAG_GAAP_Z MAGERR_GAAP_Z FLUX_GAAP_Z FLUXERR_GAAP_Z FLAG_GAAP_Z MAG_GAAP_Y MAGERR_GAAP_Y FLUX_GAAP_Y FLUXERR_GAAP_Y FLAG_GAAP_Y MAG_GAAP_J MAGERR_GAAP_J FLUX_GAAP_J FLUXERR_GAAP_J FLAG_GAAP_J MAG_GAAP_H MAGERR_GAAP_H FLUX_GAAP_H FLUXERR_GAAP_H FLAG_GAAP_H MAG_GAAP_Ks MAGERR_GAAP_Ks FLUX_GAAP_Ks FLUXERR_GAAP_Ks FLAG_GAAP_Ks MAG_GAAP_u-MAG_GAAP_g MAG_GAAP_u-MAG_GAAP_r MAG_GAAP_g-MAG_GAAP_r MAG_GAAP_u-MAG_GAAP_i MAG_GAAP_g-MAG_GAAP_i MAG_GAAP_r-MAG_GAAP_i MAG_GAAP_u-MAG_GAAP_Z MAG_GAAP_g-MAG_GAAP_Z MAG_GAAP_r-MAG_GAAP_Z MAG_GAAP_i-MAG_GAAP_Z MAG_GAAP_u-MAG_GAAP_Y MAG_GAAP_g-MAG_GAAP_Y MAG_GAAP_r-MAG_GAAP_Y MAG_GAAP_i-MAG_GAAP_Y MAG_GAAP_Z-MAG_GAAP_Y MAG_GAAP_u-MAG_GAAP_J MAG_GAAP_g-MAG_GAAP_J MAG_GAAP_r-MAG_GAAP_J MAG_GAAP_i-MAG_GAAP_J MAG_GAAP_Z-MAG_GAAP_J MAG_GAAP_Y-MAG_GAAP_J MAG_GAAP_u-MAG_GAAP_H MAG_GAAP_g-MAG_GAAP_H MAG_GAAP_r-MAG_GAAP_H MAG_GAAP_i-MAG_GAAP_H MAG_GAAP_Z-MAG_GAAP_H MAG_GAAP_Y-MAG_GAAP_H MAG_GAAP_J-MAG_GAAP_H MAG_GAAP_u-MAG_GAAP_Ks MAG_GAAP_g-MAG_GAAP_Ks MAG_GAAP_r-MAG_GAAP_Ks MAG_GAAP_i-MAG_GAAP_Ks MAG_GAAP_Z-MAG_GAAP_Ks MAG_GAAP_Y-MAG_GAAP_Ks MAG_GAAP_J-MAG_GAAP_Ks MAG_GAAP_H-MAG_GAAP_Ks\n",
       "                                                mag        mag        deg        deg        deg         deg        mag          mag           ct           ct                      mag          mag           ct           ct                      mag          mag           ct           ct                      mag          mag           ct           ct                      mag          mag           ct           ct                      mag          mag           ct           ct                      mag          mag           ct           ct                      mag          mag           ct           ct                       mag          mag            ct             ct                             mag                   mag                   mag                   mag                   mag                   mag                   mag                   mag                   mag                   mag                   mag                   mag                   mag                   mag                   mag                   mag                   mag                   mag                   mag                   mag                   mag                   mag                   mag                   mag                   mag                   mag                   mag                   mag                   mag                    mag                    mag                    mag                    mag                    mag                    mag                    mag          \n",
       "int32  int32   int32         bytes25          float32    float32    float64    float64    float64     float64    float32      float32      float32      float32        int16     float32      float32      float32      float32        int16     float32      float32      float32      float32        int16     float32      float32      float32      float32        int16     float32      float32      float32      float32        int16     float32      float32      float32      float32        int16     float32      float32      float32      float32        int16     float32      float32      float32      float32        int16      float32      float32       float32        float32        int16            float32               float32               float32               float32               float32               float32               float32               float32               float32               float32               float32               float32               float32               float32               float32               float32               float32               float32               float32               float32               float32               float32               float32               float32               float32               float32               float32               float32               float32                float32                float32                float32                float32                float32                float32                float32        \n",
       "----- -------- ----- ------------------------ -------- ----------- ---------- --------- ----------- ----------- ---------- ------------- ----------- -------------- ----------- ---------- ------------- ----------- -------------- ----------- ---------- ------------- ----------- -------------- ----------- ---------- ------------- ----------- -------------- ----------- ---------- ------------- ----------- -------------- ----------- ---------- ------------- ----------- -------------- ----------- ---------- ------------- ----------- -------------- ----------- ---------- ------------- ----------- -------------- ----------- ----------- -------------- ------------ --------------- ------------ --------------------- --------------------- --------------------- --------------------- --------------------- --------------------- --------------------- --------------------- --------------------- --------------------- --------------------- --------------------- --------------------- --------------------- --------------------- --------------------- --------------------- --------------------- --------------------- --------------------- --------------------- --------------------- --------------------- --------------------- --------------------- --------------------- --------------------- --------------------- ---------------------- ---------------------- ---------------------- ---------------------- ---------------------- ---------------------- ---------------------- ----------------------\n",
       "    1 55071011  7667 KIDS_J083427.36-015753.4 24.96544   0.2316225 128.613994 -1.964857  128.613994   -1.964857       99.0      6.722888  1.0562e-11       6.54e-11           0  24.549961    0.21909648  1.3925e-10       2.81e-11           0  24.421225    0.20971318  1.6153e-10       3.12e-11           0  23.927616    0.30297685   2.616e-10        7.3e-11           0   23.71167      0.553141      316.02          161.0           0  23.100142      0.741575      557.82          381.0           0  24.112928       2.07892    221.8589       424.8053           0  22.594416       1.23558      905.09         1030.0           0   22.575802        1.10735       924.59           943.0            0              74.45004              74.57877             0.1287365              75.07239              0.622345            0.49360847              75.28833            0.83829117             0.7095547             0.2159462              75.89986             1.4498196             1.3210831             0.8274746             0.6115284              74.88707             0.4370327             0.3082962           -0.18531227           -0.40125847            -1.0127869              76.40559             1.9555454             1.8268089             1.3332005             1.1172543            0.50572586             1.5185127              76.424194              1.9741592              1.8454227              1.3518143              1.1358681              0.5243397              1.5371265            0.018613815"
      ]
     },
     "execution_count": 103,
     "metadata": {},
     "output_type": "execute_result"
    }
   ],
   "source": [
    "# visualize one of the galaxy data, should now contain colors as well! \n",
    "kids_wide_sample_table[0]"
   ]
  },
  {
   "cell_type": "markdown",
   "id": "1d64a46d-7a6c-4766-86c2-ffb809ac2e29",
   "metadata": {},
   "source": [
    "## Whitening and Unwhitening\n",
    "Whitening parameters (Median, nMAD) for every color. These correspond to the **median absolute deviation (MAD)** of the data. The MAD is a measurement of the variability of a sample that only contains one variable. In the context of this work, the univariable is the indicated color. \n",
    "\n",
    "In general, the MAD for a univariate data set is: \n",
    "\n",
    "$MAD = \\text{median}(| X_i - \\text{median}(X)|)$\n",
    "\n",
    "And the Normalized Median Absolute Deviation (nMAD) is: \n",
    "\n",
    "$nMAD = 1.4826 \\times \\text{median}(|X_i -\\text{median}(X)|)$"
   ]
  },
  {
   "cell_type": "code",
   "execution_count": 104,
   "id": "6f732953-fa5d-4f65-abe2-db486813e266",
   "metadata": {},
   "outputs": [],
   "source": [
    "# open up whitening parameters... \n",
    "# these whitening parameters are for every color!\n",
    "kids_wide_white_table = Table.read(f'{path}/K1000_Spec_Train_Adapt_SOM_whitenparam.csv', format = 'csv')"
   ]
  },
  {
   "cell_type": "code",
   "execution_count": 105,
   "id": "54d9a02f-8297-4fb3-9b8c-9b191167698f",
   "metadata": {},
   "outputs": [
    {
     "data": {
      "text/html": [
       "<i>Row index=0</i>\n",
       "<table id=\"table4599799376\">\n",
       "<thead><tr><th>Factor</th><th>Median</th><th>nMAD</th></tr></thead>\n",
       "<thead><tr><th>str22</th><th>float64</th><th>float64</th></tr></thead>\n",
       "<tr><td>MAG_GAAP_u-MAG_GAAP_g</td><td>0.480890000000002</td><td>0.543758376000004</td></tr>\n",
       "</table>"
      ],
      "text/plain": [
       "<Row index=0>\n",
       "        Factor              Median             nMAD      \n",
       "        str22              float64           float64     \n",
       "--------------------- ----------------- -----------------\n",
       "MAG_GAAP_u-MAG_GAAP_g 0.480890000000002 0.543758376000004"
      ]
     },
     "execution_count": 105,
     "metadata": {},
     "output_type": "execute_result"
    }
   ],
   "source": [
    "# visualize one of the whitening parameters... \n",
    "kids_wide_white_table[0]"
   ]
  },
  {
   "cell_type": "markdown",
   "id": "91345543-7cf6-43bd-aa1a-e667b0878f29",
   "metadata": {},
   "source": [
    "## Whiten Data\n",
    "In order to whiten the galaxy colors, we follow the following technique.\n",
    "\n",
    "Whitened Data $=~\\frac{\\text{median} - \\text{data}}{MAD}$\n",
    "\n",
    "Where traditionally: \n",
    "\n",
    "$MAD = nMAD~/~1.4826 $ "
   ]
  },
  {
   "cell_type": "code",
   "execution_count": 106,
   "id": "26d54d4b-ec81-4b5c-a8b5-27b1ce7fc288",
   "metadata": {},
   "outputs": [],
   "source": [
    "colors = ['MAG_GAAP_u-MAG_GAAP_g', 'MAG_GAAP_u-MAG_GAAP_r', 'MAG_GAAP_g-MAG_GAAP_r', \n",
    "          'MAG_GAAP_u-MAG_GAAP_i', 'MAG_GAAP_g-MAG_GAAP_i', 'MAG_GAAP_r-MAG_GAAP_i',\n",
    "          'MAG_GAAP_u-MAG_GAAP_Z', 'MAG_GAAP_g-MAG_GAAP_Z', 'MAG_GAAP_r-MAG_GAAP_Z', \n",
    "          'MAG_GAAP_i-MAG_GAAP_Z', 'MAG_GAAP_u-MAG_GAAP_Y', 'MAG_GAAP_g-MAG_GAAP_Y',\n",
    "          'MAG_GAAP_r-MAG_GAAP_Y', 'MAG_GAAP_i-MAG_GAAP_Y', 'MAG_GAAP_Z-MAG_GAAP_Y', \n",
    "          'MAG_GAAP_u-MAG_GAAP_J', 'MAG_GAAP_g-MAG_GAAP_J', 'MAG_GAAP_r-MAG_GAAP_J', \n",
    "          'MAG_GAAP_i-MAG_GAAP_J', 'MAG_GAAP_Z-MAG_GAAP_J', 'MAG_GAAP_Y-MAG_GAAP_J', \n",
    "          'MAG_GAAP_u-MAG_GAAP_H', 'MAG_GAAP_g-MAG_GAAP_H', 'MAG_GAAP_r-MAG_GAAP_H', \n",
    "          'MAG_GAAP_i-MAG_GAAP_H', 'MAG_GAAP_Z-MAG_GAAP_H', 'MAG_GAAP_Y-MAG_GAAP_H', \n",
    "          'MAG_GAAP_J-MAG_GAAP_H', 'MAG_GAAP_u-MAG_GAAP_Ks', 'MAG_GAAP_g-MAG_GAAP_Ks', \n",
    "          'MAG_GAAP_r-MAG_GAAP_Ks', 'MAG_GAAP_i-MAG_GAAP_Ks', 'MAG_GAAP_Z-MAG_GAAP_Ks', \n",
    "         'MAG_GAAP_Y-MAG_GAAP_Ks', 'MAG_GAAP_J-MAG_GAAP_Ks', 'MAG_GAAP_H-MAG_GAAP_Ks']"
   ]
  },
  {
   "cell_type": "code",
   "execution_count": 107,
   "id": "c6baec4a-c4ec-41ff-9a3e-af9c39aae03c",
   "metadata": {},
   "outputs": [],
   "source": [
    "# whiten data\n",
    "kwwt = kids_wide_white_table \n",
    "kwst = kids_wide_sample_table"
   ]
  },
  {
   "cell_type": "code",
   "execution_count": 108,
   "id": "0a19caec-fb38-4822-874e-e601e5c1bccc",
   "metadata": {
    "tags": []
   },
   "outputs": [],
   "source": [
    "\"\"\"for i, obj in enumerate(few_kwst):\n",
    "    print(obj['SeqNr'])\n",
    "    for color in few_colors:\n",
    "        \n",
    "        # color\n",
    "        print(color,':', obj[color])\n",
    "        \n",
    "        # nMAD\n",
    "        nMAD = kwwt[np.where(kwwt['Factor'] == color)]['nMAD']\n",
    "        print(nMAD)\n",
    "        \n",
    "        # MAD \n",
    "        MAD = nMAD / 1.4826\n",
    "        \n",
    "        # median \n",
    "        median = kwwt[np.where(kwwt['Factor'] == color)]['Median']\n",
    "        \n",
    "        print(median)\n",
    "        \n",
    "        # whitened color \n",
    "        print('whitened color:', ((median - few_kwst[i][color]) / MAD))\n",
    "        \n",
    "        print(few_kwst[i][color])\n",
    "\"\"\";    "
   ]
  },
  {
   "cell_type": "code",
   "execution_count": 109,
   "id": "b9e06767-9d0c-4e58-bdb3-f3ab66070f42",
   "metadata": {},
   "outputs": [],
   "source": [
    "for color in colors: \n",
    "    kwst.add_column(0.0, name = str('w_' + color)) # need to populate with float, not int!"
   ]
  },
  {
   "cell_type": "code",
   "execution_count": 110,
   "id": "c81f24ba-fc78-4423-8d92-530ba6c829f6",
   "metadata": {
    "tags": []
   },
   "outputs": [],
   "source": [
    "total = len(kwst)\n",
    "\n",
    "# remove for loop and take out [i]\n",
    "for color in colors:\n",
    "    nMAD = kwwt[np.where(kwwt['Factor'] == color)]['nMAD']\n",
    "    MAD = nMAD / 1.4826 \n",
    "    median = kwwt[np.where(kwwt['Factor'] == color)]['Median']\n",
    "        \n",
    "    kwst[str('w_' + color)] = ((kwst[color] - median) / nMAD) # trying with nMAD as opposed to MAD\n",
    "                                                              # also now switched to be data - median"
   ]
  },
  {
   "cell_type": "code",
   "execution_count": 111,
   "id": "76c12891-364e-4168-956e-c0fa9a38e7c7",
   "metadata": {},
   "outputs": [
    {
     "data": {
      "text/html": [
       "<div><i>Table length=100</i>\n",
       "<table id=\"table4600801696\" class=\"table-striped table-bordered table-condensed\">\n",
       "<thead><tr><th>SeqNr</th><th>SLID</th><th>SID</th><th>ID</th><th>MAG_AUTO</th><th>MAGERR_AUTO</th><th>RAJ2000</th><th>DECJ2000</th><th>ALPHA_J2000</th><th>DELTA_J2000</th><th>MAG_GAAP_u</th><th>MAGERR_GAAP_u</th><th>FLUX_GAAP_u</th><th>FLUXERR_GAAP_u</th><th>FLAG_GAAP_u</th><th>MAG_GAAP_g</th><th>MAGERR_GAAP_g</th><th>FLUX_GAAP_g</th><th>FLUXERR_GAAP_g</th><th>FLAG_GAAP_g</th><th>MAG_GAAP_r</th><th>MAGERR_GAAP_r</th><th>FLUX_GAAP_r</th><th>FLUXERR_GAAP_r</th><th>FLAG_GAAP_r</th><th>MAG_GAAP_i</th><th>MAGERR_GAAP_i</th><th>FLUX_GAAP_i</th><th>FLUXERR_GAAP_i</th><th>FLAG_GAAP_i</th><th>MAG_GAAP_Z</th><th>MAGERR_GAAP_Z</th><th>FLUX_GAAP_Z</th><th>FLUXERR_GAAP_Z</th><th>FLAG_GAAP_Z</th><th>MAG_GAAP_Y</th><th>MAGERR_GAAP_Y</th><th>FLUX_GAAP_Y</th><th>FLUXERR_GAAP_Y</th><th>FLAG_GAAP_Y</th><th>MAG_GAAP_J</th><th>MAGERR_GAAP_J</th><th>FLUX_GAAP_J</th><th>FLUXERR_GAAP_J</th><th>FLAG_GAAP_J</th><th>MAG_GAAP_H</th><th>MAGERR_GAAP_H</th><th>FLUX_GAAP_H</th><th>FLUXERR_GAAP_H</th><th>FLAG_GAAP_H</th><th>MAG_GAAP_Ks</th><th>MAGERR_GAAP_Ks</th><th>FLUX_GAAP_Ks</th><th>FLUXERR_GAAP_Ks</th><th>FLAG_GAAP_Ks</th><th>MAG_GAAP_u-MAG_GAAP_g</th><th>MAG_GAAP_u-MAG_GAAP_r</th><th>MAG_GAAP_g-MAG_GAAP_r</th><th>MAG_GAAP_u-MAG_GAAP_i</th><th>MAG_GAAP_g-MAG_GAAP_i</th><th>MAG_GAAP_r-MAG_GAAP_i</th><th>MAG_GAAP_u-MAG_GAAP_Z</th><th>MAG_GAAP_g-MAG_GAAP_Z</th><th>MAG_GAAP_r-MAG_GAAP_Z</th><th>MAG_GAAP_i-MAG_GAAP_Z</th><th>MAG_GAAP_u-MAG_GAAP_Y</th><th>MAG_GAAP_g-MAG_GAAP_Y</th><th>MAG_GAAP_r-MAG_GAAP_Y</th><th>MAG_GAAP_i-MAG_GAAP_Y</th><th>MAG_GAAP_Z-MAG_GAAP_Y</th><th>MAG_GAAP_u-MAG_GAAP_J</th><th>MAG_GAAP_g-MAG_GAAP_J</th><th>MAG_GAAP_r-MAG_GAAP_J</th><th>MAG_GAAP_i-MAG_GAAP_J</th><th>MAG_GAAP_Z-MAG_GAAP_J</th><th>MAG_GAAP_Y-MAG_GAAP_J</th><th>MAG_GAAP_u-MAG_GAAP_H</th><th>MAG_GAAP_g-MAG_GAAP_H</th><th>MAG_GAAP_r-MAG_GAAP_H</th><th>MAG_GAAP_i-MAG_GAAP_H</th><th>MAG_GAAP_Z-MAG_GAAP_H</th><th>MAG_GAAP_Y-MAG_GAAP_H</th><th>MAG_GAAP_J-MAG_GAAP_H</th><th>MAG_GAAP_u-MAG_GAAP_Ks</th><th>MAG_GAAP_g-MAG_GAAP_Ks</th><th>MAG_GAAP_r-MAG_GAAP_Ks</th><th>MAG_GAAP_i-MAG_GAAP_Ks</th><th>MAG_GAAP_Z-MAG_GAAP_Ks</th><th>MAG_GAAP_Y-MAG_GAAP_Ks</th><th>MAG_GAAP_J-MAG_GAAP_Ks</th><th>MAG_GAAP_H-MAG_GAAP_Ks</th><th>w_MAG_GAAP_u-MAG_GAAP_g</th><th>w_MAG_GAAP_u-MAG_GAAP_r</th><th>w_MAG_GAAP_g-MAG_GAAP_r</th><th>w_MAG_GAAP_u-MAG_GAAP_i</th><th>w_MAG_GAAP_g-MAG_GAAP_i</th><th>w_MAG_GAAP_r-MAG_GAAP_i</th><th>w_MAG_GAAP_u-MAG_GAAP_Z</th><th>w_MAG_GAAP_g-MAG_GAAP_Z</th><th>w_MAG_GAAP_r-MAG_GAAP_Z</th><th>w_MAG_GAAP_i-MAG_GAAP_Z</th><th>w_MAG_GAAP_u-MAG_GAAP_Y</th><th>w_MAG_GAAP_g-MAG_GAAP_Y</th><th>w_MAG_GAAP_r-MAG_GAAP_Y</th><th>w_MAG_GAAP_i-MAG_GAAP_Y</th><th>w_MAG_GAAP_Z-MAG_GAAP_Y</th><th>w_MAG_GAAP_u-MAG_GAAP_J</th><th>w_MAG_GAAP_g-MAG_GAAP_J</th><th>w_MAG_GAAP_r-MAG_GAAP_J</th><th>w_MAG_GAAP_i-MAG_GAAP_J</th><th>w_MAG_GAAP_Z-MAG_GAAP_J</th><th>w_MAG_GAAP_Y-MAG_GAAP_J</th><th>w_MAG_GAAP_u-MAG_GAAP_H</th><th>w_MAG_GAAP_g-MAG_GAAP_H</th><th>w_MAG_GAAP_r-MAG_GAAP_H</th><th>w_MAG_GAAP_i-MAG_GAAP_H</th><th>w_MAG_GAAP_Z-MAG_GAAP_H</th><th>w_MAG_GAAP_Y-MAG_GAAP_H</th><th>w_MAG_GAAP_J-MAG_GAAP_H</th><th>w_MAG_GAAP_u-MAG_GAAP_Ks</th><th>w_MAG_GAAP_g-MAG_GAAP_Ks</th><th>w_MAG_GAAP_r-MAG_GAAP_Ks</th><th>w_MAG_GAAP_i-MAG_GAAP_Ks</th><th>w_MAG_GAAP_Z-MAG_GAAP_Ks</th><th>w_MAG_GAAP_Y-MAG_GAAP_Ks</th><th>w_MAG_GAAP_J-MAG_GAAP_Ks</th><th>w_MAG_GAAP_H-MAG_GAAP_Ks</th></tr></thead>\n",
       "<thead><tr><th></th><th></th><th></th><th></th><th>mag</th><th>mag</th><th>deg</th><th>deg</th><th>deg</th><th>deg</th><th>mag</th><th>mag</th><th>ct</th><th>ct</th><th></th><th>mag</th><th>mag</th><th>ct</th><th>ct</th><th></th><th>mag</th><th>mag</th><th>ct</th><th>ct</th><th></th><th>mag</th><th>mag</th><th>ct</th><th>ct</th><th></th><th>mag</th><th>mag</th><th>ct</th><th>ct</th><th></th><th>mag</th><th>mag</th><th>ct</th><th>ct</th><th></th><th>mag</th><th>mag</th><th>ct</th><th>ct</th><th></th><th>mag</th><th>mag</th><th>ct</th><th>ct</th><th></th><th>mag</th><th>mag</th><th>ct</th><th>ct</th><th></th><th>mag</th><th>mag</th><th>mag</th><th>mag</th><th>mag</th><th>mag</th><th>mag</th><th>mag</th><th>mag</th><th>mag</th><th>mag</th><th>mag</th><th>mag</th><th>mag</th><th>mag</th><th>mag</th><th>mag</th><th>mag</th><th>mag</th><th>mag</th><th>mag</th><th>mag</th><th>mag</th><th>mag</th><th>mag</th><th>mag</th><th>mag</th><th>mag</th><th>mag</th><th>mag</th><th>mag</th><th>mag</th><th>mag</th><th>mag</th><th>mag</th><th>mag</th><th>mag</th><th>mag</th><th>mag</th><th>mag</th><th>mag</th><th>mag</th><th>mag</th><th>mag</th><th>mag</th><th>mag</th><th>mag</th><th>mag</th><th>mag</th><th>mag</th><th>mag</th><th>mag</th><th>mag</th><th>mag</th><th>mag</th><th>mag</th><th>mag</th><th>mag</th><th>mag</th><th>mag</th><th>mag</th><th>mag</th><th>mag</th><th>mag</th><th>mag</th><th>mag</th><th>mag</th><th>mag</th><th>mag</th><th>mag</th><th>mag</th><th>mag</th></tr></thead>\n",
       "<thead><tr><th>int32</th><th>int32</th><th>int32</th><th>bytes25</th><th>float32</th><th>float32</th><th>float64</th><th>float64</th><th>float64</th><th>float64</th><th>float32</th><th>float32</th><th>float32</th><th>float32</th><th>int16</th><th>float32</th><th>float32</th><th>float32</th><th>float32</th><th>int16</th><th>float32</th><th>float32</th><th>float32</th><th>float32</th><th>int16</th><th>float32</th><th>float32</th><th>float32</th><th>float32</th><th>int16</th><th>float32</th><th>float32</th><th>float32</th><th>float32</th><th>int16</th><th>float32</th><th>float32</th><th>float32</th><th>float32</th><th>int16</th><th>float32</th><th>float32</th><th>float32</th><th>float32</th><th>int16</th><th>float32</th><th>float32</th><th>float32</th><th>float32</th><th>int16</th><th>float32</th><th>float32</th><th>float32</th><th>float32</th><th>int16</th><th>float32</th><th>float32</th><th>float32</th><th>float32</th><th>float32</th><th>float32</th><th>float32</th><th>float32</th><th>float32</th><th>float32</th><th>float32</th><th>float32</th><th>float32</th><th>float32</th><th>float32</th><th>float32</th><th>float32</th><th>float32</th><th>float32</th><th>float32</th><th>float32</th><th>float32</th><th>float32</th><th>float32</th><th>float32</th><th>float32</th><th>float32</th><th>float32</th><th>float32</th><th>float32</th><th>float32</th><th>float32</th><th>float32</th><th>float32</th><th>float32</th><th>float32</th><th>float64</th><th>float64</th><th>float64</th><th>float64</th><th>float64</th><th>float64</th><th>float64</th><th>float64</th><th>float64</th><th>float64</th><th>float64</th><th>float64</th><th>float64</th><th>float64</th><th>float64</th><th>float64</th><th>float64</th><th>float64</th><th>float64</th><th>float64</th><th>float64</th><th>float64</th><th>float64</th><th>float64</th><th>float64</th><th>float64</th><th>float64</th><th>float64</th><th>float64</th><th>float64</th><th>float64</th><th>float64</th><th>float64</th><th>float64</th><th>float64</th><th>float64</th></tr></thead>\n",
       "<tr><td>1</td><td>55071011</td><td>7667</td><td>KIDS_J083427.36-015753.4</td><td>24.96544</td><td>0.2316225</td><td>128.613994</td><td>-1.964857</td><td>128.613994</td><td>-1.964857</td><td>99.0</td><td>6.722888</td><td>1.0562e-11</td><td>6.54e-11</td><td>0</td><td>24.549961</td><td>0.21909648</td><td>1.3925e-10</td><td>2.81e-11</td><td>0</td><td>24.421225</td><td>0.20971318</td><td>1.6153e-10</td><td>3.12e-11</td><td>0</td><td>23.927616</td><td>0.30297685</td><td>2.616e-10</td><td>7.3e-11</td><td>0</td><td>23.71167</td><td>0.553141</td><td>316.02</td><td>161.0</td><td>0</td><td>23.100142</td><td>0.741575</td><td>557.82</td><td>381.0</td><td>0</td><td>24.112928</td><td>2.07892</td><td>221.8589</td><td>424.8053</td><td>0</td><td>22.594416</td><td>1.23558</td><td>905.09</td><td>1030.0</td><td>0</td><td>22.575802</td><td>1.10735</td><td>924.59</td><td>943.0</td><td>0</td><td>74.45004</td><td>74.57877</td><td>0.1287365</td><td>75.07239</td><td>0.622345</td><td>0.49360847</td><td>75.28833</td><td>0.83829117</td><td>0.7095547</td><td>0.2159462</td><td>75.89986</td><td>1.4498196</td><td>1.3210831</td><td>0.8274746</td><td>0.6115284</td><td>74.88707</td><td>0.4370327</td><td>0.3082962</td><td>-0.18531227</td><td>-0.40125847</td><td>-1.0127869</td><td>76.40559</td><td>1.9555454</td><td>1.8268089</td><td>1.3332005</td><td>1.1172543</td><td>0.50572586</td><td>1.5185127</td><td>76.424194</td><td>1.9741592</td><td>1.8454227</td><td>1.3518143</td><td>1.1358681</td><td>0.5243397</td><td>1.5371265</td><td>0.018613815</td><td>136.03312792851366</td><td>92.75596828119767</td><td>-1.3075816252971149</td><td>85.81847559874535</td><td>-0.8925587670951213</td><td>0.01997708794013255</td><td>80.52712448541276</td><td>-0.931094215783179</td><td>-0.30275044836109816</td><td>-0.6724497003699239</td><td>75.4322244560625</td><td>-0.3339497900717307</td><td>0.3994206289086264</td><td>0.6072911559142242</td><td>1.7014818279910393</td><td>69.69648788832957</td><td>-1.5683961249017873</td><td>-1.3549233434777994</td><td>-2.0329204701804553</td><td>-2.558197000947717</td><td>-5.250656145254845</td><td>61.430231125141155</td><td>-0.19519348585385204</td><td>0.33053625821597266</td><td>0.40922784934791073</td><td>0.8411790968592546</td><td>-0.004175140691691733</td><td>4.685763671658286</td><td>56.63688207600848</td><td>-0.3364203944097938</td><td>0.09413831447824883</td><td>0.07425655186599092</td><td>0.3316496816910661</td><td>-0.42870843068488906</td><td>2.700510006348258</td><td>-0.8882764013938147</td></tr>\n",
       "<tr><td>4</td><td>55071011</td><td>8473</td><td>KIDS_J083426.91-015731.5</td><td>20.83553</td><td>0.01216558</td><td>128.612138</td><td>-1.958759</td><td>128.612138</td><td>-1.958759</td><td>99.0</td><td>1.2989203</td><td>6.0601e-11</td><td>7.25e-11</td><td>0</td><td>22.593622</td><td>0.041317</td><td>8.4353e-10</td><td>3.21e-11</td><td>0</td><td>20.890911</td><td>0.009657813</td><td>4.1708e-09</td><td>3.71e-11</td><td>0</td><td>20.333832</td><td>0.013007004</td><td>7.162e-09</td><td>8.58e-11</td><td>0</td><td>19.85625</td><td>0.0175532</td><td>11010.0</td><td>178.0</td><td>0</td><td>19.56125</td><td>0.0320038</td><td>14520.0</td><td>428.0</td><td>0</td><td>19.322905</td><td>0.0285983</td><td>18281.926</td><td>481.5467</td><td>0</td><td>19.035238</td><td>0.0542755</td><td>24005.0</td><td>1200.0</td><td>0</td><td>18.886047</td><td>0.0431814</td><td>27658.0</td><td>1100.0</td><td>0</td><td>76.40638</td><td>78.109085</td><td>1.7027111</td><td>78.66617</td><td>2.2597904</td><td>0.5570793</td><td>79.14375</td><td>2.7373714</td><td>1.0346603</td><td>0.47758102</td><td>79.43875</td><td>3.0323715</td><td>1.3296604</td><td>0.7725811</td><td>0.29500008</td><td>79.67709</td><td>3.2707176</td><td>1.5680065</td><td>1.0109272</td><td>0.5333462</td><td>0.2383461</td><td>79.96476</td><td>3.558384</td><td>1.8556728</td><td>1.2985935</td><td>0.8210125</td><td>0.5260124</td><td>0.28766632</td><td>80.11395</td><td>3.7075748</td><td>2.0048637</td><td>1.4477844</td><td>0.9702034</td><td>0.6752033</td><td>0.43685722</td><td>0.1491909</td><td>139.63093361104652</td><td>97.21611403015973</td><td>2.1687658605952422</td><td>90.01672345186985</td><td>1.7218481551318792</td><td>0.21155635851757296</td><td>84.75996815690408</td><td>1.607932516649964</td><td>0.3621666988302695</td><td>0.3702220873699932</td><td>79.0505718351092</td><td>1.4621684636239975</td><td>0.41303563024700046</td><td>0.4664834031724827</td><td>0.3466057096510268</td><td>74.2986152953444</td><td>1.3096399973805035</td><td>0.32243303882872987</td><td>0.3139829068144861</td><td>0.17783582402206963</td><td>-0.11135285106676285</td><td>64.38986996884668</td><td>1.1837780702755156</td><td>0.3630223200305692</td><td>0.35615024307495863</td><td>0.24314796316113896</td><td>0.048501960609419</td><td>0.12743606765022708</td><td>59.472763138881454</td><td>1.0257500978708118</td><td>0.2541617012394635</td><td>0.2002359153202118</td><td>0.06001634392924225</td><td>-0.13196281036939128</td><td>-0.15793186416225632</td><td>-0.42278445458297986</td></tr>\n",
       "<tr><td>5</td><td>55071011</td><td>8828</td><td>KIDS_J083427.39-015721.9</td><td>22.98814</td><td>0.06520566</td><td>128.61412</td><td>-1.956102</td><td>128.61412</td><td>-1.956102</td><td>24.402983</td><td>0.4751385</td><td>1.579e-10</td><td>6.91e-11</td><td>0</td><td>23.494488</td><td>0.0891375</td><td>3.6785e-10</td><td>3.02e-11</td><td>0</td><td>22.938354</td><td>0.059205122</td><td>6.3268e-10</td><td>3.45e-11</td><td>0</td><td>22.62069</td><td>0.099670544</td><td>8.7146e-10</td><td>8e-11</td><td>0</td><td>21.755571</td><td>0.0964091</td><td>1914.5</td><td>170.0</td><td>0</td><td>21.985281</td><td>0.283793</td><td>1557.1</td><td>407.0</td><td>0</td><td>21.70546</td><td>0.242687</td><td>2037.096</td><td>455.338</td><td>0</td><td>21.65691</td><td>0.571706</td><td>2146.0</td><td>1130.0</td><td>0</td><td>20.70703</td><td>0.216324</td><td>5169.6</td><td>1030.0</td><td>0</td><td>0.90849495</td><td>1.4646282</td><td>0.5561333</td><td>1.7822933</td><td>0.8737984</td><td>0.3176651</td><td>2.6474113</td><td>1.7389164</td><td>1.1827831</td><td>0.865118</td><td>2.4177017</td><td>1.5092068</td><td>0.9530735</td><td>0.6354084</td><td>-0.22970963</td><td>2.697523</td><td>1.7890282</td><td>1.2328949</td><td>0.9152298</td><td>0.05011177</td><td>0.2798214</td><td>2.7460728</td><td>1.8375778</td><td>1.2814445</td><td>0.96377945</td><td>0.09866142</td><td>0.32837105</td><td>0.048549652</td><td>3.6959534</td><td>2.7874584</td><td>2.2313251</td><td>1.91366</td><td>1.048542</td><td>1.2782516</td><td>0.99843025</td><td>0.9498806</td><td>0.7863877932076493</td><td>0.3845907265652202</td><td>-0.3636148719970413</td><td>0.20112087641162393</td><td>-0.49107882237236367</td><td>-0.5110873053169517</td><td>0.7751348210923538</td><td>0.27302103955612544</td><td>0.6651124523033577</td><td>1.914641476930429</td><td>0.30030094854615236</td><td>-0.2665482452639837</td><td>-0.1847286268685393</td><td>0.11462058310019073</td><td>-1.8993754492335848</td><td>0.33869250914955984</td><td>-0.19524000395545965</td><td>-0.12378194091896629</td><td>0.12623407932168954</td><td>-1.2368213821472833</td><td>0.05901603170873639</td><td>0.1784960972014094</td><td>-0.2966846660361873</td><td>-0.28326633760269987</td><td>-0.15736331113291965</td><td>-1.2150813947553047</td><td>-0.46470355969167115</td><td>-0.7581107455551603</td><td>0.7392799891369838</td><td>0.3026947380547032</td><td>0.4814503107348253</td><td>0.8117876575450272</td><td>0.18846486157400635</td><td>1.0542205556765687</td><td>1.3010053546453684</td><td>2.4315800697467598</td></tr>\n",
       "<tr><td>7</td><td>55071011</td><td>9411</td><td>KIDS_J083427.61-015704.0</td><td>23.4799</td><td>0.1208894</td><td>128.615048</td><td>-1.95113</td><td>128.615048</td><td>-1.95113</td><td>24.034708</td><td>0.32442215</td><td>2.2155e-10</td><td>6.62e-11</td><td>0</td><td>24.665524</td><td>0.24831711</td><td>1.2505e-10</td><td>2.86e-11</td><td>0</td><td>23.843634</td><td>0.12724088</td><td>2.7476e-10</td><td>3.22e-11</td><td>0</td><td>23.949553</td><td>0.31866115</td><td>2.5622e-10</td><td>7.52e-11</td><td>0</td><td>23.269506</td><td>0.37511</td><td>474.69</td><td>164.0</td><td>0</td><td>22.591938</td><td>0.475548</td><td>890.42</td><td>390.0</td><td>0</td><td>23.520468</td><td>1.08448</td><td>382.774</td><td>382.33035</td><td>0</td><td>21.621153</td><td>0.518952</td><td>2217.7</td><td>1060.0</td><td>0</td><td>22.658892</td><td>1.23107</td><td>856.37</td><td>971.0</td><td>0</td><td>-0.6308155</td><td>0.19107437</td><td>0.8218899</td><td>0.08515549</td><td>0.715971</td><td>-0.105918884</td><td>0.76520157</td><td>1.3960171</td><td>0.5741272</td><td>0.6800461</td><td>1.44277</td><td>2.0735855</td><td>1.2516956</td><td>1.3576145</td><td>0.67756844</td><td>0.51424026</td><td>1.1450558</td><td>0.3231659</td><td>0.42908478</td><td>-0.2509613</td><td>-0.92852974</td><td>2.4135551</td><td>3.0443707</td><td>2.2224808</td><td>2.3283997</td><td>1.6483536</td><td>0.97078514</td><td>1.8993149</td><td>1.3758163</td><td>2.0066319</td><td>1.184742</td><td>1.2906609</td><td>0.6106148</td><td>-0.06695366</td><td>0.8615761</td><td>-1.0377388</td><td>-2.044484379549933</td><td>-1.2243992015204153</td><td>0.22334651054018506</td><td>-1.7814724476641517</td><td>-0.743071942401901</td><td>-1.7896257676133716</td><td>-1.2913309859027027</td><td>-0.18542748269118223</td><td>-0.5797313177239497</td><td>1.1770894529299631</td><td>-0.696519236353505</td><td>0.373993728784639</td><td>0.28928050578460784</td><td>1.9671574395680143</td><td>1.9841613420758626</td><td>-1.7589475575795421</td><td>-0.8492914851136216</td><td>-1.3351237363056372</td><td>-0.8275343050955069</td><td>-2.1182056323924985</td><td>-4.904551505263689</td><td>-0.09800968502387097</td><td>0.7415565365640939</td><td>0.7758612816211667</td><td>1.935592250948688</td><td>1.913323442239683</td><td>1.2034211572345328</td><td>6.0960297825372765</td><td>-1.0439350924656345</td><td>-0.3109024333958984</td><td>-0.5689557349045568</td><td>-0.006019112953733018</td><td>-0.5295858700981264</td><td>-1.591769979470755</td><td>0.9454654078109654</td><td>-4.654049135517172</td></tr>\n",
       "<tr><td>...</td><td>...</td><td>...</td><td>...</td><td>...</td><td>...</td><td>...</td><td>...</td><td>...</td><td>...</td><td>...</td><td>...</td><td>...</td><td>...</td><td>...</td><td>...</td><td>...</td><td>...</td><td>...</td><td>...</td><td>...</td><td>...</td><td>...</td><td>...</td><td>...</td><td>...</td><td>...</td><td>...</td><td>...</td><td>...</td><td>...</td><td>...</td><td>...</td><td>...</td><td>...</td><td>...</td><td>...</td><td>...</td><td>...</td><td>...</td><td>...</td><td>...</td><td>...</td><td>...</td><td>...</td><td>...</td><td>...</td><td>...</td><td>...</td><td>...</td><td>...</td><td>...</td><td>...</td><td>...</td><td>...</td><td>...</td><td>...</td><td>...</td><td>...</td><td>...</td><td>...</td><td>...</td><td>...</td><td>...</td><td>...</td><td>...</td><td>...</td><td>...</td><td>...</td><td>...</td><td>...</td><td>...</td><td>...</td><td>...</td><td>...</td><td>...</td><td>...</td><td>...</td><td>...</td><td>...</td><td>...</td><td>...</td><td>...</td><td>...</td><td>...</td><td>...</td><td>...</td><td>...</td><td>...</td><td>...</td><td>...</td><td>...</td><td>...</td><td>...</td><td>...</td><td>...</td><td>...</td><td>...</td><td>...</td><td>...</td><td>...</td><td>...</td><td>...</td><td>...</td><td>...</td><td>...</td><td>...</td><td>...</td><td>...</td><td>...</td><td>...</td><td>...</td><td>...</td><td>...</td><td>...</td><td>...</td><td>...</td><td>...</td><td>...</td><td>...</td><td>...</td><td>...</td><td>...</td><td>...</td><td>...</td><td>...</td><td>...</td></tr>\n",
       "<tr><td>164</td><td>55067781</td><td>33167</td><td>KIDS_J083851.52+021153.4</td><td>21.18362</td><td>0.01396512</td><td>129.714658</td><td>2.198183</td><td>129.714658</td><td>2.198183</td><td>24.388157</td><td>0.46520883</td><td>1.454e-10</td><td>6.23e-11</td><td>0</td><td>22.846966</td><td>0.05202394</td><td>6.3862e-10</td><td>3.06e-11</td><td>0</td><td>21.140972</td><td>0.011939642</td><td>3.2373e-09</td><td>3.56e-11</td><td>0</td><td>20.578688</td><td>0.011972319</td><td>5.5954e-09</td><td>6.17e-11</td><td>0</td><td>20.194334</td><td>0.015637</td><td>7888.173</td><td>113.607216</td><td>0</td><td>19.946337</td><td>0.0259126</td><td>9991.951</td><td>238.47221</td><td>0</td><td>19.650145</td><td>0.0225348</td><td>13358.399</td><td>277.25784</td><td>0</td><td>19.312796</td><td>0.0371771</td><td>18445.031</td><td>631.5836</td><td>0</td><td>19.069826</td><td>0.0317578</td><td>23228.578</td><td>679.4373</td><td>0</td><td>1.5411911</td><td>3.2471848</td><td>1.7059937</td><td>3.8094692</td><td>2.2682781</td><td>0.56228447</td><td>4.193823</td><td>2.6526318</td><td>0.9466381</td><td>0.38435364</td><td>4.44182</td><td>2.900629</td><td>1.1946354</td><td>0.6323509</td><td>0.24799728</td><td>4.7380123</td><td>3.1968212</td><td>1.4908276</td><td>0.9285431</td><td>0.54418945</td><td>0.29619217</td><td>5.0753613</td><td>3.5341702</td><td>1.8281765</td><td>1.265892</td><td>0.8815384</td><td>0.6335411</td><td>0.33734894</td><td>5.318331</td><td>3.7771397</td><td>2.071146</td><td>1.5088615</td><td>1.1245079</td><td>0.8765106</td><td>0.58031845</td><td>0.24296951</td><td>1.9499489991749734</td><td>2.636647451966221</td><td>2.1760158339636946</td><td>2.569264073357768</td><td>1.7353999380863239</td><td>0.22726750523770503</td><td>2.4729299103774784</td><td>1.4946375030976753</td><td>0.18214064161823287</td><td>-0.001309359580927339</td><td>2.3698634277632027</td><td>1.3126472630389545</td><td>0.1987075949465381</td><td>0.10677781633003744</td><td>0.1454137253166836</td><td>2.299140231545344</td><td>1.2345870053670962</td><td>0.2196660679956909</td><td>0.1523534426425936</td><td>0.2095792589671377</td><td>0.12626257670124547</td><td>2.115421203219091</td><td>1.1629461969644717</td><td>0.3320754445188251</td><td>0.30599506452834463</td><td>0.3653331982022313</td><td>0.32771635163531393</td><td>0.3114311172679379</td><td>1.9862097222107706</td><td>1.0804162402554693</td><td>0.3206860838233996</td><td>0.2804114296005811</td><td>0.31302289528932736</td><td>0.2640044067459949</td><td>0.21477286610142785</td><td>-0.08847474747155255</td></tr>\n",
       "<tr><td>166</td><td>55067781</td><td>33411</td><td>KIDS_J083852.97+021201.3</td><td>24.46105</td><td>0.1751424</td><td>129.720728</td><td>2.200362</td><td>129.720728</td><td>2.200362</td><td>24.929781</td><td>0.72718984</td><td>8.8389e-11</td><td>5.92e-11</td><td>0</td><td>24.387148</td><td>0.19859315</td><td>1.5472e-10</td><td>2.83e-11</td><td>0</td><td>24.267622</td><td>0.19400936</td><td>1.8188e-10</td><td>3.25e-11</td><td>0</td><td>23.46059</td><td>0.15798442</td><td>3.9379e-10</td><td>5.73e-11</td><td>0</td><td>22.750292</td><td>0.157861</td><td>749.39465</td><td>108.958244</td><td>0</td><td>22.559048</td><td>0.278762</td><td>900.87177</td><td>231.29788</td><td>0</td><td>22.811146</td><td>0.391712</td><td>726.8571</td><td>262.2356</td><td>0</td><td>22.863024</td><td>0.908913</td><td>701.2205</td><td>587.0195</td><td>0</td><td>21.876713</td><td>0.393229</td><td>1751.1798</td><td>634.23804</td><td>0</td><td>0.54263306</td><td>0.66215897</td><td>0.11952591</td><td>1.4691906</td><td>0.92655754</td><td>0.80703163</td><td>2.1794891</td><td>1.6368561</td><td>1.5173302</td><td>0.71029854</td><td>2.3707333</td><td>1.8281002</td><td>1.7085743</td><td>0.90154266</td><td>0.19124413</td><td>2.1186352</td><td>1.5760021</td><td>1.4564762</td><td>0.6494446</td><td>-0.060853958</td><td>-0.25209808</td><td>2.0667572</td><td>1.5241241</td><td>1.4045982</td><td>0.5975666</td><td>-0.11273193</td><td>-0.30397606</td><td>-0.051877975</td><td>3.0530682</td><td>2.510435</td><td>2.3909092</td><td>1.5838776</td><td>0.873579</td><td>0.6823349</td><td>0.934433</td><td>0.98631096</td><td>0.11354869987441364</td><td>-0.6292375841117798</td><td>-1.327924519774893</td><td>-0.16464515318301373</td><td>-0.4068415485964318</td><td>0.9660080420035192</td><td>0.26140608579425556</td><td>0.13656873740051584</td><td>1.349339421662044</td><td>1.2976520839723247</td><td>0.2522779862690019</td><td>0.09538003966332995</td><td>1.0144935279302112</td><td>0.7972837710017866</td><td>-0.09751398209996139</td><td>-0.21748761874116612</td><td>-0.4116002114510439</td><td>0.17392582618314073</td><td>-0.3952101957558665</td><td>-1.5616709086616491</td><td>-2.1259599931037934</td><td>-0.3863902989898843</td><td>-0.5663585581147169</td><td>-0.14465799561863377</td><td>-0.7190340277341697</td><td>-1.6418267949645289</td><td>-2.1066878346596893</td><td>-1.130035321243172</td><td>0.24517012103243624</td><td>0.08500142482955339</td><td>0.6416172711685615</td><td>0.3788844474210459</td><td>-0.0984145446412219</td><td>-0.11793514937060945</td><td>1.1347438135360497</td><td>2.561450011086037</td></tr>\n",
       "<tr><td>169</td><td>55067781</td><td>33720</td><td>KIDS_J083852.49+021211.2</td><td>23.12858</td><td>0.08066612</td><td>129.718692</td><td>2.203112</td><td>129.718692</td><td>2.203112</td><td>23.710308</td><td>0.23977388</td><td>2.7169e-10</td><td>6e-11</td><td>0</td><td>23.613503</td><td>0.09878465</td><td>3.1544e-10</td><td>2.87e-11</td><td>0</td><td>23.187153</td><td>0.072832644</td><td>4.9194e-10</td><td>3.3e-11</td><td>0</td><td>22.48106</td><td>0.065105245</td><td>9.7058e-10</td><td>5.82e-11</td><td>0</td><td>21.804209</td><td>0.0662902</td><td>1791.0822</td><td>109.355415</td><td>0</td><td>21.827774</td><td>0.142825</td><td>1766.7152</td><td>232.4056</td><td>0</td><td>20.942398</td><td>0.0705096</td><td>4063.5164</td><td>263.892</td><td>0</td><td>20.926094</td><td>0.15426</td><td>4174.301</td><td>593.08057</td><td>0</td><td>20.244291</td><td>0.0885053</td><td>7875.1924</td><td>641.9573</td><td>0</td><td>0.09680557</td><td>0.5231552</td><td>0.42634964</td><td>1.229248</td><td>1.1324425</td><td>0.70609283</td><td>1.9060993</td><td>1.8092937</td><td>1.3829441</td><td>0.6768513</td><td>1.882534</td><td>1.7857285</td><td>1.3593788</td><td>0.653286</td><td>-0.023565292</td><td>2.76791</td><td>2.6711044</td><td>2.2447548</td><td>1.538662</td><td>0.8618107</td><td>0.885376</td><td>2.784214</td><td>2.6874084</td><td>2.2610588</td><td>1.554966</td><td>0.8781147</td><td>0.90168</td><td>0.016304016</td><td>3.4660168</td><td>3.3692112</td><td>2.9428616</td><td>2.2367687</td><td>1.5599174</td><td>1.5834827</td><td>0.69810677</td><td>0.68180275</td><td>-0.7063512847666618</td><td>-0.8048529614378679</td><td>-0.6502605360777906</td><td>-0.4449456037116317</td><td>-0.07811792894437979</td><td>0.6613361491577482</td><td>-0.038746805762093516</td><td>0.3671139406557103</td><td>1.0744884841988602</td><td>1.1643574431578205</td><td>-0.24688194695222027</td><td>0.04729019774708831</td><td>0.4602082644149362</td><td>0.16047850757720056</td><td>-1.0169898437930345</td><td>0.4063183567810621</td><td>0.7006420080855379</td><td>1.223551358526273</td><td>1.3493462363910398</td><td>1.1394078437037176</td><td>2.5464643990566036</td><td>0.210212540412233</td><td>0.43445091056683893</td><td>0.8192805036037234</td><td>0.7493557265387105</td><td>0.3584217023808857</td><td>1.023979256403342</td><td>-0.8775295227678838</td><td>0.5625549042711969</td><td>0.759853693532189</td><td>1.1955857578568467</td><td>1.23593019923896</td><td>1.0269454607340767</td><td>1.6546036960815045</td><td>0.5207807184903638</td><td>1.4759140877972585</td></tr>\n",
       "<tr><td>170</td><td>55067781</td><td>33784</td><td>KIDS_J083853.22+021213.7</td><td>24.14826</td><td>0.1457491</td><td>129.721757</td><td>2.203827</td><td>129.721757</td><td>2.203827</td><td>99.0</td><td>3.228187</td><td>1.9978e-11</td><td>5.94e-11</td><td>0</td><td>99.0</td><td>1.1367085</td><td>2.7222e-11</td><td>2.85e-11</td><td>0</td><td>23.888832</td><td>0.13726972</td><td>2.5785e-10</td><td>3.26e-11</td><td>0</td><td>22.88804</td><td>0.093715765</td><td>6.6732e-10</td><td>5.76e-11</td><td>0</td><td>21.947186</td><td>0.0756073</td><td>1570.3651</td><td>109.355415</td><td>0</td><td>21.415228</td><td>0.0976672</td><td>2583.5808</td><td>232.4056</td><td>0</td><td>20.968597</td><td>0.0717381</td><td>3967.104</td><td>262.11957</td><td>0</td><td>20.308958</td><td>0.0865383</td><td>7369.974</td><td>587.42194</td><td>0</td><td>20.030134</td><td>0.0719894</td><td>9592.746</td><td>636.04443</td><td>0</td><td>0.0</td><td>75.11117</td><td>75.11117</td><td>76.11196</td><td>76.11196</td><td>1.0007915</td><td>77.05281</td><td>77.05281</td><td>1.9416466</td><td>0.940855</td><td>77.58477</td><td>77.58477</td><td>2.4736042</td><td>1.4728127</td><td>0.5319576</td><td>78.0314</td><td>78.0314</td><td>2.9202347</td><td>1.9194431</td><td>0.9785881</td><td>0.44663048</td><td>78.69104</td><td>78.69104</td><td>3.579874</td><td>2.5790825</td><td>1.6382275</td><td>1.1062698</td><td>0.65963936</td><td>78.969864</td><td>78.969864</td><td>3.858698</td><td>2.8579063</td><td>1.9170513</td><td>1.3850937</td><td>0.9384632</td><td>0.27882385</td><td>-0.8843817791599379</td><td>93.42858785146959</td><td>164.3018159925052</td><td>87.03290366537796</td><td>119.63699882973663</td><td>1.5508495776251157</td><td>82.46433618783863</td><td>100.96596869808218</td><td>2.2171657405772645</td><td>2.216469921128783</td><td>77.15496656434226</td><td>86.07545626517785</td><td>2.228841443610998</td><td>2.2626531255424047</td><td>1.3608850174379357</td><td>72.71747925355858</td><td>77.24043605980403</td><td>2.122980768684374</td><td>2.096401189689316</td><td>1.4812709579538128</td><td>0.7442209529326528</td><td>63.3307053986404</td><td>65.82272618971797</td><td>2.303594922094627</td><td>2.3200714061765373</td><td>1.8928815863535973</td><td>1.5552275258620054</td><td>1.50500434818983</td><td>58.593437355987504</td><td>60.16913677703775</td><td>2.1147673811271965</td><td>2.051293296577467</td><td>1.6125227126897466</td><td>1.2643766023488774</td><td>1.1452141332202503</td><td>0.03934175291042338</td></tr>\n",
       "</table></div>"
      ],
      "text/plain": [
       "<Table length=100>\n",
       "SeqNr   SLID    SID  ... w_MAG_GAAP_J-MAG_GAAP_Ks w_MAG_GAAP_H-MAG_GAAP_Ks\n",
       "                     ...           mag                      mag           \n",
       "int32  int32   int32 ...         float64                  float64         \n",
       "----- -------- ----- ... ------------------------ ------------------------\n",
       "    1 55071011  7667 ...        2.700510006348258      -0.8882764013938147\n",
       "    4 55071011  8473 ...     -0.15793186416225632     -0.42278445458297986\n",
       "    5 55071011  8828 ...       1.3010053546453684       2.4315800697467598\n",
       "    7 55071011  9411 ...       0.9454654078109654       -4.654049135517172\n",
       "  ...      ...   ... ...                      ...                      ...\n",
       "  164 55067781 33167 ...      0.21477286610142785     -0.08847474747155255\n",
       "  166 55067781 33411 ...       1.1347438135360497        2.561450011086037\n",
       "  169 55067781 33720 ...       0.5207807184903638       1.4759140877972585\n",
       "  170 55067781 33784 ...       1.1452141332202503      0.03934175291042338"
      ]
     },
     "execution_count": 111,
     "metadata": {},
     "output_type": "execute_result"
    }
   ],
   "source": [
    "kwst"
   ]
  },
  {
   "cell_type": "markdown",
   "id": "2de93113-ce0f-4b52-8968-d69389500956",
   "metadata": {},
   "source": [
    "# Finding Euclidean Distance "
   ]
  },
  {
   "cell_type": "code",
   "execution_count": 112,
   "id": "32790033-b0b4-47fb-82ba-ba40bae2ea3e",
   "metadata": {
    "tags": []
   },
   "outputs": [],
   "source": [
    "### This cell contains the procedure to unwhiten the codevectors. No longer applicable, \n",
    "### as we intend to instead whiten the original data. \n",
    "\n",
    "# unwhitening the vectors... \n",
    "\n",
    "# create new empty map to hold unwhitened vectors\n",
    "# size from Wright et al. 2020\n",
    "#x = 101\n",
    "#y = 101\n",
    "#z = 36 # number of colors (is it 36 or 36 + 1 ?)\n",
    "#unwhite_som = np.zeros((x,y,z));\n",
    "#unwhite_som = unwhite_som.astype(np.object);\n",
    "\n",
    "# in general, to unwhiten, use: \n",
    "# unwhitened vector = - (color (i.e., 'MAG_GAAP_u-MAG-GAAP_g') x nMAD - median) \n",
    "\n",
    "#def unwhiten(color, med, nmad): \n",
    "#    return(-color * nmad - med)\n",
    "\n",
    "#colors = ['MAG_GAAP_u-MAG_GAAP_g', 'MAG_GAAP_u-MAG_GAAP_r', 'MAG_GAAP_g-MAG_GAAP_r', \n",
    "#          'MAG_GAAP_u-MAG_GAAP_i', 'MAG_GAAP_g-MAG_GAAP_i', 'MAG_GAAP_r-MAG_GAAP_i',\n",
    "#          'MAG_GAAP_u-MAG_GAAP_Z', 'MAG_GAAP_g-MAG_GAAP_Z', 'MAG_GAAP_r-MAG_GAAP_Z', \n",
    "#          'MAG_GAAP_i-MAG_GAAP_Z', 'MAG_GAAP_u-MAG_GAAP_Y', 'MAG_GAAP_g-MAG_GAAP_Y',\n",
    "#          'MAG_GAAP_r-MAG_GAAP_Y', 'MAG_GAAP_i-MAG_GAAP_Y', 'MAG_GAAP_Z-MAG_GAAP_Y', \n",
    "#          'MAG_GAAP_u-MAG_GAAP_J', 'MAG_GAAP_g-MAG_GAAP_J', 'MAG_GAAP_r-MAG_GAAP_J', \n",
    "#          'MAG_GAAP_i-MAG_GAAP_J', 'MAG_GAAP_Z-MAG_GAAP_J', 'MAG_GAAP_Y-MAG_GAAP_J', \n",
    "#          'MAG_GAAP_u-MAG_GAAP_H', 'MAG_GAAP_g-MAG_GAAP_H', 'MAG_GAAP_r-MAG_GAAP_H', \n",
    "#          'MAG_GAAP_i-MAG_GAAP_H', 'MAG_GAAP_Z-MAG_GAAP_H', 'MAG_GAAP_Y-MAG_GAAP_H', \n",
    "#          'MAG_GAAP_J-MAG_GAAP_H', 'MAG_GAAP_u-MAG_GAAP_Ks', 'MAG_GAAP_g-MAG_GAAP_Ks', \n",
    "#          'MAG_GAAP_r-MAG_GAAP_Ks', 'MAG_GAAP_i-MAG_GAAP_Ks', 'MAG_GAAP_Z-MAG_GAAP_Ks', \n",
    "#         'MAG_GAAP_Y-MAG_GAAP_Ks', 'MAG_GAAP_J-MAG_GAAP_Ks', 'MAG_GAAP_H-MAG_GAAP_Ks']\n",
    "\n",
    "#print(len(colors))\n",
    "\n",
    "#for ii in range(x):\n",
    "#    for jj in range(y): \n",
    "#        for kk in range(len(colors)): \n",
    "#            color = som[ii][jj][colors[kk]] # color for specific vector\n",
    "#            white = kids_wide_white_table[np.where(kids_wide_white_table['Factor'] == colors[kk])]\n",
    "#            med = white['Median']\n",
    "#            nmad = white['nMAD']\n",
    "#            unwhite_som[ii, jj, kk] = unwhiten(color, med, nmad)\n",
    "\n",
    "# the first unwhitened vector, (i.e., the unwhitened colors!) \n",
    "# currently, the names for each column are 'nMAD', please update to be corresponding color names \n",
    "# unwhite_som[0][0]\n",
    "\n",
    "#color = som[0][0][colors[0]]\n",
    "#print('color', color)\n",
    "\n",
    "#white = kids_wide_white_table[np.where(kids_wide_white_table['Factor'] == colors[0])]\n",
    "#print(white)\n",
    "\n",
    "#med = white['Median']\n",
    "#print('med')\n",
    "#print(med)\n",
    "\n",
    "#nmad = white['nMAD']\n",
    "#print('nMAD', nmad)\n",
    "\n",
    "#print('unwhiten')\n",
    "#print(unwhiten(color, med, nmad))"
   ]
  },
  {
   "cell_type": "markdown",
   "id": "e567f40f-f67b-426e-838e-5242f591fbe0",
   "metadata": {},
   "source": [
    "## First, let's work on finding the shortest euclidean distance for one galaxy! "
   ]
  },
  {
   "cell_type": "code",
   "execution_count": 113,
   "id": "62634916-8d65-4802-b301-ac68076727b4",
   "metadata": {},
   "outputs": [],
   "source": [
    "'''\n",
    "# global variables, would be useful to re-run cell if things are looking wonky\n",
    "#create empty array to hold only whitened colors of point_1, a global variable\n",
    "#n_colors = len(colors)\n",
    "    \n",
    "#point_1 = np.empty(n_colors)\n",
    "#print(point_1)\n",
    "\n",
    "#n_vectors = len(som[0])\n",
    "#distances = np.zeros((n_vectors,n_vectors))\n",
    "\n",
    "#define point_2 for subtraction\n",
    "#point_2 = np.zeros(n_colors)\n",
    "\n",
    "def create_win_map(data, som_cells): \n",
    "    \"\"\"\n",
    "    Generates a winning map. Indices of galaxies that map to each SOM cell. \n",
    "    \n",
    "    Parameters\n",
    "    ----------\n",
    "    points_1 (Table or np.array): must contain more than one value!!!\n",
    "    \"\"\"\n",
    "    \n",
    "    # create empty dictionary\n",
    "    win_map = defaultdict(list)\n",
    "    \n",
    "    # append dictionary cell with index of points_1\n",
    "    for i in range(len(data)): \n",
    "        win_map[shortest_euclidean_distance(data[i], som_cells)].append(i)\n",
    "        print(i)\n",
    "    \n",
    "    return win_map\n",
    "\n",
    "def euclidean_distance(point_1, point_2): \n",
    "    \"\"\"\n",
    "    Calculates the Euclidean distance between any two points in n-dimensional space. \n",
    "    \n",
    "    Name\n",
    "    --------\n",
    "    #n (int): The dimensions of points, i.e., (x,y,z) has n = 3\n",
    "    # n is not necessary\n",
    "    point_1 (np.array) = First point to calculate Euclidean distance. (The whitened galaxy colors.) \n",
    "    point_2 (np.array) = Second point to calculate Euclidean distance. (The [already] whitened SOM cell colors.)\n",
    "    \n",
    "    Returns\n",
    "    --------\n",
    "    euclidean_distance (float): Euclidean distance between two points. \n",
    "    \n",
    "    \"\"\"\n",
    "    \n",
    "    # converts both points to np.array\n",
    "    point_1 = np.array(point_1)\n",
    "    point_2 = np.array(point_2)\n",
    "    \n",
    "    #euclidean_distance = np.sqrt(np.sum(np.square(point_1 - point_2)))\n",
    "    euclidean_distance = np.linalg.norm(np.subtract(point_1, point_2), axis = -1)\n",
    "    \n",
    "    return euclidean_distance\n",
    "\n",
    "def shortest_euclidean_distance(point_1_full, points_2): \n",
    "    \"\"\"\n",
    "    Calculates the shortest Euclidean distance between any one point and a n-dimensional array of points.\n",
    "    point_1_full (np.array): First point to calculate Euclidean distance. (The whitened galaxy colors.)\n",
    "    points_2 (np.array): n-dimensional array of points to calculate Euclidean distance. (The [already] whitened SOM cell colors.)\n",
    "    \n",
    "    Returns\n",
    "    winning_cell (int): Winning cell, shortest Euclidean distance. # let's try to make this a dictionary.\n",
    "    \"\"\"\n",
    "    n_colors = len(colors)\n",
    "    \n",
    "    point_1 = np.empty(n_colors)\n",
    "    #print(point_1)\n",
    "    # point_1 is in the format of a table, let's only obtain the whitened colors... \n",
    "    for i in range(len(colors)): \n",
    "        point_1[i] = point_1_full[str('w_' + colors[i])]\n",
    "    \n",
    "    # calculate the euclidean distance between point 1 and all the whitened SOM cell colors\n",
    "    # create an empty array to hold distances \n",
    "    #n_vectors = len(som[0])\n",
    "    #distances = np.zeros((n_vectors,n_vectors))\n",
    "    \n",
    "    # find euclidean distance\n",
    "    #for i in range(n_vectors):\n",
    "    #    for j in range(n_vectors):\n",
    "    #        \n",
    "    #        # define point_2 for subtraction\n",
    "    #        point_2 = np.zeros(n_colors)\n",
    "    #        \n",
    "    #        for k in range(len(colors)): \n",
    "    #            point_2 = som[i][j][str(colors[k])]\n",
    "    #            \n",
    "    #        distances[i][j] = euclidean_distance(point_1, point_2)\n",
    "    #\n",
    "    # winning_cell = unravel_index(np.argmin(distances), som.shape)\n",
    "    \n",
    "\n",
    "\n",
    "    #n_vectors = len(som[0])\n",
    "    #distances = np.zeros((n_vectors,n_vectors))\n",
    "    \n",
    "    #for i in range(n_vectors): \n",
    "    #    for j in range(n_vectors): \n",
    "    #        for k in range(len(colors)): \n",
    "                \n",
    "    #            #define point_2 for subtraction\n",
    "    #            point_2 = np.zeros(n_colors)\n",
    "                \n",
    "    #            point_2 = som[i][j][str(colors[k])]\n",
    "            \n",
    "    #            distances[i][j] = euclidean_distance(point_1, point_2)         \n",
    "    \n",
    "    #winning_cell = unravel_index(np.argmin(distances), som.shape)\n",
    "    \n",
    "    #return winning_cell\n",
    "''';"
   ]
  },
  {
   "cell_type": "code",
   "execution_count": 114,
   "id": "a18d855e-7110-4419-b161-35dd0505cb03",
   "metadata": {},
   "outputs": [
    {
     "name": "stdout",
     "output_type": "stream",
     "text": [
      "w_MAG_GAAP_u-MAG_GAAP_g w_MAG_GAAP_u-MAG_GAAP_r ... w_MAG_GAAP_H-MAG_GAAP_Ks\n",
      "          mag                     mag           ...           mag           \n",
      "----------------------- ----------------------- ... ------------------------\n",
      "     136.03312792851366       92.75596828119767 ...      -0.8882764013938147\n",
      "     139.63093361104652       97.21611403015973 ...     -0.42278445458297986\n",
      "     0.7863877932076493      0.3845907265652202 ...       2.4315800697467598\n",
      "     -2.044484379549933     -1.2243992015204153 ...       -4.654049135517172\n",
      "                    ...                     ... ...                      ...\n",
      "     -1.482303126123398     -0.8892581292745385 ...       -2.442907992378758\n",
      "     1.9499489991749734       2.636647451966221 ...     -0.08847474747155255\n",
      "    0.11354869987441364     -0.6292375841117798 ...        2.561450011086037\n",
      "    -0.7063512847666618     -0.8048529614378679 ...       1.4759140877972585\n",
      "    -0.8843817791599379       93.42858785146959 ...      0.03934175291042338\n",
      "Length = 100 rows\n"
     ]
    }
   ],
   "source": [
    "data = kwst\n",
    "# only whitened colors\n",
    "data = data.keep_columns([str('w_' + color) for color in colors])\n",
    "print(kwst)"
   ]
  },
  {
   "cell_type": "code",
   "execution_count": 115,
   "id": "28bec5f3-b3ec-49a0-9d24-dede09336e34",
   "metadata": {},
   "outputs": [
    {
     "name": "stdout",
     "output_type": "stream",
     "text": [
      "[[ 1.36033128e+02  9.27559683e+01 -1.30758163e+00 ... -4.28708431e-01\n",
      "   2.70051001e+00 -8.88276401e-01]\n",
      " [ 1.39630934e+02  9.72161140e+01  2.16876586e+00 ... -1.31962810e-01\n",
      "  -1.57931864e-01 -4.22784455e-01]\n",
      " [ 7.86387793e-01  3.84590727e-01 -3.63614872e-01 ...  1.05422056e+00\n",
      "   1.30100535e+00  2.43158007e+00]\n",
      " ...\n",
      " [ 1.13548700e-01 -6.29237584e-01 -1.32792452e+00 ... -1.17935149e-01\n",
      "   1.13474381e+00  2.56145001e+00]\n",
      " [-7.06351285e-01 -8.04852961e-01 -6.50260536e-01 ...  1.65460370e+00\n",
      "   5.20780718e-01  1.47591409e+00]\n",
      " [-8.84381779e-01  9.34285879e+01  1.64301816e+02 ...  1.26437660e+00\n",
      "   1.14521413e+00  3.93417529e-02]]\n"
     ]
    }
   ],
   "source": [
    "# convert to np array for easier and faster access\n",
    "kwst = np.lib.recfunctions.structured_to_unstructured(kwst.as_array())\n",
    "print(kwst);"
   ]
  },
  {
   "cell_type": "code",
   "execution_count": 143,
   "id": "7fde81e5-0a01-4cdd-b9c5-adbefa138b57",
   "metadata": {},
   "outputs": [],
   "source": [
    "# new and improved(?)\n",
    "\n",
    "def create_win_map(data, som_cells): \n",
    "    \"\"\"\n",
    "    Generates a winning map with indices of galaxies that map to each SOM cell. \n",
    "    \n",
    "    Parameters\n",
    "    ----------\n",
    "    data (Table or np.array): data to generate win map\n",
    "    som_cells (np.array): contains codebook vectors\n",
    "    points_1 (Table or np.array): must contain more than one value!!!\n",
    "    \n",
    "    Returns\n",
    "    -------\n",
    "    win_map (np.array): winning map of data indices that map to the \"winning\" SOM cell. \n",
    "    \"\"\"\n",
    "    \n",
    "    # create empty dictionary\n",
    "    win_map = defaultdict(list)\n",
    "    \n",
    "    # append dictionary cell with index of points_1\n",
    "    for i, x in enumerate (data): \n",
    "        \n",
    "        win_map[shortest_euclidean_distance(x, som_cells)].append(i)\n",
    "        print(i)\n",
    "    \n",
    "    return win_map\n",
    "\n",
    "def euclidean_distance(x, som_cell): \n",
    "    \"\"\"\n",
    "    Calculates the Euclidean distance between any two points in n-dimensional space. \n",
    "    \n",
    "    Name\n",
    "    --------\n",
    "    x (np.array) = First point to calculate Euclidean distance. (The whitened galaxy colors.) \n",
    "    som_cell (np.array) = Second point to calculate Euclidean distance. (The [already] whitened SOM cell colors.)\n",
    "    \n",
    "    Returns\n",
    "    --------\n",
    "    euclidean_distance (float): Euclidean distance between two points. \n",
    "    \n",
    "    \"\"\"\n",
    "    \n",
    "    # converts both points to np.array\n",
    "    x = np.array(x)\n",
    "    som_cell = np.array(som_cell)\n",
    "    \n",
    "    ###\n",
    "    print(type(x))\n",
    "    print(x)\n",
    "    print(x.shape)\n",
    "    print(type(som_cell))\n",
    "    print(som_cell)\n",
    "    print(som_cell.shape)\n",
    "    print(np.subtract(x, som_cell))\n",
    "    ###\n",
    "    \n",
    "    #euclidean_distance = np.sqrt(np.sum(np.square(point_1 - point_2)))\n",
    "    euclidean_distance = np.linalg.norm(np.subtract(x, som_cell), axis = -1)\n",
    "    \n",
    "    return euclidean_distance\n",
    "\n",
    "def shortest_euclidean_distance(x, som_cells): \n",
    "    \"\"\"\n",
    "    Calculates the shortest Euclidean distance between any one point and a n-dimensional array of points.\n",
    "    x (np.array): First point to calculate Euclidean distance. (The whitened galaxy colors.)\n",
    "    som_cells (np.array): n-dimensional array of points to calculate Euclidean distance. (The [already] whitened SOM cell colors.)\n",
    "    \n",
    "    Returns\n",
    "    winning_cell (int): Winning cell, shortest Euclidean distance.\n",
    "    \"\"\"\n",
    "    \n",
    "    for i in range(a): # dimension of som \n",
    "        for j in range(b): # dimension of som\n",
    "                \n",
    "            # som cell colors for distance measurement\n",
    "            som_cell = np.zeros(c)\n",
    "                \n",
    "            som_cell = som[i][j][colors]\n",
    "            \n",
    "            ###\n",
    "            #print('som:', som_cell)\n",
    "            distances[i][j] = euclidean_distance(x, som_cell)    \n",
    "            \n",
    "    return unravel_index(np.argmin(distances), som.shape)\n",
    "    \n",
    "    #return winning_cell"
   ]
  },
  {
   "cell_type": "code",
   "execution_count": null,
   "id": "190627ec-7b22-4403-bdcb-f4d792d12494",
   "metadata": {},
   "outputs": [],
   "source": []
  },
  {
   "cell_type": "code",
   "execution_count": 123,
   "id": "ab6af2fc-09e8-4b86-b4d1-3f290140fa7a",
   "metadata": {},
   "outputs": [
    {
     "name": "stdout",
     "output_type": "stream",
     "text": [
      "<class 'numpy.ndarray'>\n",
      "<class 'numpy.ndarray'>\n"
     ]
    }
   ],
   "source": [
    "print(type(kwst[0]))\n",
    "#np.linalg.norm(np.subtract(som, kwst[0]), axis = -1)\n",
    "#print(type(som))\n",
    "print(type(som[0][0]))\n",
    "som;"
   ]
  },
  {
   "cell_type": "code",
   "execution_count": 144,
   "id": "a497e75e-9a0d-4759-b26a-3c20db7b9f5a",
   "metadata": {},
   "outputs": [
    {
     "name": "stdout",
     "output_type": "stream",
     "text": [
      "<class 'numpy.ndarray'>\n",
      "[ 1.36033128e+02  9.27559683e+01 -1.30758163e+00  8.58184756e+01\n",
      " -8.92558767e-01  1.99770879e-02  8.05271245e+01 -9.31094216e-01\n",
      " -3.02750448e-01 -6.72449700e-01  7.54322245e+01 -3.33949790e-01\n",
      "  3.99420629e-01  6.07291156e-01  1.70148183e+00  6.96964879e+01\n",
      " -1.56839612e+00 -1.35492334e+00 -2.03292047e+00 -2.55819700e+00\n",
      " -5.25065615e+00  6.14302311e+01 -1.95193486e-01  3.30536258e-01\n",
      "  4.09227849e-01  8.41179097e-01 -4.17514069e-03  4.68576367e+00\n",
      "  5.66368821e+01 -3.36420394e-01  9.41383145e-02  7.42565519e-02\n",
      "  3.31649682e-01 -4.28708431e-01  2.70051001e+00 -8.88276401e-01]\n",
      "(36,)\n",
      "<class 'numpy.ndarray'>\n",
      "(1.04826952, 0.39392434, -0.66180947, 0.08682321, -0.87465722, -0.82870797, -0.09993247, -0.98299197, -0.9801348, -0.87182721, -0.27964209, -1.07191923, -1.09679724, -1.08935783, -0.91558967, -0.36225918, -1.08085823, -1.10507205, -1.11315619, -1.03929923, -0.60792062, -0.50515595, -1.12650826, -1.21689179, -1.26824004, -1.26574645, -1.12667055, -1.10093291, -0.65589663, -1.23569494, -1.34785616, -1.44265792, -1.48106564, -1.40067264, -1.51956234, -1.10878106)\n",
      "()\n"
     ]
    },
    {
     "ename": "UFuncTypeError",
     "evalue": "ufunc 'subtract' did not contain a loop with signature matching types (dtype('float64'), dtype({'names':['MAG_GAAP_u-MAG_GAAP_g','MAG_GAAP_u-MAG_GAAP_r','MAG_GAAP_g-MAG_GAAP_r','MAG_GAAP_u-MAG_GAAP_i','MAG_GAAP_g-MAG_GAAP_i','MAG_GAAP_r-MAG_GAAP_i','MAG_GAAP_u-MAG_GAAP_Z','MAG_GAAP_g-MAG_GAAP_Z','MAG_GAAP_r-MAG_GAAP_Z','MAG_GAAP_i-MAG_GAAP_Z','MAG_GAAP_u-MAG_GAAP_Y','MAG_GAAP_g-MAG_GAAP_Y','MAG_GAAP_r-MAG_GAAP_Y','MAG_GAAP_i-MAG_GAAP_Y','MAG_GAAP_Z-MAG_GAAP_Y','MAG_GAAP_u-MAG_GAAP_J','MAG_GAAP_g-MAG_GAAP_J','MAG_GAAP_r-MAG_GAAP_J','MAG_GAAP_i-MAG_GAAP_J','MAG_GAAP_Z-MAG_GAAP_J','MAG_GAAP_Y-MAG_GAAP_J','MAG_GAAP_u-MAG_GAAP_H','MAG_GAAP_g-MAG_GAAP_H','MAG_GAAP_r-MAG_GAAP_H','MAG_GAAP_i-MAG_GAAP_H','MAG_GAAP_Z-MAG_GAAP_H','MAG_GAAP_Y-MAG_GAAP_H','MAG_GAAP_J-MAG_GAAP_H','MAG_GAAP_u-MAG_GAAP_Ks','MAG_GAAP_g-MAG_GAAP_Ks','MAG_GAAP_r-MAG_GAAP_Ks','MAG_GAAP_i-MAG_GAAP_Ks','MAG_GAAP_Z-MAG_GAAP_Ks','MAG_GAAP_Y-MAG_GAAP_Ks','MAG_GAAP_J-MAG_GAAP_Ks','MAG_GAAP_H-MAG_GAAP_Ks'], 'formats':['<f8','<f8','<f8','<f8','<f8','<f8','<f8','<f8','<f8','<f8','<f8','<f8','<f8','<f8','<f8','<f8','<f8','<f8','<f8','<f8','<f8','<f8','<f8','<f8','<f8','<f8','<f8','<f8','<f8','<f8','<f8','<f8','<f8','<f8','<f8','<f8'], 'offsets':[0,8,16,24,32,40,48,56,64,72,80,88,96,104,112,120,128,136,144,152,160,168,176,184,192,200,208,216,224,232,240,248,256,264,272,280], 'itemsize':296})) -> None",
     "output_type": "error",
     "traceback": [
      "\u001b[0;31m---------------------------------------------------------------------------\u001b[0m",
      "\u001b[0;31mUFuncTypeError\u001b[0m                            Traceback (most recent call last)",
      "\u001b[0;32m/var/folders/0z/gcq4csmx09v81bqd_hmdz6700000gn/T/ipykernel_88797/4057756410.py\u001b[0m in \u001b[0;36m<module>\u001b[0;34m\u001b[0m\n\u001b[0;32m----> 1\u001b[0;31m \u001b[0mhundred_win_map\u001b[0m \u001b[0;34m=\u001b[0m \u001b[0mcreate_win_map\u001b[0m\u001b[0;34m(\u001b[0m\u001b[0mkwst\u001b[0m\u001b[0;34m,\u001b[0m \u001b[0msom\u001b[0m\u001b[0;34m)\u001b[0m\u001b[0;34m\u001b[0m\u001b[0;34m\u001b[0m\u001b[0m\n\u001b[0m",
      "\u001b[0;32m/var/folders/0z/gcq4csmx09v81bqd_hmdz6700000gn/T/ipykernel_88797/2780120734.py\u001b[0m in \u001b[0;36mcreate_win_map\u001b[0;34m(data, som_cells)\u001b[0m\n\u001b[1;32m     22\u001b[0m     \u001b[0;32mfor\u001b[0m \u001b[0mi\u001b[0m\u001b[0;34m,\u001b[0m \u001b[0mx\u001b[0m \u001b[0;32min\u001b[0m \u001b[0menumerate\u001b[0m \u001b[0;34m(\u001b[0m\u001b[0mdata\u001b[0m\u001b[0;34m)\u001b[0m\u001b[0;34m:\u001b[0m\u001b[0;34m\u001b[0m\u001b[0;34m\u001b[0m\u001b[0m\n\u001b[1;32m     23\u001b[0m \u001b[0;34m\u001b[0m\u001b[0m\n\u001b[0;32m---> 24\u001b[0;31m         \u001b[0mwin_map\u001b[0m\u001b[0;34m[\u001b[0m\u001b[0mshortest_euclidean_distance\u001b[0m\u001b[0;34m(\u001b[0m\u001b[0mx\u001b[0m\u001b[0;34m,\u001b[0m \u001b[0msom_cells\u001b[0m\u001b[0;34m)\u001b[0m\u001b[0;34m]\u001b[0m\u001b[0;34m.\u001b[0m\u001b[0mappend\u001b[0m\u001b[0;34m(\u001b[0m\u001b[0mi\u001b[0m\u001b[0;34m)\u001b[0m\u001b[0;34m\u001b[0m\u001b[0;34m\u001b[0m\u001b[0m\n\u001b[0m\u001b[1;32m     25\u001b[0m         \u001b[0mprint\u001b[0m\u001b[0;34m(\u001b[0m\u001b[0mi\u001b[0m\u001b[0;34m)\u001b[0m\u001b[0;34m\u001b[0m\u001b[0;34m\u001b[0m\u001b[0m\n\u001b[1;32m     26\u001b[0m \u001b[0;34m\u001b[0m\u001b[0m\n",
      "\u001b[0;32m/var/folders/0z/gcq4csmx09v81bqd_hmdz6700000gn/T/ipykernel_88797/2780120734.py\u001b[0m in \u001b[0;36mshortest_euclidean_distance\u001b[0;34m(x, som_cells)\u001b[0m\n\u001b[1;32m     81\u001b[0m             \u001b[0;31m###\u001b[0m\u001b[0;34m\u001b[0m\u001b[0;34m\u001b[0m\u001b[0;34m\u001b[0m\u001b[0m\n\u001b[1;32m     82\u001b[0m             \u001b[0;31m#print('som:', som_cell)\u001b[0m\u001b[0;34m\u001b[0m\u001b[0;34m\u001b[0m\u001b[0;34m\u001b[0m\u001b[0m\n\u001b[0;32m---> 83\u001b[0;31m             \u001b[0mdistances\u001b[0m\u001b[0;34m[\u001b[0m\u001b[0mi\u001b[0m\u001b[0;34m]\u001b[0m\u001b[0;34m[\u001b[0m\u001b[0mj\u001b[0m\u001b[0;34m]\u001b[0m \u001b[0;34m=\u001b[0m \u001b[0meuclidean_distance\u001b[0m\u001b[0;34m(\u001b[0m\u001b[0mx\u001b[0m\u001b[0;34m,\u001b[0m \u001b[0msom_cell\u001b[0m\u001b[0;34m)\u001b[0m\u001b[0;34m\u001b[0m\u001b[0;34m\u001b[0m\u001b[0m\n\u001b[0m\u001b[1;32m     84\u001b[0m \u001b[0;34m\u001b[0m\u001b[0m\n\u001b[1;32m     85\u001b[0m     \u001b[0;32mreturn\u001b[0m \u001b[0munravel_index\u001b[0m\u001b[0;34m(\u001b[0m\u001b[0mnp\u001b[0m\u001b[0;34m.\u001b[0m\u001b[0margmin\u001b[0m\u001b[0;34m(\u001b[0m\u001b[0mdistances\u001b[0m\u001b[0;34m)\u001b[0m\u001b[0;34m,\u001b[0m \u001b[0msom\u001b[0m\u001b[0;34m.\u001b[0m\u001b[0mshape\u001b[0m\u001b[0;34m)\u001b[0m\u001b[0;34m\u001b[0m\u001b[0;34m\u001b[0m\u001b[0m\n",
      "\u001b[0;32m/var/folders/0z/gcq4csmx09v81bqd_hmdz6700000gn/T/ipykernel_88797/2780120734.py\u001b[0m in \u001b[0;36meuclidean_distance\u001b[0;34m(x, som_cell)\u001b[0m\n\u001b[1;32m     53\u001b[0m     \u001b[0mprint\u001b[0m\u001b[0;34m(\u001b[0m\u001b[0msom_cell\u001b[0m\u001b[0;34m)\u001b[0m\u001b[0;34m\u001b[0m\u001b[0;34m\u001b[0m\u001b[0m\n\u001b[1;32m     54\u001b[0m     \u001b[0mprint\u001b[0m\u001b[0;34m(\u001b[0m\u001b[0msom_cell\u001b[0m\u001b[0;34m.\u001b[0m\u001b[0mshape\u001b[0m\u001b[0;34m)\u001b[0m\u001b[0;34m\u001b[0m\u001b[0;34m\u001b[0m\u001b[0m\n\u001b[0;32m---> 55\u001b[0;31m     \u001b[0mprint\u001b[0m\u001b[0;34m(\u001b[0m\u001b[0mnp\u001b[0m\u001b[0;34m.\u001b[0m\u001b[0msubtract\u001b[0m\u001b[0;34m(\u001b[0m\u001b[0mx\u001b[0m\u001b[0;34m,\u001b[0m \u001b[0msom_cell\u001b[0m\u001b[0;34m)\u001b[0m\u001b[0;34m)\u001b[0m\u001b[0;34m\u001b[0m\u001b[0;34m\u001b[0m\u001b[0m\n\u001b[0m\u001b[1;32m     56\u001b[0m     \u001b[0;31m###\u001b[0m\u001b[0;34m\u001b[0m\u001b[0;34m\u001b[0m\u001b[0;34m\u001b[0m\u001b[0m\n\u001b[1;32m     57\u001b[0m \u001b[0;34m\u001b[0m\u001b[0m\n",
      "\u001b[0;31mUFuncTypeError\u001b[0m: ufunc 'subtract' did not contain a loop with signature matching types (dtype('float64'), dtype({'names':['MAG_GAAP_u-MAG_GAAP_g','MAG_GAAP_u-MAG_GAAP_r','MAG_GAAP_g-MAG_GAAP_r','MAG_GAAP_u-MAG_GAAP_i','MAG_GAAP_g-MAG_GAAP_i','MAG_GAAP_r-MAG_GAAP_i','MAG_GAAP_u-MAG_GAAP_Z','MAG_GAAP_g-MAG_GAAP_Z','MAG_GAAP_r-MAG_GAAP_Z','MAG_GAAP_i-MAG_GAAP_Z','MAG_GAAP_u-MAG_GAAP_Y','MAG_GAAP_g-MAG_GAAP_Y','MAG_GAAP_r-MAG_GAAP_Y','MAG_GAAP_i-MAG_GAAP_Y','MAG_GAAP_Z-MAG_GAAP_Y','MAG_GAAP_u-MAG_GAAP_J','MAG_GAAP_g-MAG_GAAP_J','MAG_GAAP_r-MAG_GAAP_J','MAG_GAAP_i-MAG_GAAP_J','MAG_GAAP_Z-MAG_GAAP_J','MAG_GAAP_Y-MAG_GAAP_J','MAG_GAAP_u-MAG_GAAP_H','MAG_GAAP_g-MAG_GAAP_H','MAG_GAAP_r-MAG_GAAP_H','MAG_GAAP_i-MAG_GAAP_H','MAG_GAAP_Z-MAG_GAAP_H','MAG_GAAP_Y-MAG_GAAP_H','MAG_GAAP_J-MAG_GAAP_H','MAG_GAAP_u-MAG_GAAP_Ks','MAG_GAAP_g-MAG_GAAP_Ks','MAG_GAAP_r-MAG_GAAP_Ks','MAG_GAAP_i-MAG_GAAP_Ks','MAG_GAAP_Z-MAG_GAAP_Ks','MAG_GAAP_Y-MAG_GAAP_Ks','MAG_GAAP_J-MAG_GAAP_Ks','MAG_GAAP_H-MAG_GAAP_Ks'], 'formats':['<f8','<f8','<f8','<f8','<f8','<f8','<f8','<f8','<f8','<f8','<f8','<f8','<f8','<f8','<f8','<f8','<f8','<f8','<f8','<f8','<f8','<f8','<f8','<f8','<f8','<f8','<f8','<f8','<f8','<f8','<f8','<f8','<f8','<f8','<f8','<f8'], 'offsets':[0,8,16,24,32,40,48,56,64,72,80,88,96,104,112,120,128,136,144,152,160,168,176,184,192,200,208,216,224,232,240,248,256,264,272,280], 'itemsize':296})) -> None"
     ]
    }
   ],
   "source": [
    "hundred_win_map = create_win_map(kwst, som)"
   ]
  },
  {
   "cell_type": "code",
   "execution_count": 26,
   "id": "e8980702-a3a6-4191-b071-33810104fc30",
   "metadata": {},
   "outputs": [],
   "source": [
    "# a step by step dive into the following function in order to find the error\n",
    "# def create_win_map\n",
    "\n",
    "# create an empty dictionary that can hold lists\n",
    "win_map = defaultdict(list)"
   ]
  },
  {
   "cell_type": "code",
   "execution_count": 27,
   "id": "4d12375a-bc80-4811-b123-fc05a363ebb7",
   "metadata": {},
   "outputs": [
    {
     "name": "stdout",
     "output_type": "stream",
     "text": [
      "36\n",
      "[0. 0. 0. 0. 0. 0. 0. 0. 0. 0. 0. 0. 0. 0. 0. 0. 0. 0. 0. 0. 0. 0. 0. 0.\n",
      " 0. 0. 0. 0. 0. 0. 0. 0. 0. 0. 0. 0.]\n",
      "36\n"
     ]
    }
   ],
   "source": [
    "# focus on one point only!\n",
    "data = kwst\n",
    "data[0]\n",
    "\n",
    "\n",
    "# create empty array that holds colors of galaxy at specified index \n",
    "# in theory, this could be a global variable, modify!!! \n",
    "print(len(colors))\n",
    "n_colors = len(colors)\n",
    "    \n",
    "point_3 = np.zeros(n_colors) # previously using np.empty, which does not set the values to zero, \n",
    "                             # unless specified by me!!!\n",
    "print(point_3)\n",
    "\n",
    "print(n_colors)"
   ]
  },
  {
   "cell_type": "code",
   "execution_count": 28,
   "id": "9d5c9bb7-1ecf-4cd9-a3f2-442b29ea24d0",
   "metadata": {},
   "outputs": [
    {
     "data": {
      "text/plain": [
       "array([0., 0., 0., 0., 0., 0., 0., 0., 0., 0., 0., 0., 0., 0., 0., 0., 0.,\n",
       "       0., 0., 0., 0., 0., 0., 0., 0., 0., 0., 0., 0., 0., 0., 0., 0., 0.,\n",
       "       0., 0.])"
      ]
     },
     "execution_count": 28,
     "metadata": {},
     "output_type": "execute_result"
    }
   ],
   "source": [
    "np.empty(n_colors)"
   ]
  },
  {
   "cell_type": "code",
   "execution_count": 29,
   "id": "57cb0eea-8d85-48a1-9990-bdd75e47456a",
   "metadata": {},
   "outputs": [
    {
     "data": {
      "text/html": [
       "<i>Row index=0</i>\n",
       "<table id=\"table4425037424\">\n",
       "<thead><tr><th>SeqNr</th><th>SLID</th><th>SID</th><th>ID</th><th>MAG_AUTO</th><th>MAGERR_AUTO</th><th>RAJ2000</th><th>DECJ2000</th><th>ALPHA_J2000</th><th>DELTA_J2000</th><th>MAG_GAAP_u</th><th>MAGERR_GAAP_u</th><th>FLUX_GAAP_u</th><th>FLUXERR_GAAP_u</th><th>FLAG_GAAP_u</th><th>MAG_GAAP_g</th><th>MAGERR_GAAP_g</th><th>FLUX_GAAP_g</th><th>FLUXERR_GAAP_g</th><th>FLAG_GAAP_g</th><th>MAG_GAAP_r</th><th>MAGERR_GAAP_r</th><th>FLUX_GAAP_r</th><th>FLUXERR_GAAP_r</th><th>FLAG_GAAP_r</th><th>MAG_GAAP_i</th><th>MAGERR_GAAP_i</th><th>FLUX_GAAP_i</th><th>FLUXERR_GAAP_i</th><th>FLAG_GAAP_i</th><th>MAG_GAAP_Z</th><th>MAGERR_GAAP_Z</th><th>FLUX_GAAP_Z</th><th>FLUXERR_GAAP_Z</th><th>FLAG_GAAP_Z</th><th>MAG_GAAP_Y</th><th>MAGERR_GAAP_Y</th><th>FLUX_GAAP_Y</th><th>FLUXERR_GAAP_Y</th><th>FLAG_GAAP_Y</th><th>MAG_GAAP_J</th><th>MAGERR_GAAP_J</th><th>FLUX_GAAP_J</th><th>FLUXERR_GAAP_J</th><th>FLAG_GAAP_J</th><th>MAG_GAAP_H</th><th>MAGERR_GAAP_H</th><th>FLUX_GAAP_H</th><th>FLUXERR_GAAP_H</th><th>FLAG_GAAP_H</th><th>MAG_GAAP_Ks</th><th>MAGERR_GAAP_Ks</th><th>FLUX_GAAP_Ks</th><th>FLUXERR_GAAP_Ks</th><th>FLAG_GAAP_Ks</th><th>MAG_GAAP_u-MAG_GAAP_g</th><th>MAG_GAAP_u-MAG_GAAP_r</th><th>MAG_GAAP_g-MAG_GAAP_r</th><th>MAG_GAAP_u-MAG_GAAP_i</th><th>MAG_GAAP_g-MAG_GAAP_i</th><th>MAG_GAAP_r-MAG_GAAP_i</th><th>MAG_GAAP_u-MAG_GAAP_Z</th><th>MAG_GAAP_g-MAG_GAAP_Z</th><th>MAG_GAAP_r-MAG_GAAP_Z</th><th>MAG_GAAP_i-MAG_GAAP_Z</th><th>MAG_GAAP_u-MAG_GAAP_Y</th><th>MAG_GAAP_g-MAG_GAAP_Y</th><th>MAG_GAAP_r-MAG_GAAP_Y</th><th>MAG_GAAP_i-MAG_GAAP_Y</th><th>MAG_GAAP_Z-MAG_GAAP_Y</th><th>MAG_GAAP_u-MAG_GAAP_J</th><th>MAG_GAAP_g-MAG_GAAP_J</th><th>MAG_GAAP_r-MAG_GAAP_J</th><th>MAG_GAAP_i-MAG_GAAP_J</th><th>MAG_GAAP_Z-MAG_GAAP_J</th><th>MAG_GAAP_Y-MAG_GAAP_J</th><th>MAG_GAAP_u-MAG_GAAP_H</th><th>MAG_GAAP_g-MAG_GAAP_H</th><th>MAG_GAAP_r-MAG_GAAP_H</th><th>MAG_GAAP_i-MAG_GAAP_H</th><th>MAG_GAAP_Z-MAG_GAAP_H</th><th>MAG_GAAP_Y-MAG_GAAP_H</th><th>MAG_GAAP_J-MAG_GAAP_H</th><th>MAG_GAAP_u-MAG_GAAP_Ks</th><th>MAG_GAAP_g-MAG_GAAP_Ks</th><th>MAG_GAAP_r-MAG_GAAP_Ks</th><th>MAG_GAAP_i-MAG_GAAP_Ks</th><th>MAG_GAAP_Z-MAG_GAAP_Ks</th><th>MAG_GAAP_Y-MAG_GAAP_Ks</th><th>MAG_GAAP_J-MAG_GAAP_Ks</th><th>MAG_GAAP_H-MAG_GAAP_Ks</th><th>w_MAG_GAAP_u-MAG_GAAP_g</th><th>w_MAG_GAAP_u-MAG_GAAP_r</th><th>w_MAG_GAAP_g-MAG_GAAP_r</th><th>w_MAG_GAAP_u-MAG_GAAP_i</th><th>w_MAG_GAAP_g-MAG_GAAP_i</th><th>w_MAG_GAAP_r-MAG_GAAP_i</th><th>w_MAG_GAAP_u-MAG_GAAP_Z</th><th>w_MAG_GAAP_g-MAG_GAAP_Z</th><th>w_MAG_GAAP_r-MAG_GAAP_Z</th><th>w_MAG_GAAP_i-MAG_GAAP_Z</th><th>w_MAG_GAAP_u-MAG_GAAP_Y</th><th>w_MAG_GAAP_g-MAG_GAAP_Y</th><th>w_MAG_GAAP_r-MAG_GAAP_Y</th><th>w_MAG_GAAP_i-MAG_GAAP_Y</th><th>w_MAG_GAAP_Z-MAG_GAAP_Y</th><th>w_MAG_GAAP_u-MAG_GAAP_J</th><th>w_MAG_GAAP_g-MAG_GAAP_J</th><th>w_MAG_GAAP_r-MAG_GAAP_J</th><th>w_MAG_GAAP_i-MAG_GAAP_J</th><th>w_MAG_GAAP_Z-MAG_GAAP_J</th><th>w_MAG_GAAP_Y-MAG_GAAP_J</th><th>w_MAG_GAAP_u-MAG_GAAP_H</th><th>w_MAG_GAAP_g-MAG_GAAP_H</th><th>w_MAG_GAAP_r-MAG_GAAP_H</th><th>w_MAG_GAAP_i-MAG_GAAP_H</th><th>w_MAG_GAAP_Z-MAG_GAAP_H</th><th>w_MAG_GAAP_Y-MAG_GAAP_H</th><th>w_MAG_GAAP_J-MAG_GAAP_H</th><th>w_MAG_GAAP_u-MAG_GAAP_Ks</th><th>w_MAG_GAAP_g-MAG_GAAP_Ks</th><th>w_MAG_GAAP_r-MAG_GAAP_Ks</th><th>w_MAG_GAAP_i-MAG_GAAP_Ks</th><th>w_MAG_GAAP_Z-MAG_GAAP_Ks</th><th>w_MAG_GAAP_Y-MAG_GAAP_Ks</th><th>w_MAG_GAAP_J-MAG_GAAP_Ks</th><th>w_MAG_GAAP_H-MAG_GAAP_Ks</th></tr></thead>\n",
       "<thead><tr><th></th><th></th><th></th><th></th><th>mag</th><th>mag</th><th>deg</th><th>deg</th><th>deg</th><th>deg</th><th>mag</th><th>mag</th><th>ct</th><th>ct</th><th></th><th>mag</th><th>mag</th><th>ct</th><th>ct</th><th></th><th>mag</th><th>mag</th><th>ct</th><th>ct</th><th></th><th>mag</th><th>mag</th><th>ct</th><th>ct</th><th></th><th>mag</th><th>mag</th><th>ct</th><th>ct</th><th></th><th>mag</th><th>mag</th><th>ct</th><th>ct</th><th></th><th>mag</th><th>mag</th><th>ct</th><th>ct</th><th></th><th>mag</th><th>mag</th><th>ct</th><th>ct</th><th></th><th>mag</th><th>mag</th><th>ct</th><th>ct</th><th></th><th>mag</th><th>mag</th><th>mag</th><th>mag</th><th>mag</th><th>mag</th><th>mag</th><th>mag</th><th>mag</th><th>mag</th><th>mag</th><th>mag</th><th>mag</th><th>mag</th><th>mag</th><th>mag</th><th>mag</th><th>mag</th><th>mag</th><th>mag</th><th>mag</th><th>mag</th><th>mag</th><th>mag</th><th>mag</th><th>mag</th><th>mag</th><th>mag</th><th>mag</th><th>mag</th><th>mag</th><th>mag</th><th>mag</th><th>mag</th><th>mag</th><th>mag</th><th>mag</th><th>mag</th><th>mag</th><th>mag</th><th>mag</th><th>mag</th><th>mag</th><th>mag</th><th>mag</th><th>mag</th><th>mag</th><th>mag</th><th>mag</th><th>mag</th><th>mag</th><th>mag</th><th>mag</th><th>mag</th><th>mag</th><th>mag</th><th>mag</th><th>mag</th><th>mag</th><th>mag</th><th>mag</th><th>mag</th><th>mag</th><th>mag</th><th>mag</th><th>mag</th><th>mag</th><th>mag</th><th>mag</th><th>mag</th><th>mag</th><th>mag</th></tr></thead>\n",
       "<thead><tr><th>int32</th><th>int32</th><th>int32</th><th>bytes25</th><th>float32</th><th>float32</th><th>float64</th><th>float64</th><th>float64</th><th>float64</th><th>float32</th><th>float32</th><th>float32</th><th>float32</th><th>int16</th><th>float32</th><th>float32</th><th>float32</th><th>float32</th><th>int16</th><th>float32</th><th>float32</th><th>float32</th><th>float32</th><th>int16</th><th>float32</th><th>float32</th><th>float32</th><th>float32</th><th>int16</th><th>float32</th><th>float32</th><th>float32</th><th>float32</th><th>int16</th><th>float32</th><th>float32</th><th>float32</th><th>float32</th><th>int16</th><th>float32</th><th>float32</th><th>float32</th><th>float32</th><th>int16</th><th>float32</th><th>float32</th><th>float32</th><th>float32</th><th>int16</th><th>float32</th><th>float32</th><th>float32</th><th>float32</th><th>int16</th><th>float32</th><th>float32</th><th>float32</th><th>float32</th><th>float32</th><th>float32</th><th>float32</th><th>float32</th><th>float32</th><th>float32</th><th>float32</th><th>float32</th><th>float32</th><th>float32</th><th>float32</th><th>float32</th><th>float32</th><th>float32</th><th>float32</th><th>float32</th><th>float32</th><th>float32</th><th>float32</th><th>float32</th><th>float32</th><th>float32</th><th>float32</th><th>float32</th><th>float32</th><th>float32</th><th>float32</th><th>float32</th><th>float32</th><th>float32</th><th>float32</th><th>float32</th><th>float64</th><th>float64</th><th>float64</th><th>float64</th><th>float64</th><th>float64</th><th>float64</th><th>float64</th><th>float64</th><th>float64</th><th>float64</th><th>float64</th><th>float64</th><th>float64</th><th>float64</th><th>float64</th><th>float64</th><th>float64</th><th>float64</th><th>float64</th><th>float64</th><th>float64</th><th>float64</th><th>float64</th><th>float64</th><th>float64</th><th>float64</th><th>float64</th><th>float64</th><th>float64</th><th>float64</th><th>float64</th><th>float64</th><th>float64</th><th>float64</th><th>float64</th></tr></thead>\n",
       "<tr><td>1</td><td>55071011</td><td>7667</td><td>KIDS_J083427.36-015753.4</td><td>24.96544</td><td>0.2316225</td><td>128.613994</td><td>-1.964857</td><td>128.613994</td><td>-1.964857</td><td>99.0</td><td>6.722888</td><td>1.0562e-11</td><td>6.54e-11</td><td>0</td><td>24.549961</td><td>0.21909648</td><td>1.3925e-10</td><td>2.81e-11</td><td>0</td><td>24.421225</td><td>0.20971318</td><td>1.6153e-10</td><td>3.12e-11</td><td>0</td><td>23.927616</td><td>0.30297685</td><td>2.616e-10</td><td>7.3e-11</td><td>0</td><td>23.71167</td><td>0.553141</td><td>316.02</td><td>161.0</td><td>0</td><td>23.100142</td><td>0.741575</td><td>557.82</td><td>381.0</td><td>0</td><td>24.112928</td><td>2.07892</td><td>221.8589</td><td>424.8053</td><td>0</td><td>22.594416</td><td>1.23558</td><td>905.09</td><td>1030.0</td><td>0</td><td>22.575802</td><td>1.10735</td><td>924.59</td><td>943.0</td><td>0</td><td>74.45004</td><td>74.57877</td><td>0.1287365</td><td>75.07239</td><td>0.622345</td><td>0.49360847</td><td>75.28833</td><td>0.83829117</td><td>0.7095547</td><td>0.2159462</td><td>75.89986</td><td>1.4498196</td><td>1.3210831</td><td>0.8274746</td><td>0.6115284</td><td>74.88707</td><td>0.4370327</td><td>0.3082962</td><td>-0.18531227</td><td>-0.40125847</td><td>-1.0127869</td><td>76.40559</td><td>1.9555454</td><td>1.8268089</td><td>1.3332005</td><td>1.1172543</td><td>0.50572586</td><td>1.5185127</td><td>76.424194</td><td>1.9741592</td><td>1.8454227</td><td>1.3518143</td><td>1.1358681</td><td>0.5243397</td><td>1.5371265</td><td>0.018613815</td><td>136.03312792851366</td><td>92.75596828119767</td><td>-1.3075816252971149</td><td>85.81847559874535</td><td>-0.8925587670951213</td><td>0.01997708794013255</td><td>80.52712448541276</td><td>-0.931094215783179</td><td>-0.30275044836109816</td><td>-0.6724497003699239</td><td>75.4322244560625</td><td>-0.3339497900717307</td><td>0.3994206289086264</td><td>0.6072911559142242</td><td>1.7014818279910393</td><td>69.69648788832957</td><td>-1.5683961249017873</td><td>-1.3549233434777994</td><td>-2.0329204701804553</td><td>-2.558197000947717</td><td>-5.250656145254845</td><td>61.430231125141155</td><td>-0.19519348585385204</td><td>0.33053625821597266</td><td>0.40922784934791073</td><td>0.8411790968592546</td><td>-0.004175140691691733</td><td>4.685763671658286</td><td>56.63688207600848</td><td>-0.3364203944097938</td><td>0.09413831447824883</td><td>0.07425655186599092</td><td>0.3316496816910661</td><td>-0.42870843068488906</td><td>2.700510006348258</td><td>-0.8882764013938147</td></tr>\n",
       "</table>"
      ],
      "text/plain": [
       "<Row index=0>\n",
       "SeqNr   SLID    SID             ID            MAG_AUTO MAGERR_AUTO  RAJ2000    DECJ2000 ALPHA_J2000 DELTA_J2000 MAG_GAAP_u MAGERR_GAAP_u FLUX_GAAP_u FLUXERR_GAAP_u FLAG_GAAP_u MAG_GAAP_g MAGERR_GAAP_g FLUX_GAAP_g FLUXERR_GAAP_g FLAG_GAAP_g MAG_GAAP_r MAGERR_GAAP_r FLUX_GAAP_r FLUXERR_GAAP_r FLAG_GAAP_r MAG_GAAP_i MAGERR_GAAP_i FLUX_GAAP_i FLUXERR_GAAP_i FLAG_GAAP_i MAG_GAAP_Z MAGERR_GAAP_Z FLUX_GAAP_Z FLUXERR_GAAP_Z FLAG_GAAP_Z MAG_GAAP_Y MAGERR_GAAP_Y FLUX_GAAP_Y FLUXERR_GAAP_Y FLAG_GAAP_Y MAG_GAAP_J MAGERR_GAAP_J FLUX_GAAP_J FLUXERR_GAAP_J FLAG_GAAP_J MAG_GAAP_H MAGERR_GAAP_H FLUX_GAAP_H FLUXERR_GAAP_H FLAG_GAAP_H MAG_GAAP_Ks MAGERR_GAAP_Ks FLUX_GAAP_Ks FLUXERR_GAAP_Ks FLAG_GAAP_Ks MAG_GAAP_u-MAG_GAAP_g MAG_GAAP_u-MAG_GAAP_r MAG_GAAP_g-MAG_GAAP_r MAG_GAAP_u-MAG_GAAP_i MAG_GAAP_g-MAG_GAAP_i MAG_GAAP_r-MAG_GAAP_i MAG_GAAP_u-MAG_GAAP_Z MAG_GAAP_g-MAG_GAAP_Z MAG_GAAP_r-MAG_GAAP_Z MAG_GAAP_i-MAG_GAAP_Z MAG_GAAP_u-MAG_GAAP_Y MAG_GAAP_g-MAG_GAAP_Y MAG_GAAP_r-MAG_GAAP_Y MAG_GAAP_i-MAG_GAAP_Y MAG_GAAP_Z-MAG_GAAP_Y MAG_GAAP_u-MAG_GAAP_J MAG_GAAP_g-MAG_GAAP_J MAG_GAAP_r-MAG_GAAP_J MAG_GAAP_i-MAG_GAAP_J MAG_GAAP_Z-MAG_GAAP_J MAG_GAAP_Y-MAG_GAAP_J MAG_GAAP_u-MAG_GAAP_H MAG_GAAP_g-MAG_GAAP_H MAG_GAAP_r-MAG_GAAP_H MAG_GAAP_i-MAG_GAAP_H MAG_GAAP_Z-MAG_GAAP_H MAG_GAAP_Y-MAG_GAAP_H MAG_GAAP_J-MAG_GAAP_H MAG_GAAP_u-MAG_GAAP_Ks MAG_GAAP_g-MAG_GAAP_Ks MAG_GAAP_r-MAG_GAAP_Ks MAG_GAAP_i-MAG_GAAP_Ks MAG_GAAP_Z-MAG_GAAP_Ks MAG_GAAP_Y-MAG_GAAP_Ks MAG_GAAP_J-MAG_GAAP_Ks MAG_GAAP_H-MAG_GAAP_Ks w_MAG_GAAP_u-MAG_GAAP_g w_MAG_GAAP_u-MAG_GAAP_r w_MAG_GAAP_g-MAG_GAAP_r w_MAG_GAAP_u-MAG_GAAP_i w_MAG_GAAP_g-MAG_GAAP_i w_MAG_GAAP_r-MAG_GAAP_i w_MAG_GAAP_u-MAG_GAAP_Z w_MAG_GAAP_g-MAG_GAAP_Z w_MAG_GAAP_r-MAG_GAAP_Z w_MAG_GAAP_i-MAG_GAAP_Z w_MAG_GAAP_u-MAG_GAAP_Y w_MAG_GAAP_g-MAG_GAAP_Y w_MAG_GAAP_r-MAG_GAAP_Y w_MAG_GAAP_i-MAG_GAAP_Y w_MAG_GAAP_Z-MAG_GAAP_Y w_MAG_GAAP_u-MAG_GAAP_J w_MAG_GAAP_g-MAG_GAAP_J w_MAG_GAAP_r-MAG_GAAP_J w_MAG_GAAP_i-MAG_GAAP_J w_MAG_GAAP_Z-MAG_GAAP_J w_MAG_GAAP_Y-MAG_GAAP_J w_MAG_GAAP_u-MAG_GAAP_H w_MAG_GAAP_g-MAG_GAAP_H w_MAG_GAAP_r-MAG_GAAP_H w_MAG_GAAP_i-MAG_GAAP_H w_MAG_GAAP_Z-MAG_GAAP_H w_MAG_GAAP_Y-MAG_GAAP_H w_MAG_GAAP_J-MAG_GAAP_H w_MAG_GAAP_u-MAG_GAAP_Ks w_MAG_GAAP_g-MAG_GAAP_Ks w_MAG_GAAP_r-MAG_GAAP_Ks w_MAG_GAAP_i-MAG_GAAP_Ks w_MAG_GAAP_Z-MAG_GAAP_Ks w_MAG_GAAP_Y-MAG_GAAP_Ks w_MAG_GAAP_J-MAG_GAAP_Ks w_MAG_GAAP_H-MAG_GAAP_Ks\n",
       "                                                mag        mag        deg        deg        deg         deg        mag          mag           ct           ct                      mag          mag           ct           ct                      mag          mag           ct           ct                      mag          mag           ct           ct                      mag          mag           ct           ct                      mag          mag           ct           ct                      mag          mag           ct           ct                      mag          mag           ct           ct                       mag          mag            ct             ct                             mag                   mag                   mag                   mag                   mag                   mag                   mag                   mag                   mag                   mag                   mag                   mag                   mag                   mag                   mag                   mag                   mag                   mag                   mag                   mag                   mag                   mag                   mag                   mag                   mag                   mag                   mag                   mag                   mag                    mag                    mag                    mag                    mag                    mag                    mag                    mag                     mag                     mag                     mag                     mag                     mag                     mag                     mag                     mag                     mag                     mag                     mag                     mag                     mag                     mag                     mag                     mag                     mag                     mag                     mag                     mag                     mag                     mag                     mag                     mag                     mag                     mag                     mag                     mag                     mag                      mag                      mag                      mag                      mag                      mag                      mag                      mag           \n",
       "int32  int32   int32         bytes25          float32    float32    float64    float64    float64     float64    float32      float32      float32      float32        int16     float32      float32      float32      float32        int16     float32      float32      float32      float32        int16     float32      float32      float32      float32        int16     float32      float32      float32      float32        int16     float32      float32      float32      float32        int16     float32      float32      float32      float32        int16     float32      float32      float32      float32        int16      float32      float32       float32        float32        int16            float32               float32               float32               float32               float32               float32               float32               float32               float32               float32               float32               float32               float32               float32               float32               float32               float32               float32               float32               float32               float32               float32               float32               float32               float32               float32               float32               float32               float32                float32                float32                float32                float32                float32                float32                float32                 float64                 float64                 float64                 float64                 float64                 float64                 float64                 float64                 float64                 float64                 float64                 float64                 float64                 float64                 float64                 float64                 float64                 float64                 float64                 float64                 float64                 float64                 float64                 float64                 float64                 float64                 float64                 float64                 float64                  float64                  float64                  float64                  float64                  float64                  float64                  float64         \n",
       "----- -------- ----- ------------------------ -------- ----------- ---------- --------- ----------- ----------- ---------- ------------- ----------- -------------- ----------- ---------- ------------- ----------- -------------- ----------- ---------- ------------- ----------- -------------- ----------- ---------- ------------- ----------- -------------- ----------- ---------- ------------- ----------- -------------- ----------- ---------- ------------- ----------- -------------- ----------- ---------- ------------- ----------- -------------- ----------- ---------- ------------- ----------- -------------- ----------- ----------- -------------- ------------ --------------- ------------ --------------------- --------------------- --------------------- --------------------- --------------------- --------------------- --------------------- --------------------- --------------------- --------------------- --------------------- --------------------- --------------------- --------------------- --------------------- --------------------- --------------------- --------------------- --------------------- --------------------- --------------------- --------------------- --------------------- --------------------- --------------------- --------------------- --------------------- --------------------- ---------------------- ---------------------- ---------------------- ---------------------- ---------------------- ---------------------- ---------------------- ---------------------- ----------------------- ----------------------- ----------------------- ----------------------- ----------------------- ----------------------- ----------------------- ----------------------- ----------------------- ----------------------- ----------------------- ----------------------- ----------------------- ----------------------- ----------------------- ----------------------- ----------------------- ----------------------- ----------------------- ----------------------- ----------------------- ----------------------- ----------------------- ----------------------- ----------------------- ----------------------- ----------------------- ----------------------- ------------------------ ------------------------ ------------------------ ------------------------ ------------------------ ------------------------ ------------------------ ------------------------\n",
       "    1 55071011  7667 KIDS_J083427.36-015753.4 24.96544   0.2316225 128.613994 -1.964857  128.613994   -1.964857       99.0      6.722888  1.0562e-11       6.54e-11           0  24.549961    0.21909648  1.3925e-10       2.81e-11           0  24.421225    0.20971318  1.6153e-10       3.12e-11           0  23.927616    0.30297685   2.616e-10        7.3e-11           0   23.71167      0.553141      316.02          161.0           0  23.100142      0.741575      557.82          381.0           0  24.112928       2.07892    221.8589       424.8053           0  22.594416       1.23558      905.09         1030.0           0   22.575802        1.10735       924.59           943.0            0              74.45004              74.57877             0.1287365              75.07239              0.622345            0.49360847              75.28833            0.83829117             0.7095547             0.2159462              75.89986             1.4498196             1.3210831             0.8274746             0.6115284              74.88707             0.4370327             0.3082962           -0.18531227           -0.40125847            -1.0127869              76.40559             1.9555454             1.8268089             1.3332005             1.1172543            0.50572586             1.5185127              76.424194              1.9741592              1.8454227              1.3518143              1.1358681              0.5243397              1.5371265            0.018613815      136.03312792851366       92.75596828119767     -1.3075816252971149       85.81847559874535     -0.8925587670951213     0.01997708794013255       80.52712448541276      -0.931094215783179    -0.30275044836109816     -0.6724497003699239        75.4322244560625     -0.3339497900717307      0.3994206289086264      0.6072911559142242      1.7014818279910393       69.69648788832957     -1.5683961249017873     -1.3549233434777994     -2.0329204701804553      -2.558197000947717      -5.250656145254845      61.430231125141155    -0.19519348585385204     0.33053625821597266     0.40922784934791073      0.8411790968592546   -0.004175140691691733       4.685763671658286        56.63688207600848      -0.3364203944097938      0.09413831447824883      0.07425655186599092       0.3316496816910661     -0.42870843068488906        2.700510006348258      -0.8882764013938147"
      ]
     },
     "execution_count": 29,
     "metadata": {},
     "output_type": "execute_result"
    }
   ],
   "source": [
    "data[0]"
   ]
  },
  {
   "cell_type": "code",
   "execution_count": null,
   "id": "a93a2ac9-ce4c-4af3-82c5-8708889314aa",
   "metadata": {},
   "outputs": [],
   "source": []
  },
  {
   "cell_type": "code",
   "execution_count": null,
   "id": "95af7295-e8fe-43dd-a422-6a4b51026aa4",
   "metadata": {},
   "outputs": [],
   "source": []
  },
  {
   "cell_type": "code",
   "execution_count": null,
   "id": "52d81f30-f5dc-432d-838d-01a795b49abf",
   "metadata": {},
   "outputs": [],
   "source": []
  },
  {
   "cell_type": "code",
   "execution_count": 30,
   "id": "247e05f7-002e-4d16-aff0-416915e59d73",
   "metadata": {},
   "outputs": [],
   "source": [
    "#-------"
   ]
  },
  {
   "cell_type": "code",
   "execution_count": 65,
   "id": "6e24bca1-9c05-4f78-a960-402ec826d98d",
   "metadata": {
    "scrolled": true,
    "tags": []
   },
   "outputs": [
    {
     "name": "stdout",
     "output_type": "stream",
     "text": [
      "0\n",
      "1\n",
      "2\n",
      "3\n",
      "4\n",
      "5\n",
      "6\n",
      "7\n",
      "8\n",
      "9\n",
      "10\n",
      "11\n",
      "12\n",
      "13\n",
      "14\n",
      "15\n",
      "16\n",
      "17\n",
      "18\n",
      "19\n",
      "20\n",
      "21\n",
      "22\n",
      "23\n",
      "24\n",
      "25\n",
      "26\n",
      "27\n",
      "28\n",
      "29\n",
      "30\n",
      "31\n",
      "32\n",
      "33\n",
      "34\n",
      "35\n"
     ]
    },
    {
     "ename": "KeyboardInterrupt",
     "evalue": "",
     "output_type": "error",
     "traceback": [
      "\u001b[0;31m---------------------------------------------------------------------------\u001b[0m",
      "\u001b[0;31mKeyboardInterrupt\u001b[0m                         Traceback (most recent call last)",
      "\u001b[0;32m/var/folders/0z/gcq4csmx09v81bqd_hmdz6700000gn/T/ipykernel_74834/4057756410.py\u001b[0m in \u001b[0;36m<module>\u001b[0;34m\u001b[0m\n\u001b[0;32m----> 1\u001b[0;31m \u001b[0mhundred_win_map\u001b[0m \u001b[0;34m=\u001b[0m \u001b[0mcreate_win_map\u001b[0m\u001b[0;34m(\u001b[0m\u001b[0mkwst\u001b[0m\u001b[0;34m,\u001b[0m \u001b[0msom\u001b[0m\u001b[0;34m)\u001b[0m\u001b[0;34m\u001b[0m\u001b[0;34m\u001b[0m\u001b[0m\n\u001b[0m",
      "\u001b[0;32m/var/folders/0z/gcq4csmx09v81bqd_hmdz6700000gn/T/ipykernel_74834/3181197836.py\u001b[0m in \u001b[0;36mcreate_win_map\u001b[0;34m(data, som_cells)\u001b[0m\n\u001b[1;32m     26\u001b[0m     \u001b[0;31m# append dictionary cell with index of points_1\u001b[0m\u001b[0;34m\u001b[0m\u001b[0;34m\u001b[0m\u001b[0;34m\u001b[0m\u001b[0m\n\u001b[1;32m     27\u001b[0m     \u001b[0;32mfor\u001b[0m \u001b[0mi\u001b[0m \u001b[0;32min\u001b[0m \u001b[0mrange\u001b[0m\u001b[0;34m(\u001b[0m\u001b[0mlen\u001b[0m\u001b[0;34m(\u001b[0m\u001b[0mdata\u001b[0m\u001b[0;34m)\u001b[0m\u001b[0;34m)\u001b[0m\u001b[0;34m:\u001b[0m\u001b[0;34m\u001b[0m\u001b[0;34m\u001b[0m\u001b[0m\n\u001b[0;32m---> 28\u001b[0;31m         \u001b[0mwin_map\u001b[0m\u001b[0;34m[\u001b[0m\u001b[0mshortest_euclidean_distance\u001b[0m\u001b[0;34m(\u001b[0m\u001b[0mdata\u001b[0m\u001b[0;34m[\u001b[0m\u001b[0mi\u001b[0m\u001b[0;34m]\u001b[0m\u001b[0;34m,\u001b[0m \u001b[0msom_cells\u001b[0m\u001b[0;34m)\u001b[0m\u001b[0;34m]\u001b[0m\u001b[0;34m.\u001b[0m\u001b[0mappend\u001b[0m\u001b[0;34m(\u001b[0m\u001b[0mi\u001b[0m\u001b[0;34m)\u001b[0m\u001b[0;34m\u001b[0m\u001b[0;34m\u001b[0m\u001b[0m\n\u001b[0m\u001b[1;32m     29\u001b[0m         \u001b[0mprint\u001b[0m\u001b[0;34m(\u001b[0m\u001b[0mi\u001b[0m\u001b[0;34m)\u001b[0m\u001b[0;34m\u001b[0m\u001b[0;34m\u001b[0m\u001b[0m\n\u001b[1;32m     30\u001b[0m \u001b[0;34m\u001b[0m\u001b[0m\n",
      "\u001b[0;32m/var/folders/0z/gcq4csmx09v81bqd_hmdz6700000gn/T/ipykernel_74834/3181197836.py\u001b[0m in \u001b[0;36mshortest_euclidean_distance\u001b[0;34m(point_1_full, points_2)\u001b[0m\n\u001b[1;32m    107\u001b[0m                 \u001b[0mpoint_2\u001b[0m \u001b[0;34m=\u001b[0m \u001b[0msom\u001b[0m\u001b[0;34m[\u001b[0m\u001b[0mi\u001b[0m\u001b[0;34m]\u001b[0m\u001b[0;34m[\u001b[0m\u001b[0mj\u001b[0m\u001b[0;34m]\u001b[0m\u001b[0;34m[\u001b[0m\u001b[0mstr\u001b[0m\u001b[0;34m(\u001b[0m\u001b[0mcolors\u001b[0m\u001b[0;34m[\u001b[0m\u001b[0mk\u001b[0m\u001b[0;34m]\u001b[0m\u001b[0;34m)\u001b[0m\u001b[0;34m]\u001b[0m\u001b[0;34m\u001b[0m\u001b[0;34m\u001b[0m\u001b[0m\n\u001b[1;32m    108\u001b[0m \u001b[0;34m\u001b[0m\u001b[0m\n\u001b[0;32m--> 109\u001b[0;31m                 \u001b[0mdistances\u001b[0m\u001b[0;34m[\u001b[0m\u001b[0mi\u001b[0m\u001b[0;34m]\u001b[0m\u001b[0;34m[\u001b[0m\u001b[0mj\u001b[0m\u001b[0;34m]\u001b[0m \u001b[0;34m=\u001b[0m \u001b[0meuclidean_distance\u001b[0m\u001b[0;34m(\u001b[0m\u001b[0mpoint_1\u001b[0m\u001b[0;34m,\u001b[0m \u001b[0mpoint_2\u001b[0m\u001b[0;34m)\u001b[0m\u001b[0;34m\u001b[0m\u001b[0;34m\u001b[0m\u001b[0m\n\u001b[0m\u001b[1;32m    110\u001b[0m \u001b[0;34m\u001b[0m\u001b[0m\n\u001b[1;32m    111\u001b[0m     \u001b[0mwinning_cell\u001b[0m \u001b[0;34m=\u001b[0m \u001b[0munravel_index\u001b[0m\u001b[0;34m(\u001b[0m\u001b[0mnp\u001b[0m\u001b[0;34m.\u001b[0m\u001b[0margmin\u001b[0m\u001b[0;34m(\u001b[0m\u001b[0mdistances\u001b[0m\u001b[0;34m)\u001b[0m\u001b[0;34m,\u001b[0m \u001b[0msom\u001b[0m\u001b[0;34m.\u001b[0m\u001b[0mshape\u001b[0m\u001b[0;34m)\u001b[0m\u001b[0;34m\u001b[0m\u001b[0;34m\u001b[0m\u001b[0m\n",
      "\u001b[0;32m/var/folders/0z/gcq4csmx09v81bqd_hmdz6700000gn/T/ipykernel_74834/3181197836.py\u001b[0m in \u001b[0;36meuclidean_distance\u001b[0;34m(point_1, point_2)\u001b[0m\n\u001b[1;32m     49\u001b[0m \u001b[0;34m\u001b[0m\u001b[0m\n\u001b[1;32m     50\u001b[0m     \u001b[0;31m# converts both points to np.array\u001b[0m\u001b[0;34m\u001b[0m\u001b[0;34m\u001b[0m\u001b[0;34m\u001b[0m\u001b[0m\n\u001b[0;32m---> 51\u001b[0;31m     \u001b[0mpoint_1\u001b[0m \u001b[0;34m=\u001b[0m \u001b[0mnp\u001b[0m\u001b[0;34m.\u001b[0m\u001b[0marray\u001b[0m\u001b[0;34m(\u001b[0m\u001b[0mpoint_1\u001b[0m\u001b[0;34m)\u001b[0m\u001b[0;34m\u001b[0m\u001b[0;34m\u001b[0m\u001b[0m\n\u001b[0m\u001b[1;32m     52\u001b[0m     \u001b[0mpoint_2\u001b[0m \u001b[0;34m=\u001b[0m \u001b[0mnp\u001b[0m\u001b[0;34m.\u001b[0m\u001b[0marray\u001b[0m\u001b[0;34m(\u001b[0m\u001b[0mpoint_2\u001b[0m\u001b[0;34m)\u001b[0m\u001b[0;34m\u001b[0m\u001b[0;34m\u001b[0m\u001b[0m\n\u001b[1;32m     53\u001b[0m \u001b[0;34m\u001b[0m\u001b[0m\n",
      "\u001b[0;31mKeyboardInterrupt\u001b[0m: "
     ]
    }
   ],
   "source": [
    "hundred_win_map = create_win_map(kwst, som)"
   ]
  },
  {
   "cell_type": "code",
   "execution_count": 32,
   "id": "e307f4c0-bc16-4d96-a519-864f564ace10",
   "metadata": {},
   "outputs": [
    {
     "name": "stdout",
     "output_type": "stream",
     "text": [
      "generating occupation map...\n"
     ]
    },
    {
     "data": {
      "image/png": "[encoded data removed]",
      "text/plain": [
       "<Figure size 720x1440 with 2 Axes>"
      ]
     },
     "metadata": {
      "needs_background": "light"
     },
     "output_type": "display_data"
    }
   ],
   "source": [
    "# one hundred galaxies\n",
    "plot_recreate_som(kwst, hundred_win_map, som.shape, plot_occ_map = True)"
   ]
  },
  {
   "cell_type": "code",
   "execution_count": 33,
   "id": "248d4249-aa84-4758-843e-df50711ff91e",
   "metadata": {},
   "outputs": [],
   "source": [
    "# one thousand galaxies (not yet run)\n",
    "#plot_recreate_som(kwst, thousand_win_map, som.shape, plot_occ_map = True)"
   ]
  },
  {
   "cell_type": "markdown",
   "id": "52d43110-d628-43cd-8c49-36de75b8795c",
   "metadata": {},
   "source": [
    "# Are galaxies assigned to the same winning cell?"
   ]
  },
  {
   "cell_type": "code",
   "execution_count": 34,
   "id": "c261e5ca-43ac-4690-9724-b37f3800ca21",
   "metadata": {},
   "outputs": [],
   "source": [
    "# open data file with SOM cell assignment\n",
    "path = '/Users/diana/Research/DESI-SOM/data/KiDS'\n",
    "\n",
    "# import data\n",
    "KiDS1000_win_table = Table.read(f'{path}/KiDS_DR4.1_ugriZYJHKs_SOM_gold_WL_cat_SOMcell.fits')"
   ]
  },
  {
   "cell_type": "code",
   "execution_count": 35,
   "id": "8d929349-bd3c-4b7f-9976-0988b399fa2b",
   "metadata": {},
   "outputs": [
    {
     "name": "stdout",
     "output_type": "stream",
     "text": [
      "(<Column name='Cell_SOM' dtype='int32' length=94>\n",
      "  58\n",
      " 150\n",
      " 174\n",
      " 258\n",
      " 716\n",
      " 963\n",
      "1059\n",
      " ...\n",
      "9310\n",
      "9486\n",
      "9821\n",
      "9923\n",
      "9934\n",
      "9952, array([1, 1, 1, 1, 1, 1, 1, 1, 1, 1, 1, 1, 1, 1, 1, 1, 1, 1, 1, 1, 1, 1,\n",
      "       1, 1, 1, 1, 1, 1, 1, 1, 1, 1, 1, 1, 1, 1, 1, 1, 1, 1, 1, 1, 1, 1,\n",
      "       1, 1, 1, 1, 1, 1, 2, 1, 1, 1, 1, 1, 2, 1, 1, 1, 2, 1, 1, 2, 1, 1,\n",
      "       1, 1, 1, 1, 1, 1, 1, 1, 1, 1, 1, 1, 1, 1, 1, 1, 1, 2, 2, 1, 1, 1,\n",
      "       1, 1, 1, 1, 1, 1]))\n"
     ]
    }
   ],
   "source": [
    "# order unique elements of array and return the number of times that each element \n",
    "# appears in the array\n",
    "unique = np.unique(KiDS1000_win_table['Cell_SOM'][0:n_sample], return_counts = True)\n",
    "print(unique)\n",
    "\n",
    "# if things are working alright, should see that the number of counts per cell should \n",
    "# match the plot above. Currently, we have several cells that are over-populated. "
   ]
  },
  {
   "cell_type": "code",
   "execution_count": 36,
   "id": "afc6681b-b260-4ae6-add9-1d8c00078284",
   "metadata": {},
   "outputs": [],
   "source": [
    "# I'll do this as a loop (sorry Johannes) \n",
    "# generate an empty true map of winners\n",
    "true_win_map = defaultdict(list)\n",
    "\n",
    "for k in hundred_win_map.keys(): \n",
    "    true_win_map[k] = [] "
   ]
  },
  {
   "cell_type": "code",
   "execution_count": 37,
   "id": "e485f74d-8d31-483c-8b91-1f54ced8cccc",
   "metadata": {},
   "outputs": [
    {
     "data": {
      "text/plain": [
       "collections.defaultdict"
      ]
     },
     "execution_count": 37,
     "metadata": {},
     "output_type": "execute_result"
    }
   ],
   "source": [
    "type(true_win_map)"
   ]
  },
  {
   "cell_type": "code",
   "execution_count": 38,
   "id": "6507daf8-54dd-4714-8653-1e658c168b7c",
   "metadata": {},
   "outputs": [],
   "source": [
    "# step-by-step checking of error\n",
    "# print 2D index of winning cell for particular galaxy\n",
    "#print(unravel_index(KiDS1000_win_table[0]['Cell_SOM'], som.shape))\n",
    "\n",
    "# print 1D index of winning cell for particular galaxy\n",
    "#print(KiDS1000_win_table[0]['Cell_SOM'])\n",
    "\n",
    "# append a \"0\" to the list stored in my dictionary of true winners at that particular 2D index\n",
    "#true_win_map[unravel_index(KiDS1000_win_table['Cell_SOM'][0], som.shape)].append(0)\n",
    "#true_win_map[unravel_index(KiDS1000_win_table['Cell_SOM'][1], som.shape)].append(1)\n",
    "# although I've specified to only append the index of the winning galaxy to the specific key, \n",
    "# this instead appends every index of all galaxies to every single key\n",
    "# This might also be related to the over population of certain cells error?\n",
    "\n",
    "#print(true_win_map[unravel_index(KiDS1000_win_table[0]['Cell_SOM'], som.shape)])\n",
    "#print(true_win_map[unravel_index(KiDS1000_win_table[1]['Cell_SOM'], som.shape)])\n",
    "\n",
    "#FIXED!"
   ]
  },
  {
   "cell_type": "code",
   "execution_count": 39,
   "id": "d60a55a5-c68e-436a-991d-95b6f2d23b61",
   "metadata": {},
   "outputs": [],
   "source": [
    "for i in range(len(KiDS1000_win_table[0:n_sample])): \n",
    "    #indices = unravel_index(KiDS1000_win_table[i]['Cell_SOM'], som.shape)\n",
    "    true_win_map[unravel_index(KiDS1000_win_table[i]['Cell_SOM'], som.shape)].append(i)\n",
    "    \n",
    "#print(true_win_map)"
   ]
  },
  {
   "cell_type": "code",
   "execution_count": 40,
   "id": "91e53ae8-5d76-41f4-9335-2af90e76268a",
   "metadata": {},
   "outputs": [
    {
     "name": "stdout",
     "output_type": "stream",
     "text": [
      "Does the generated winners map match the KiDS1000 winning map? False\n"
     ]
    }
   ],
   "source": [
    "# check if two maps are equal\n",
    "print(\"Does the generated winners map match the KiDS1000 winning map?\", hundred_win_map == true_win_map)"
   ]
  },
  {
   "cell_type": "code",
   "execution_count": 41,
   "id": "50710d80-754a-4e18-ab20-c15c4c154825",
   "metadata": {},
   "outputs": [
    {
     "name": "stdout",
     "output_type": "stream",
     "text": [
      "generating occupation map...\n"
     ]
    },
    {
     "data": {
      "image/png": "[encoded data removed]",
      "text/plain": [
       "<Figure size 720x1440 with 2 Axes>"
      ]
     },
     "metadata": {
      "needs_background": "light"
     },
     "output_type": "display_data"
    }
   ],
   "source": [
    "# KiDS-1000 win map of one hundred galaxies\n",
    "plot_recreate_som(kwst, true_win_map, som.shape, plot_occ_map = True)"
   ]
  },
  {
   "cell_type": "code",
   "execution_count": 42,
   "id": "f4ab0e1c-8a27-4db2-9f79-7fb8ef65f72f",
   "metadata": {},
   "outputs": [
    {
     "name": "stdout",
     "output_type": "stream",
     "text": [
      "[71]\n",
      "[]\n"
     ]
    }
   ],
   "source": [
    "print(true_win_map[(0,58)])\n",
    "print(hundred_win_map[(0,58)])"
   ]
  },
  {
   "cell_type": "code",
   "execution_count": null,
   "id": "c302d7bd-9cd0-46de-b4d9-3d9a130d93dc",
   "metadata": {},
   "outputs": [],
   "source": []
  }
 ],
 "metadata": {
  "kernelspec": {
   "display_name": "Python 3 (ipykernel)",
   "language": "python",
   "name": "python3"
  },
  "language_info": {
   "codemirror_mode": {
    "name": "ipython",
    "version": 3
   },
   "file_extension": ".py",
   "mimetype": "text/x-python",
   "name": "python",
   "nbconvert_exporter": "python",
   "pygments_lexer": "ipython3",
   "version": "3.8.9"
  }
 },
 "nbformat": 4,
 "nbformat_minor": 5
}
