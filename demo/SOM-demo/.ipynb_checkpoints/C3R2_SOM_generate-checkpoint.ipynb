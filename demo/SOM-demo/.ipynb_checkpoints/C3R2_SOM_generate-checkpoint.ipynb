{
 "cells": [
  {
   "cell_type": "markdown",
   "id": "6c3f1372-3508-40f2-ac71-5e0c79bbefd9",
   "metadata": {},
   "source": [
    "# C3R2 SOM Generate\n",
    "Generate a SOM for C3R2 from scratch.\n",
    "Note: perhaps rename."
   ]
  },
  {
   "cell_type": "code",
   "execution_count": 1,
   "id": "00c72839-75d9-4626-affd-0a006f0bce40",
   "metadata": {},
   "outputs": [],
   "source": [
    "from astropy.table import Table\n",
    "\n",
    "import sys\n",
    "sys.path.append('/opt/anaconda3/lib/python3.8/site-packages') #minisom location"
   ]
  },
  {
   "cell_type": "code",
   "execution_count": null,
   "id": "522509e4-a2d4-49c5-aeed-227f5e715e78",
   "metadata": {},
   "outputs": [],
   "source": [
    "# data path \n",
    "path = '/Users/diana/Research/DESI-SOM/data/Specz'\n",
    "\n",
    "# import data\n",
    "c3r2_cosmos_table = Table.read(f'{path}/lensing_cosmos_extended.fits')\n",
    "c3r2_vvds_table = Table.read(f'{path}/lensing_vvds_extended.fits')"
   ]
  }
 ],
 "metadata": {
  "kernelspec": {
   "display_name": "Python 3 (ipykernel)",
   "language": "python",
   "name": "python3"
  },
  "language_info": {
   "codemirror_mode": {
    "name": "ipython",
    "version": 3
   },
   "file_extension": ".py",
   "mimetype": "text/x-python",
   "name": "python",
   "nbconvert_exporter": "python",
   "pygments_lexer": "ipython3",
   "version": "3.8.9"
  }
 },
 "nbformat": 4,
 "nbformat_minor": 5
}
