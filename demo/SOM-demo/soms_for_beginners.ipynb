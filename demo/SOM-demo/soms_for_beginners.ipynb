{
 "cells": [
  {
   "cell_type": "markdown",
   "id": "32993b0b-9c23-489d-b60a-c8912c3e2756",
   "metadata": {},
   "source": [
    "# SOMs for Beginners\n",
    "The following notebook contains an elementary SOM for learning purposes. \n",
    "The data: \n",
    "* c0_gen_nomag.hdf5\n",
    "* c1_gen_nomag.hdf5 \n",
    "* c2_gen_nomag.hdf5\n",
    "* c3_gen_nomag.hdf5 \n",
    "\n",
    "The above contain the mags for different tomographic redshift bins. \n",
    "Path: \n",
    "\n",
    "`/Users/diana/Research/DESI-SOM/data/Other` (Change to be the path where you are storing your data. It's good book-keeping.) \n",
    "    \n",
    "Other things to note: \n",
    "* Each cell in the SOM (for the photo-z callibration) represents a galaxy phenotype. \n",
    "* Tomographic bins refer to populations of galaxies with similar properties (like, colors, SEDs), rather than directly similar spectroscopic redshifts. "
   ]
  },
  {
   "cell_type": "code",
   "execution_count": 1,
   "id": "76311348-9760-470e-af03-c00725927120",
   "metadata": {},
   "outputs": [],
   "source": [
    "# import functions\n",
    "\n",
    "import sys\n",
    "sys.path.append('/opt/anaconda3/lib/python3.8/site-packages') # minisom location\n",
    "                                                              # might need to change \n",
    "                                                              # if minisom can't be found\n",
    "\n",
    "from astropy.table import Table, vstack\n",
    "\n",
    "import h5py\n",
    "\n",
    "import matplotlib.pyplot as plt\n",
    "%matplotlib inline\n",
    "\n",
    "from minisom import MiniSom\n",
    "\n",
    "import numpy as np\n",
    "\n",
    "from unittest import mock"
   ]
  },
  {
   "cell_type": "code",
   "execution_count": 2,
   "id": "9435fa38-5dbd-4571-9dff-065929f83fbe",
   "metadata": {},
   "outputs": [],
   "source": [
    "# data path \n",
    "path = '/Users/diana/Research/DESI-SOM/data/Other'\n",
    "\n",
    "c0_gen = h5py.File(f'{path}/c0_gen_nomag.hdf5', 'r')\n",
    "c1_gen = h5py.File(f'{path}/c1_gen_nomag.hdf5', 'r')\n",
    "c2_gen = h5py.File(f'{path}/c2_gen_nomag.hdf5', 'r')\n",
    "c3_gen = h5py.File(f'{path}/c3_gen_nomag.hdf5', 'r')"
   ]
  },
  {
   "cell_type": "code",
   "execution_count": 3,
   "id": "fd72e53e-b0cf-42d4-b649-8f840340a3d7",
   "metadata": {},
   "outputs": [
    {
     "name": "stdout",
     "output_type": "stream",
     "text": [
      "['catalog', 'catalog.__table_column_meta__']\n",
      "<HDF5 dataset \"catalog.__table_column_meta__\": shape (17,), type \"|S38\">\n"
     ]
    }
   ],
   "source": [
    "# list keys\n",
    "print(list(c0_gen.keys()))\n",
    "print(c0_gen['catalog.__table_column_meta__'])"
   ]
  },
  {
   "cell_type": "code",
   "execution_count": 4,
   "id": "1cd71b7e-5b0d-4b9f-bee3-7c51c74ac942",
   "metadata": {},
   "outputs": [],
   "source": [
    "# convert into np arrays for ease of access \n",
    "c0_gen_rows = np.array(c0_gen['catalog'][:])\n",
    "c1_gen_rows = np.array(c1_gen['catalog'][:])\n",
    "c2_gen_rows = np.array(c2_gen['catalog'][:])\n",
    "c3_gen_rows = np.array(c3_gen['catalog'][:])"
   ]
  },
  {
   "cell_type": "code",
   "execution_count": 5,
   "id": "29250601-a0ad-442b-9135-6726a1383fc6",
   "metadata": {},
   "outputs": [],
   "source": [
    "# convert to astropy Table for even easier access...\n",
    "c0_gen = Table(rows=c0_gen_rows, names=('ztrue', 'mu', 'gamma_1', 'gamma_2', 'ra', 'dec', 'mag', 'z_fib_mag', 'r_fib_mag', 'random_2', 'g_1', 'g_2', 'e_1', 'e_2', 'z', 'w'))\n",
    "c1_gen = Table(rows=c1_gen_rows, names=('ztrue', 'mu', 'gamma_1', 'gamma_2', 'ra', 'dec', 'mag', 'z_fib_mag', 'r_fib_mag', 'random_2', 'g_1', 'g_2', 'e_1', 'e_2', 'z', 'w'))\n",
    "c2_gen = Table(rows=c2_gen_rows, names=('ztrue', 'mu', 'gamma_1', 'gamma_2', 'ra', 'dec', 'mag', 'z_fib_mag', 'r_fib_mag', 'random_2', 'g_1', 'g_2', 'e_1', 'e_2', 'z', 'w'))\n",
    "c3_gen = Table(rows=c3_gen_rows, names=('ztrue', 'mu', 'gamma_1', 'gamma_2', 'ra', 'dec', 'mag', 'z_fib_mag', 'r_fib_mag', 'random_2', 'g_1', 'g_2', 'e_1', 'e_2', 'z', 'w'))"
   ]
  },
  {
   "cell_type": "code",
   "execution_count": 6,
   "id": "b871d205-83ab-4945-a213-0a139f713f5b",
   "metadata": {},
   "outputs": [],
   "source": [
    "# vertically stack datasets \n",
    "c_gen = vstack([c0_gen, c1_gen, c2_gen, c3_gen])"
   ]
  },
  {
   "cell_type": "code",
   "execution_count": 7,
   "id": "97da7dc5-4462-460c-84ba-c582c87a8fc9",
   "metadata": {},
   "outputs": [],
   "source": [
    "target = c_gen['ztrue']\n",
    "c_gen_data = c_gen['mag']"
   ]
  },
  {
   "cell_type": "code",
   "execution_count": 8,
   "id": "1b0d2691-744e-4157-a6a0-aafee7fc4054",
   "metadata": {},
   "outputs": [
    {
     "name": "stdout",
     "output_type": "stream",
     "text": [
      "[[-5.8301735  -5.7676663  -5.4662313  ... -5.2435064  -3.7976618\n",
      "  -3.8107374 ]\n",
      " [-3.4747841  -3.149224   -2.8333085  ... -2.5478761  -1.4826025\n",
      "  -1.5583926 ]\n",
      " [-2.746842   -2.0637076  -1.6535805  ... -1.1148759  -0.11858828\n",
      "  -0.3130964 ]\n",
      " ...\n",
      " [ 0.88992274  1.1842724   1.0708268  ...  1.1423187   0.86672497\n",
      "   0.8788134 ]\n",
      " [ 0.6524971   1.0099058   0.98446184 ...  1.121809    0.64534676\n",
      "   0.60851353]\n",
      " [ 1.7208978   1.4836047   1.1401154  ...  1.158445    0.9244251\n",
      "   0.95705086]]\n"
     ]
    }
   ],
   "source": [
    "# data normalization\n",
    "c_gen_data = np.array((c_gen_data - np.mean(c_gen_data, axis=0)) / np.std(c_gen_data, axis=0))\n",
    "print(c_gen_data)"
   ]
  },
  {
   "cell_type": "code",
   "execution_count": 9,
   "id": "994fe920-6548-40f8-9ea7-68b8b67af3b0",
   "metadata": {},
   "outputs": [
    {
     "data": {
      "text/plain": [
       "7"
      ]
     },
     "execution_count": 9,
     "metadata": {},
     "output_type": "execute_result"
    }
   ],
   "source": [
    "# shape of data\n",
    "c_gen_data.shape[1]"
   ]
  },
  {
   "cell_type": "code",
   "execution_count": 10,
   "id": "e91fb7c7-c4c3-43a2-b65d-bdb23c51d29c",
   "metadata": {},
   "outputs": [
    {
     "name": "stdout",
     "output_type": "stream",
     "text": [
      " [ 10000 / 10000 ] 100% - 0:00:00 left \n",
      " quantization error: 0.3458912002299412\n"
     ]
    }
   ],
   "source": [
    "# initialization and training\n",
    "n_neurons = 20\n",
    "m_neurons = 20\n",
    "\n",
    "som = MiniSom(n_neurons, m_neurons, c_gen_data.shape[1], sigma=1.5, learning_rate=.5, \n",
    "              neighborhood_function='gaussian', random_seed=0)\n",
    "som.pca_weights_init(c_gen_data) # initializes weights to span th first two principal components\n",
    "som.train(c_gen_data, 10000, verbose=True)"
   ]
  },
  {
   "cell_type": "code",
   "execution_count": 11,
   "id": "0c3fc906-e4ab-47a3-8f7f-690253cc7c51",
   "metadata": {},
   "outputs": [
    {
     "data": {
      "image/png": "[encoded data removed]",
      "text/plain": [
       "<Figure size 576x576 with 2 Axes>"
      ]
     },
     "metadata": {
      "needs_background": "light"
     },
     "output_type": "display_data"
    }
   ],
   "source": [
    "plt.figure(figsize=(8, 8))\n",
    "\n",
    "plt.pcolor(som.distance_map(), cmap='viridis')  # plotting the distance map as background\n",
    "\n",
    "plt.colorbar()\n",
    "\n",
    "plt.show()"
   ]
  },
  {
   "cell_type": "code",
   "execution_count": 12,
   "id": "26fe1a3a-7e5e-4ec2-8f61-55087ab62209",
   "metadata": {},
   "outputs": [],
   "source": [
    "win_map = som.win_map(c_gen_data, return_indices = True) # returns a dictionary with all indices of the elements \n",
    "                                                         # that have been mapped to the position (i,j) "
   ]
  },
  {
   "cell_type": "code",
   "execution_count": 13,
   "id": "da6cd145-9c5d-4743-9ee6-8648c7948334",
   "metadata": {},
   "outputs": [
    {
     "name": "stderr",
     "output_type": "stream",
     "text": [
      "/Users/diana/Library/Python/3.8/lib/python/site-packages/numpy/core/fromnumeric.py:3438: RuntimeWarning: Mean of empty slice.\n",
      "  return mean(axis=axis, dtype=dtype, out=out, **kwargs)\n",
      "/Users/diana/Library/Python/3.8/lib/python/site-packages/numpy/core/_methods.py:189: RuntimeWarning: invalid value encountered in true_divide\n",
      "  ret = ret.dtype.type(ret / rcount)\n"
     ]
    }
   ],
   "source": [
    "# create empty \"map\" to hold mean z true \n",
    "mean_z_map = np.zeros(som.distance_map().shape)\n",
    "#print(mean_z_map)\n",
    "\n",
    "for iy, ix in np.ndindex(mean_z_map.shape): \n",
    "    #print(mean_z_map[iy, ix]) \n",
    "    mean_z_map[iy, ix] = np.mean(c_gen[win_map[(iy, ix)]]['ztrue'])"
   ]
  },
  {
   "cell_type": "code",
   "execution_count": 14,
   "id": "94e30db2-40ea-4349-9aea-f8c0dc9d5e45",
   "metadata": {},
   "outputs": [
    {
     "data": {
      "image/png": "[encoded data removed]",
      "text/plain": [
       "<Figure size 504x504 with 2 Axes>"
      ]
     },
     "metadata": {
      "needs_background": "light"
     },
     "output_type": "display_data"
    }
   ],
   "source": [
    "plt.figure(figsize=(7, 7))\n",
    "\n",
    "plt.pcolor(som.distance_map(), cmap='viridis')  # plotting the distance map as background\n",
    "\n",
    "cbar = plt.colorbar()\n",
    "cbar.set_label('euclidean distance') # distance between neuron and neighboring cells "
   ]
  },
  {
   "cell_type": "code",
   "execution_count": 15,
   "id": "09c13bab-2f4c-4301-a20a-2f3c72a55540",
   "metadata": {
    "tags": []
   },
   "outputs": [
    {
     "data": {
      "image/png": "[encoded data removed]",
      "text/plain": [
       "<Figure size 504x504 with 2 Axes>"
      ]
     },
     "metadata": {
      "needs_background": "light"
     },
     "output_type": "display_data"
    }
   ],
   "source": [
    "plt.figure(figsize=(7, 7))\n",
    "\n",
    "plt.pcolor(mean_z_map, cmap='viridis')  # plotting the mean true zs in each tomographic bin\n",
    "\n",
    "cbar = plt.colorbar()\n",
    "cbar.set_label('mean true z') "
   ]
  },
  {
   "cell_type": "code",
   "execution_count": 16,
   "id": "4ad6df38-4fc7-403f-8550-6b8100b5ace0",
   "metadata": {
    "tags": []
   },
   "outputs": [],
   "source": [
    "# now, rather than using the magnitudes, use the colors? \n",
    "# mags are HSC g,r,i,z,y,w1,w2\n",
    "#               0,1,2,3,4,5 ,6"
   ]
  },
  {
   "cell_type": "code",
   "execution_count": 20,
   "id": "498b6956-dd35-4ffb-ba7f-26a680e6a40a",
   "metadata": {
    "tags": []
   },
   "outputs": [],
   "source": [
    "c_gen_data = c_gen['mag']"
   ]
  },
  {
   "cell_type": "code",
   "execution_count": 21,
   "id": "261ae9a8-fdf8-4d3e-b1d8-fc7b734c56bd",
   "metadata": {
    "tags": []
   },
   "outputs": [],
   "source": [
    "#print(c_gen_data[0])\n",
    "#print(c_gen_data[0][0] - c_gen_data[0][1])\n",
    "#print(len(c_gen_data))\n",
    "#length = len(c_gen_data)\n",
    "#width = len(c_gen_data[0])\n",
    "#print(width)\n",
    "#c_gen_colors = np.zeros((length, width - 1)) # generate an empty array with dimensions we want\n",
    "\n",
    "#for i, obj "
   ]
  },
  {
   "cell_type": "code",
   "execution_count": 34,
   "id": "5cff2d9e-1fa5-458a-85f9-5e928fac1627",
   "metadata": {
    "tags": []
   },
   "outputs": [],
   "source": [
    "# create table or giant list with colors\n",
    "c_gen_colors = np.zeros((298658, 6))\n",
    "for i, obj in enumerate(c_gen_data): \n",
    "    for j, color in enumerate(c_gen_colors[i]): \n",
    "        c_gen_colors[i][j] = (c_gen_data[i][j]-c_gen_data[i][j+1])"
   ]
  },
  {
   "cell_type": "code",
   "execution_count": 35,
   "id": "bdd23373-73e6-43b4-9975-f794e886dfa0",
   "metadata": {},
   "outputs": [
    {
     "data": {
      "text/plain": [
       "array([18.476446, 17.39126 , 16.994602, 16.72616 , 16.619293, 16.804579,\n",
       "       17.122272], dtype=float32)"
      ]
     },
     "execution_count": 35,
     "metadata": {},
     "output_type": "execute_result"
    }
   ],
   "source": [
    "c_gen_data[0]"
   ]
  },
  {
   "cell_type": "code",
   "execution_count": 36,
   "id": "4c44c137-beca-4330-939d-0a69cfa87e15",
   "metadata": {},
   "outputs": [
    {
     "name": "stdout",
     "output_type": "stream",
     "text": [
      "[[ 0.29658854 -0.82241516 -0.37762853 -0.26041443 -1.57779972  0.67873401]\n",
      " [-0.73642434 -1.16677411 -1.02397871 -0.69246401 -1.77778457  0.89522551]\n",
      " [-1.93064861 -1.72849543 -2.4608476  -1.49308589 -2.25604441  1.75134732]\n",
      " ...\n",
      " [-1.00805563  0.41646424 -0.24664102 -0.91954266  0.23571783 -0.23517586]\n",
      " [-1.1876107   0.01683614 -0.63921789 -0.92537894  0.80569128  0.23346338]\n",
      " [ 0.60512282  1.47759284 -0.03412484 -0.6634476   0.11218874 -0.42669994]]\n"
     ]
    }
   ],
   "source": [
    "# data normalization\n",
    "c_gen_colors = np.array((c_gen_colors - np.mean(c_gen_colors, axis=0)) / np.std(c_gen_colors, axis=0))\n",
    "print(c_gen_colors)"
   ]
  },
  {
   "cell_type": "code",
   "execution_count": 42,
   "id": "eae5af43-50b8-454b-9c53-326472f9aede",
   "metadata": {},
   "outputs": [
    {
     "name": "stdout",
     "output_type": "stream",
     "text": [
      " [ 100000 / 100000 ] 100% - 0:00:00 left \n",
      " quantization error: 0.5069928185832304\n"
     ]
    }
   ],
   "source": [
    "# initialization and training\n",
    "n_neurons = 25\n",
    "m_neurons = 25\n",
    "\n",
    "som = MiniSom(n_neurons, m_neurons, c_gen_colors.shape[1], sigma=1.5, learning_rate=.5, \n",
    "              neighborhood_function='gaussian', random_seed=0)\n",
    "som.pca_weights_init(c_gen_colors) # initializes weights to span th first two principal components\n",
    "som.train(c_gen_colors, 100000, verbose=True)"
   ]
  },
  {
   "cell_type": "code",
   "execution_count": 43,
   "id": "cb079f8e-1461-4c2e-9ea4-242fec086b59",
   "metadata": {},
   "outputs": [],
   "source": [
    "win_map = som.win_map(c_gen_colors, return_indices = True) # returns a dictionary with all indices of the elements \n",
    "                                                         # that have been mapped to the position (i,j) "
   ]
  },
  {
   "cell_type": "code",
   "execution_count": 44,
   "id": "a5b10629-12fb-4e70-9e67-92cc379be518",
   "metadata": {},
   "outputs": [],
   "source": [
    "# create empty \"map\" to hold mean z true \n",
    "mean_z_map = np.zeros(som.distance_map().shape)\n",
    "#print(mean_z_map)\n",
    "\n",
    "for iy, ix in np.ndindex(mean_z_map.shape): \n",
    "    #print(mean_z_map[iy, ix]) \n",
    "    mean_z_map[iy, ix] = np.mean(c_gen[win_map[(iy, ix)]]['ztrue'])"
   ]
  },
  {
   "cell_type": "code",
   "execution_count": 45,
   "id": "2a7a2d04-2a79-4897-b92d-c82e87ec595b",
   "metadata": {},
   "outputs": [
    {
     "data": {
      "image/png": "[encoded data removed]",
      "text/plain": [
       "<Figure size 504x504 with 2 Axes>"
      ]
     },
     "metadata": {
      "needs_background": "light"
     },
     "output_type": "display_data"
    }
   ],
   "source": [
    "plt.figure(figsize=(7, 7))\n",
    "\n",
    "plt.pcolor(som.distance_map(), cmap='viridis')  # plotting the distance map as background\n",
    "\n",
    "cbar = plt.colorbar()\n",
    "cbar.set_label('euclidean distance') # distance between neuron and neighboring cells "
   ]
  },
  {
   "cell_type": "code",
   "execution_count": 46,
   "id": "cf7c58a4-e918-4ab7-8d07-88f404d23e7e",
   "metadata": {},
   "outputs": [
    {
     "data": {
      "image/png": "[encoded data removed]",
      "text/plain": [
       "<Figure size 504x504 with 2 Axes>"
      ]
     },
     "metadata": {
      "needs_background": "light"
     },
     "output_type": "display_data"
    }
   ],
   "source": [
    "plt.figure(figsize=(7, 7))\n",
    "\n",
    "plt.pcolor(mean_z_map, cmap='viridis')  # plotting the mean true zs in each tomographic bin\n",
    "\n",
    "cbar = plt.colorbar()\n",
    "cbar.set_label('mean true z') "
   ]
  },
  {
   "cell_type": "code",
   "execution_count": null,
   "id": "f2024967-369c-4d9b-be6a-18759c5512dc",
   "metadata": {},
   "outputs": [],
   "source": []
  }
 ],
 "metadata": {
  "kernelspec": {
   "display_name": "Python 3 (ipykernel)",
   "language": "python",
   "name": "python3"
  },
  "language_info": {
   "codemirror_mode": {
    "name": "ipython",
    "version": 3
   },
   "file_extension": ".py",
   "mimetype": "text/x-python",
   "name": "python",
   "nbconvert_exporter": "python",
   "pygments_lexer": "ipython3",
   "version": "3.8.9"
  }
 },
 "nbformat": 4,
 "nbformat_minor": 5
}
