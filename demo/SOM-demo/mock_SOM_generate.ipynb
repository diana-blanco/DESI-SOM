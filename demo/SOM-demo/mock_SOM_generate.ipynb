{
 "cells": [
  {
   "cell_type": "markdown",
   "id": "507dd3dd-28bc-4773-80da-b75a864b5c9f",
   "metadata": {},
   "source": [
    "# Mock SOM Generate\n",
    "The following notebook generates an elementary SOM from mock data.  \n",
    "The data: \n",
    "* c0_gen_nomag.hdf5\n",
    "* c1_gen_nomag.hdf5 \n",
    "* c2_gen_nomag.hdf5\n",
    "* c3_gen_nomag.hdf5 \n",
    "\n",
    "The above contain the magnitudes (mags) for different tomographic redshift bins. \n",
    "\n",
    "Path: \n",
    "\n",
    "`/Users/diana/Research/DESI-SOM/data/Other` (Change to be the path where you are storing your data. It's good book-keeping.) \n",
    "    \n",
    "Other things to note: \n",
    "* Each cell in the SOM (for the photo-z callibration) represents a galaxy phenotype. \n",
    "* Tomographic bins refer to populations of galaxies with similar properties (like, colors, Spectral Energy Distributionss), rather than galaxies with similar spectroscopic redshifts. "
   ]
  },
  {
   "cell_type": "code",
   "execution_count": 1,
   "id": "4ca9249d-434b-489a-bd34-4ce21791a3bf",
   "metadata": {},
   "outputs": [],
   "source": [
    "# import functions\n",
    "# please install all of the modules below! :) \n",
    "\n",
    "import sys\n",
    "sys.path.append('/opt/anaconda3/lib/python3.8/site-packages') # minisom location\n",
    "                                                              # might need to change \n",
    "                                                              # if minisom can't be found\n",
    "\n",
    "from astropy.table import Table, vstack\n",
    "\n",
    "import h5py\n",
    "\n",
    "import matplotlib.pyplot as plt\n",
    "%matplotlib inline\n",
    "\n",
    "from minisom import MiniSom\n",
    "\n",
    "import numpy as np\n",
    "\n",
    "from unittest import mock"
   ]
  },
  {
   "cell_type": "code",
   "execution_count": 2,
   "id": "745c9c9f-4536-4bd3-a7be-339bc9d320f1",
   "metadata": {},
   "outputs": [],
   "source": [
    "# data path \n",
    "path = '/Users/diana/Research/DESI-SOM/data/Other'\n",
    "\n",
    "c0_gen = h5py.File(f'{path}/c0_gen_nomag.hdf5', 'r')\n",
    "c1_gen = h5py.File(f'{path}/c1_gen_nomag.hdf5', 'r')\n",
    "c2_gen = h5py.File(f'{path}/c2_gen_nomag.hdf5', 'r')\n",
    "c3_gen = h5py.File(f'{path}/c3_gen_nomag.hdf5', 'r')"
   ]
  },
  {
   "cell_type": "code",
   "execution_count": 3,
   "id": "626cd56d-ce44-4ba3-a264-31f6d325be86",
   "metadata": {},
   "outputs": [],
   "source": [
    "# convert into np arrays for ease of access \n",
    "c0_gen_rows = np.array(c0_gen['catalog'][:])\n",
    "c1_gen_rows = np.array(c1_gen['catalog'][:])\n",
    "c2_gen_rows = np.array(c2_gen['catalog'][:])\n",
    "c3_gen_rows = np.array(c3_gen['catalog'][:])"
   ]
  },
  {
   "cell_type": "code",
   "execution_count": 4,
   "id": "61b83f4d-948b-40e8-b967-4d6052d80a18",
   "metadata": {},
   "outputs": [],
   "source": [
    "# convert to astropy Table for even easier access...\n",
    "c0_gen = Table(rows=c0_gen_rows, names=('ztrue', 'mu', 'gamma_1', 'gamma_2', 'ra', 'dec', 'mag', 'z_fib_mag', 'r_fib_mag', 'random_2', 'g_1', 'g_2', 'e_1', 'e_2', 'z', 'w'))\n",
    "c1_gen = Table(rows=c1_gen_rows, names=('ztrue', 'mu', 'gamma_1', 'gamma_2', 'ra', 'dec', 'mag', 'z_fib_mag', 'r_fib_mag', 'random_2', 'g_1', 'g_2', 'e_1', 'e_2', 'z', 'w'))\n",
    "c2_gen = Table(rows=c2_gen_rows, names=('ztrue', 'mu', 'gamma_1', 'gamma_2', 'ra', 'dec', 'mag', 'z_fib_mag', 'r_fib_mag', 'random_2', 'g_1', 'g_2', 'e_1', 'e_2', 'z', 'w'))\n",
    "c3_gen = Table(rows=c3_gen_rows, names=('ztrue', 'mu', 'gamma_1', 'gamma_2', 'ra', 'dec', 'mag', 'z_fib_mag', 'r_fib_mag', 'random_2', 'g_1', 'g_2', 'e_1', 'e_2', 'z', 'w'))"
   ]
  },
  {
   "cell_type": "code",
   "execution_count": 5,
   "id": "c266bd45-0a27-4707-9051-3e83c93404e3",
   "metadata": {},
   "outputs": [],
   "source": [
    "# vertically stack datasets \n",
    "c_gen = vstack([c0_gen, c1_gen, c2_gen, c3_gen])"
   ]
  },
  {
   "cell_type": "code",
   "execution_count": 6,
   "id": "8c6a618e-327e-4635-ada3-82934a8d81f9",
   "metadata": {},
   "outputs": [],
   "source": [
    "c_gen_data = c_gen['mag'] # magnitudes ugrizyJ\n"
   ]
  },
  {
   "cell_type": "code",
   "execution_count": 7,
   "id": "f9ea87a4-6f7b-48bb-b980-a97917747a81",
   "metadata": {},
   "outputs": [
    {
     "data": {
      "text/plain": [
       "[array([18.476446, 17.39126 , 16.994602, 16.72616 , 16.619293, 16.804579,\n",
       "        17.122272], dtype=float32),\n",
       " array([21.494303, 20.838547, 20.539503, 20.41491 , 20.348001, 20.652435,\n",
       "        20.929064], dtype=float32)]"
      ]
     },
     "execution_count": 7,
     "metadata": {},
     "output_type": "execute_result"
    }
   ],
   "source": [
    "list(c_gen_data[0:2])"
   ]
  },
  {
   "cell_type": "code",
   "execution_count": 8,
   "id": "b1551128-fd77-436e-838b-33dc4989d3bb",
   "metadata": {},
   "outputs": [],
   "source": [
    "# data normalization\n",
    "c_gen_data = np.array((c_gen_data - np.mean(c_gen_data, axis=0)) / np.std(c_gen_data, axis=0))"
   ]
  },
  {
   "cell_type": "code",
   "execution_count": 9,
   "id": "5159f659-e142-4ae8-aecc-fbc016f2be12",
   "metadata": {},
   "outputs": [
    {
     "name": "stdout",
     "output_type": "stream",
     "text": [
      " [ 10000 / 10000 ] 100% - 0:00:00 left \n",
      " quantization error: 0.3458912002299412\n"
     ]
    }
   ],
   "source": [
    "# initialization and training\n",
    "n_neurons = 20\n",
    "m_neurons = 20\n",
    "\n",
    "som = MiniSom(n_neurons, m_neurons, c_gen_data.shape[1], sigma=1.5, learning_rate=.5, \n",
    "              neighborhood_function='gaussian', random_seed=0)\n",
    "som.pca_weights_init(c_gen_data) # initializes weights to span th first two principal components\n",
    "som.train(c_gen_data, 10000, verbose=True)\n",
    "\n",
    "# what is this cell doing? "
   ]
  },
  {
   "cell_type": "code",
   "execution_count": 10,
   "id": "cdb41d83-5e01-417a-9430-fd04acf8fcb8",
   "metadata": {},
   "outputs": [
    {
     "data": {
      "image/png": "[encoded data removed]",
      "text/plain": [
       "<Figure size 576x576 with 2 Axes>"
      ]
     },
     "metadata": {
      "needs_background": "light"
     },
     "output_type": "display_data"
    }
   ],
   "source": [
    "plt.figure(figsize=(8, 8))\n",
    "\n",
    "plt.pcolor(som.distance_map(), cmap='viridis')  # plotting the distance map as background\n",
    "\n",
    "plt.colorbar()\n",
    "\n",
    "plt.show()\n",
    "\n",
    "# what is being shown here? "
   ]
  },
  {
   "cell_type": "code",
   "execution_count": 11,
   "id": "47a49a82-8774-400e-ab83-39d6e7614471",
   "metadata": {},
   "outputs": [],
   "source": [
    "win_map = som.win_map(c_gen_data, return_indices = True) # returns a dictionary with all indices of the elements \n",
    "                                                         # that have been mapped to the position (i,j) "
   ]
  },
  {
   "cell_type": "code",
   "execution_count": 12,
   "id": "15ef477b-a42c-4ec2-aecc-e984d32ae608",
   "metadata": {},
   "outputs": [
    {
     "name": "stderr",
     "output_type": "stream",
     "text": [
      "/Users/diana/Library/Python/3.8/lib/python/site-packages/numpy/core/fromnumeric.py:3438: RuntimeWarning: Mean of empty slice.\n",
      "  return mean(axis=axis, dtype=dtype, out=out, **kwargs)\n",
      "/Users/diana/Library/Python/3.8/lib/python/site-packages/numpy/core/_methods.py:189: RuntimeWarning: invalid value encountered in true_divide\n",
      "  ret = ret.dtype.type(ret / rcount)\n"
     ]
    }
   ],
   "source": [
    "# create empty \"map\" to hold mean z true \n",
    "mean_z_map = np.zeros(som.distance_map().shape)\n",
    "#print(mean_z_map)\n",
    "\n",
    "for iy, ix in np.ndindex(mean_z_map.shape): \n",
    "    #print(mean_z_map[iy, ix]) \n",
    "    mean_z_map[iy, ix] = np.mean(c_gen[win_map[(iy, ix)]]['ztrue'])"
   ]
  },
  {
   "cell_type": "code",
   "execution_count": 13,
   "id": "13fe3d1c-b3ad-4700-9669-2710503b15d1",
   "metadata": {},
   "outputs": [
    {
     "data": {
      "image/png": "[encoded data removed]",
      "text/plain": [
       "<Figure size 504x504 with 2 Axes>"
      ]
     },
     "metadata": {
      "needs_background": "light"
     },
     "output_type": "display_data"
    }
   ],
   "source": [
    "plt.figure(figsize=(7, 7))\n",
    "\n",
    "plt.pcolor(mean_z_map, cmap='viridis')  # plotting the mean true zs in each tomographic bin\n",
    "\n",
    "cbar = plt.colorbar()\n",
    "cbar.set_label('mean true z') \n",
    "\n",
    "# what is being shown here? (in a physical sense :)"
   ]
  },
  {
   "cell_type": "code",
   "execution_count": 14,
   "id": "87b79ffe-6a5d-4267-9243-354d1c066d49",
   "metadata": {},
   "outputs": [],
   "source": [
    "# now, rather than using the magnitudes, repeat the same procedure using the galaxy \n",
    "# \"colors\" rather than the magnitudes!"
   ]
  }
 ],
 "metadata": {
  "kernelspec": {
   "display_name": "Python 3 (ipykernel)",
   "language": "python",
   "name": "python3"
  },
  "language_info": {
   "codemirror_mode": {
    "name": "ipython",
    "version": 3
   },
   "file_extension": ".py",
   "mimetype": "text/x-python",
   "name": "python",
   "nbconvert_exporter": "python",
   "pygments_lexer": "ipython3",
   "version": "3.8.9"
  }
 },
 "nbformat": 4,
 "nbformat_minor": 5
}
